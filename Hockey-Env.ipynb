{
 "cells": [
  {
   "cell_type": "code",
   "execution_count": 1,
   "metadata": {
    "ExecuteTime": {
     "end_time": "2023-08-06T09:50:57.173010Z",
     "start_time": "2023-08-06T09:50:57.020693Z"
    }
   },
   "outputs": [
    {
     "name": "stdout",
     "output_type": "stream",
     "text": [
      "hi\n"
     ]
    }
   ],
   "source": [
    "import numpy as np\n",
    "import hockey.hockey_env as h_env\n",
    "import gymnasium as gym\n",
    "from importlib import reload\n",
    "import time\n",
    "print(\"hi\")"
   ]
  },
  {
   "cell_type": "code",
   "execution_count": 2,
   "metadata": {
    "ExecuteTime": {
     "end_time": "2023-08-06T09:50:57.395437Z",
     "start_time": "2023-08-06T09:50:57.391762Z"
    }
   },
   "outputs": [],
   "source": [
    "np.set_printoptions(suppress=True)"
   ]
  },
  {
   "cell_type": "code",
   "execution_count": 3,
   "metadata": {
    "ExecuteTime": {
     "end_time": "2023-08-06T09:50:57.740940Z",
     "start_time": "2023-08-06T09:50:57.722052Z"
    }
   },
   "outputs": [],
   "source": [
    "# reload(h_env)"
   ]
  },
  {
   "cell_type": "markdown",
   "metadata": {
    "ExecuteTime": {
     "end_time": "2018-12-20T21:03:35.086427Z",
     "start_time": "2018-12-20T21:03:35.082123Z"
    }
   },
   "source": [
    "# Normal Game Play"
   ]
  },
  {
   "cell_type": "code",
   "execution_count": 4,
   "metadata": {
    "ExecuteTime": {
     "end_time": "2023-08-06T09:39:16.240266Z",
     "start_time": "2023-08-06T09:39:16.231831Z"
    }
   },
   "outputs": [],
   "source": [
    "env = h_env.HockeyEnv()"
   ]
  },
  {
   "cell_type": "markdown",
   "metadata": {},
   "source": [
    "have a look at the initialization condition: alternating who starts and are random in puck position"
   ]
  },
  {
   "cell_type": "code",
   "execution_count": 5,
   "metadata": {
    "ExecuteTime": {
     "end_time": "2023-08-06T09:39:17.533706Z",
     "start_time": "2023-08-06T09:39:17.182784Z"
    }
   },
   "outputs": [],
   "source": [
    "# obs, info = env.reset()\n",
    "# obs_agent2 = env.obs_agent_two()\n",
    "# _ = env.render()\n",
    "# env.close()"
   ]
  },
  {
   "cell_type": "markdown",
   "metadata": {},
   "source": [
    "one episode with random agents"
   ]
  },
  {
   "cell_type": "code",
   "execution_count": 6,
   "metadata": {
    "ExecuteTime": {
     "end_time": "2023-08-06T09:39:27.019132Z",
     "start_time": "2023-08-06T09:39:21.973217Z"
    }
   },
   "outputs": [
    {
     "name": "stdout",
     "output_type": "stream",
     "text": [
      "{'winner': 0, 'reward_closeness_to_puck': -0.25592717814223315, 'reward_touch_puck': 0.0, 'reward_puck_direction': 0.0}\n",
      "{'winner': 0, 'reward_closeness_to_puck': -0.2545119257392045, 'reward_touch_puck': 0.0, 'reward_puck_direction': 0.0}\n",
      "{'winner': 0, 'reward_closeness_to_puck': -0.2533003164801126, 'reward_touch_puck': 0.0, 'reward_puck_direction': 0.0}\n",
      "{'winner': 0, 'reward_closeness_to_puck': -0.2513970739119207, 'reward_touch_puck': 0.0, 'reward_puck_direction': 0.0}\n",
      "{'winner': 0, 'reward_closeness_to_puck': -0.251404092490907, 'reward_touch_puck': 0.0, 'reward_puck_direction': 0.0}\n",
      "{'winner': 0, 'reward_closeness_to_puck': -0.25162506940233975, 'reward_touch_puck': 0.0, 'reward_puck_direction': 0.0}\n",
      "{'winner': 0, 'reward_closeness_to_puck': -0.24985624674168588, 'reward_touch_puck': 0.0, 'reward_puck_direction': 0.0}\n",
      "{'winner': 0, 'reward_closeness_to_puck': -0.2492481468027738, 'reward_touch_puck': 0.0, 'reward_puck_direction': 0.0}\n",
      "{'winner': 0, 'reward_closeness_to_puck': -0.24730923715071781, 'reward_touch_puck': 0.0, 'reward_puck_direction': 0.0}\n",
      "{'winner': 0, 'reward_closeness_to_puck': -0.24744898781260197, 'reward_touch_puck': 0.0, 'reward_puck_direction': 0.0}\n",
      "{'winner': 0, 'reward_closeness_to_puck': -0.24766872752199395, 'reward_touch_puck': 0.0, 'reward_puck_direction': 0.0}\n",
      "{'winner': 0, 'reward_closeness_to_puck': -0.2467931678464278, 'reward_touch_puck': 0.0, 'reward_puck_direction': 0.0}\n",
      "{'winner': 0, 'reward_closeness_to_puck': -0.24580971917733552, 'reward_touch_puck': 0.0, 'reward_puck_direction': 0.0}\n",
      "{'winner': 0, 'reward_closeness_to_puck': -0.24545715332103327, 'reward_touch_puck': 0.0, 'reward_puck_direction': 0.0}\n",
      "{'winner': 0, 'reward_closeness_to_puck': -0.24422655889810507, 'reward_touch_puck': 0.0, 'reward_puck_direction': 0.0}\n",
      "{'winner': 0, 'reward_closeness_to_puck': -0.2427945255831857, 'reward_touch_puck': 0.0, 'reward_puck_direction': 0.0}\n",
      "{'winner': 0, 'reward_closeness_to_puck': -0.2432308171122295, 'reward_touch_puck': 0.0, 'reward_puck_direction': 0.0}\n",
      "{'winner': 0, 'reward_closeness_to_puck': -0.2453611356389551, 'reward_touch_puck': 0.0, 'reward_puck_direction': 0.0}\n",
      "{'winner': 0, 'reward_closeness_to_puck': -0.24932965759900105, 'reward_touch_puck': 0.0, 'reward_puck_direction': 0.0}\n",
      "{'winner': 0, 'reward_closeness_to_puck': -0.25108643067575387, 'reward_touch_puck': 0.0, 'reward_puck_direction': 0.0}\n",
      "{'winner': 0, 'reward_closeness_to_puck': -0.25244900217191907, 'reward_touch_puck': 0.0, 'reward_puck_direction': 0.0}\n",
      "{'winner': 0, 'reward_closeness_to_puck': -0.2543250351685191, 'reward_touch_puck': 0.0, 'reward_puck_direction': 0.0}\n",
      "{'winner': 0, 'reward_closeness_to_puck': -0.25505456084734407, 'reward_touch_puck': 0.0, 'reward_puck_direction': 0.0}\n",
      "{'winner': 0, 'reward_closeness_to_puck': -0.2526122506653973, 'reward_touch_puck': 0.0, 'reward_puck_direction': 0.0}\n",
      "{'winner': 0, 'reward_closeness_to_puck': -0.24975538858384924, 'reward_touch_puck': 0.0, 'reward_puck_direction': 0.0}\n",
      "{'winner': 0, 'reward_closeness_to_puck': -0.24864850594326246, 'reward_touch_puck': 0.0, 'reward_puck_direction': 0.0}\n",
      "{'winner': 0, 'reward_closeness_to_puck': -0.2505558016350236, 'reward_touch_puck': 0.0, 'reward_puck_direction': 0.0}\n",
      "{'winner': 0, 'reward_closeness_to_puck': -0.25089487244447445, 'reward_touch_puck': 0.0, 'reward_puck_direction': 0.0}\n",
      "{'winner': 0, 'reward_closeness_to_puck': -0.2512311410553953, 'reward_touch_puck': 0.0, 'reward_puck_direction': 0.0}\n",
      "{'winner': 0, 'reward_closeness_to_puck': -0.2524266222885454, 'reward_touch_puck': 0.0, 'reward_puck_direction': 0.0}\n",
      "{'winner': 0, 'reward_closeness_to_puck': -0.2542681034086495, 'reward_touch_puck': 0.0, 'reward_puck_direction': 0.0}\n",
      "{'winner': 0, 'reward_closeness_to_puck': -0.25520257997479756, 'reward_touch_puck': 0.0, 'reward_puck_direction': 0.0}\n",
      "{'winner': 0, 'reward_closeness_to_puck': -0.25562522815688243, 'reward_touch_puck': 0.0, 'reward_puck_direction': 0.0}\n",
      "{'winner': 0, 'reward_closeness_to_puck': -0.2569206359395118, 'reward_touch_puck': 0.0, 'reward_puck_direction': 0.0}\n",
      "{'winner': 0, 'reward_closeness_to_puck': -0.25658443120014324, 'reward_touch_puck': 0.0, 'reward_puck_direction': 0.0}\n",
      "{'winner': 0, 'reward_closeness_to_puck': -0.2544547674577496, 'reward_touch_puck': 0.0, 'reward_puck_direction': 0.0}\n",
      "{'winner': 0, 'reward_closeness_to_puck': -0.25462302249377716, 'reward_touch_puck': 0.0, 'reward_puck_direction': 0.0}\n",
      "{'winner': 0, 'reward_closeness_to_puck': -0.252157207034648, 'reward_touch_puck': 0.0, 'reward_puck_direction': 0.0}\n",
      "{'winner': 0, 'reward_closeness_to_puck': -0.2500236543377719, 'reward_touch_puck': 0.0, 'reward_puck_direction': 0.0}\n",
      "{'winner': 0, 'reward_closeness_to_puck': -0.24709570811597517, 'reward_touch_puck': 0.0, 'reward_puck_direction': 0.0}\n",
      "{'winner': 0, 'reward_closeness_to_puck': -0.24257857207840466, 'reward_touch_puck': 0.0, 'reward_puck_direction': 0.0}\n",
      "{'winner': 0, 'reward_closeness_to_puck': -0.23673704575358576, 'reward_touch_puck': 0.0, 'reward_puck_direction': 0.0}\n",
      "{'winner': 0, 'reward_closeness_to_puck': -0.23356555085683683, 'reward_touch_puck': 0.0, 'reward_puck_direction': 0.0}\n",
      "{'winner': 0, 'reward_closeness_to_puck': -0.23161405979734703, 'reward_touch_puck': 0.0, 'reward_puck_direction': 0.0}\n",
      "{'winner': 0, 'reward_closeness_to_puck': -0.22916181578852762, 'reward_touch_puck': 0.0, 'reward_puck_direction': 0.0}\n",
      "{'winner': 0, 'reward_closeness_to_puck': -0.2265530542717563, 'reward_touch_puck': 0.0, 'reward_puck_direction': 0.0}\n",
      "{'winner': 0, 'reward_closeness_to_puck': -0.22417747881111658, 'reward_touch_puck': 0.0, 'reward_puck_direction': 0.0}\n",
      "{'winner': 0, 'reward_closeness_to_puck': -0.22155279310128773, 'reward_touch_puck': 0.0, 'reward_puck_direction': 0.0}\n",
      "{'winner': 0, 'reward_closeness_to_puck': -0.21818003974869518, 'reward_touch_puck': 0.0, 'reward_puck_direction': 0.0}\n",
      "{'winner': 0, 'reward_closeness_to_puck': -0.2154547608016489, 'reward_touch_puck': 0.0, 'reward_puck_direction': 0.0}\n",
      "{'winner': 0, 'reward_closeness_to_puck': -0.21323300068962617, 'reward_touch_puck': 0.0, 'reward_puck_direction': 0.0}\n",
      "{'winner': 0, 'reward_closeness_to_puck': -0.21312853254216432, 'reward_touch_puck': 0.0, 'reward_puck_direction': 0.0}\n",
      "{'winner': 0, 'reward_closeness_to_puck': -0.21357920371914044, 'reward_touch_puck': 0.0, 'reward_puck_direction': 0.0}\n",
      "{'winner': 0, 'reward_closeness_to_puck': -0.2126699978561836, 'reward_touch_puck': 0.0, 'reward_puck_direction': 0.0}\n",
      "{'winner': 0, 'reward_closeness_to_puck': -0.21337970325901803, 'reward_touch_puck': 0.0, 'reward_puck_direction': 0.0}\n",
      "{'winner': 0, 'reward_closeness_to_puck': -0.2132640990076756, 'reward_touch_puck': 0.0, 'reward_puck_direction': 0.0}\n",
      "{'winner': 0, 'reward_closeness_to_puck': -0.2143688975552709, 'reward_touch_puck': 0.0, 'reward_puck_direction': 0.0}\n",
      "{'winner': 0, 'reward_closeness_to_puck': -0.21709778240179414, 'reward_touch_puck': 0.0, 'reward_puck_direction': 0.0}\n",
      "{'winner': 0, 'reward_closeness_to_puck': -0.22052261742846066, 'reward_touch_puck': 0.0, 'reward_puck_direction': 0.0}\n",
      "{'winner': 0, 'reward_closeness_to_puck': -0.2232641488798914, 'reward_touch_puck': 0.0, 'reward_puck_direction': 0.0}\n",
      "{'winner': 0, 'reward_closeness_to_puck': -0.22466549253988236, 'reward_touch_puck': 0.0, 'reward_puck_direction': 0.0}\n",
      "{'winner': 0, 'reward_closeness_to_puck': -0.22517887633883563, 'reward_touch_puck': 0.0, 'reward_puck_direction': 0.0}\n",
      "{'winner': 0, 'reward_closeness_to_puck': -0.22506724430869562, 'reward_touch_puck': 0.0, 'reward_puck_direction': 0.0}\n",
      "{'winner': 0, 'reward_closeness_to_puck': -0.22282392718289212, 'reward_touch_puck': 0.0, 'reward_puck_direction': 0.0}\n",
      "{'winner': 0, 'reward_closeness_to_puck': -0.22147687852009804, 'reward_touch_puck': 0.0, 'reward_puck_direction': 0.0}\n",
      "{'winner': 0, 'reward_closeness_to_puck': -0.2205164410286577, 'reward_touch_puck': 0.0, 'reward_puck_direction': 0.0}\n",
      "{'winner': 0, 'reward_closeness_to_puck': -0.21757293086835527, 'reward_touch_puck': 0.0, 'reward_puck_direction': 0.0}\n",
      "{'winner': 0, 'reward_closeness_to_puck': -0.21422499189281993, 'reward_touch_puck': 0.0, 'reward_puck_direction': 0.0}\n",
      "{'winner': 0, 'reward_closeness_to_puck': -0.2116190285417762, 'reward_touch_puck': 0.0, 'reward_puck_direction': 0.0}\n",
      "{'winner': 0, 'reward_closeness_to_puck': -0.20875900127749705, 'reward_touch_puck': 0.0, 'reward_puck_direction': 0.0}\n",
      "{'winner': 0, 'reward_closeness_to_puck': -0.20659787490285428, 'reward_touch_puck': 0.0, 'reward_puck_direction': 0.0}\n",
      "{'winner': 0, 'reward_closeness_to_puck': -0.20457810459125772, 'reward_touch_puck': 0.0, 'reward_puck_direction': 0.0}\n",
      "{'winner': 0, 'reward_closeness_to_puck': -0.20306128782835012, 'reward_touch_puck': 0.0, 'reward_puck_direction': 0.0}\n",
      "{'winner': 0, 'reward_closeness_to_puck': -0.20267199639137218, 'reward_touch_puck': 0.0, 'reward_puck_direction': 0.0}\n",
      "{'winner': 0, 'reward_closeness_to_puck': -0.20169366503930333, 'reward_touch_puck': 0.0, 'reward_puck_direction': 0.0}\n",
      "{'winner': 0, 'reward_closeness_to_puck': -0.20016670948404536, 'reward_touch_puck': 0.0, 'reward_puck_direction': 0.0}\n",
      "{'winner': 0, 'reward_closeness_to_puck': -0.19702327692522037, 'reward_touch_puck': 0.0, 'reward_puck_direction': 0.0}\n",
      "{'winner': 0, 'reward_closeness_to_puck': -0.19258401132607703, 'reward_touch_puck': 0.0, 'reward_puck_direction': 0.0}\n",
      "{'winner': 0, 'reward_closeness_to_puck': -0.1872077274718507, 'reward_touch_puck': 0.0, 'reward_puck_direction': 0.0}\n",
      "{'winner': 0, 'reward_closeness_to_puck': -0.18205116866463383, 'reward_touch_puck': 0.0, 'reward_puck_direction': 0.0}\n",
      "{'winner': 0, 'reward_closeness_to_puck': -0.17714045679725574, 'reward_touch_puck': 0.0, 'reward_puck_direction': 0.0}\n",
      "{'winner': 0, 'reward_closeness_to_puck': -0.1720626910725486, 'reward_touch_puck': 0.0, 'reward_puck_direction': 0.0}\n",
      "{'winner': 0, 'reward_closeness_to_puck': -0.16923358224012644, 'reward_touch_puck': 0.0, 'reward_puck_direction': 0.0}\n",
      "{'winner': 0, 'reward_closeness_to_puck': -0.16538378103116122, 'reward_touch_puck': 0.0, 'reward_puck_direction': 0.0}\n",
      "{'winner': 0, 'reward_closeness_to_puck': -0.1627712187268986, 'reward_touch_puck': 0.0, 'reward_puck_direction': 0.0}\n",
      "{'winner': 0, 'reward_closeness_to_puck': -0.16147918877840461, 'reward_touch_puck': 0.0, 'reward_puck_direction': 0.0}\n",
      "{'winner': 0, 'reward_closeness_to_puck': -0.16057915282342664, 'reward_touch_puck': 0.0, 'reward_puck_direction': 0.0}\n",
      "{'winner': 0, 'reward_closeness_to_puck': -0.16161721646951321, 'reward_touch_puck': 0.0, 'reward_puck_direction': 0.0}\n",
      "{'winner': 0, 'reward_closeness_to_puck': -0.16309134239002465, 'reward_touch_puck': 0.0, 'reward_puck_direction': 0.0}\n",
      "{'winner': 0, 'reward_closeness_to_puck': -0.1637841454232868, 'reward_touch_puck': 0.0, 'reward_puck_direction': 0.0}\n",
      "{'winner': 0, 'reward_closeness_to_puck': -0.165186444284886, 'reward_touch_puck': 0.0, 'reward_puck_direction': 0.0}\n",
      "{'winner': 0, 'reward_closeness_to_puck': -0.16667386750295843, 'reward_touch_puck': 0.0, 'reward_puck_direction': 0.0}\n",
      "{'winner': 0, 'reward_closeness_to_puck': -0.16842484604537475, 'reward_touch_puck': 0.0, 'reward_puck_direction': 0.0}\n",
      "{'winner': 0, 'reward_closeness_to_puck': -0.17046709291982673, 'reward_touch_puck': 0.0, 'reward_puck_direction': 0.0}\n",
      "{'winner': 0, 'reward_closeness_to_puck': -0.173354748667723, 'reward_touch_puck': 0.0, 'reward_puck_direction': 0.0}\n",
      "{'winner': 0, 'reward_closeness_to_puck': -0.17722245859223074, 'reward_touch_puck': 0.0, 'reward_puck_direction': 0.0}\n",
      "{'winner': 0, 'reward_closeness_to_puck': -0.17938530910150988, 'reward_touch_puck': 0.0, 'reward_puck_direction': 0.0}\n",
      "{'winner': 0, 'reward_closeness_to_puck': -0.1829808732449703, 'reward_touch_puck': 0.0, 'reward_puck_direction': 0.0}\n",
      "{'winner': 0, 'reward_closeness_to_puck': -0.1863491570546303, 'reward_touch_puck': 0.0, 'reward_puck_direction': 0.0}\n",
      "{'winner': 0, 'reward_closeness_to_puck': -0.18970738020928055, 'reward_touch_puck': 0.0, 'reward_puck_direction': 0.0}\n",
      "{'winner': 0, 'reward_closeness_to_puck': -0.1927432835304418, 'reward_touch_puck': 0.0, 'reward_puck_direction': 0.0}\n",
      "{'winner': 0, 'reward_closeness_to_puck': -0.1958887379952632, 'reward_touch_puck': 0.0, 'reward_puck_direction': 0.0}\n",
      "{'winner': 0, 'reward_closeness_to_puck': -0.19723722994037118, 'reward_touch_puck': 0.0, 'reward_puck_direction': 0.0}\n",
      "{'winner': 0, 'reward_closeness_to_puck': -0.20009015812897005, 'reward_touch_puck': 0.0, 'reward_puck_direction': 0.0}\n",
      "{'winner': 0, 'reward_closeness_to_puck': -0.20431904636355522, 'reward_touch_puck': 0.0, 'reward_puck_direction': 0.0}\n",
      "{'winner': 0, 'reward_closeness_to_puck': -0.20833734636421833, 'reward_touch_puck': 0.0, 'reward_puck_direction': 0.0}\n",
      "{'winner': 0, 'reward_closeness_to_puck': -0.20984844222732135, 'reward_touch_puck': 0.0, 'reward_puck_direction': 0.0}\n",
      "{'winner': 0, 'reward_closeness_to_puck': -0.20859775453651808, 'reward_touch_puck': 0.0, 'reward_puck_direction': 0.0}\n",
      "{'winner': 0, 'reward_closeness_to_puck': -0.20670819957572356, 'reward_touch_puck': 0.0, 'reward_puck_direction': 0.0}\n",
      "{'winner': 0, 'reward_closeness_to_puck': -0.20713813399846723, 'reward_touch_puck': 0.0, 'reward_puck_direction': 0.0}\n",
      "{'winner': 0, 'reward_closeness_to_puck': -0.20751047753778903, 'reward_touch_puck': 0.0, 'reward_puck_direction': 0.0}\n",
      "{'winner': 0, 'reward_closeness_to_puck': -0.2081066740388968, 'reward_touch_puck': 0.0, 'reward_puck_direction': 0.0}\n",
      "{'winner': 0, 'reward_closeness_to_puck': -0.20784801898322133, 'reward_touch_puck': 0.0, 'reward_puck_direction': 0.0}\n",
      "{'winner': 0, 'reward_closeness_to_puck': -0.2051238928740874, 'reward_touch_puck': 0.0, 'reward_puck_direction': 0.0}\n",
      "{'winner': 0, 'reward_closeness_to_puck': -0.2015283733493643, 'reward_touch_puck': 0.0, 'reward_puck_direction': 0.0}\n",
      "{'winner': 0, 'reward_closeness_to_puck': -0.19813292746023128, 'reward_touch_puck': 0.0, 'reward_puck_direction': 0.0}\n",
      "{'winner': 0, 'reward_closeness_to_puck': -0.19390080435288992, 'reward_touch_puck': 0.0, 'reward_puck_direction': 0.0}\n",
      "{'winner': 0, 'reward_closeness_to_puck': -0.19038941237253712, 'reward_touch_puck': 0.0, 'reward_puck_direction': 0.0}\n",
      "{'winner': 0, 'reward_closeness_to_puck': -0.18664135178185418, 'reward_touch_puck': 0.0, 'reward_puck_direction': 0.0}\n",
      "{'winner': 0, 'reward_closeness_to_puck': -0.1840791261571575, 'reward_touch_puck': 0.0, 'reward_puck_direction': 0.0}\n",
      "{'winner': 0, 'reward_closeness_to_puck': -0.17923476066665012, 'reward_touch_puck': 0.0, 'reward_puck_direction': 0.0}\n",
      "{'winner': 0, 'reward_closeness_to_puck': -0.176801554124418, 'reward_touch_puck': 0.0, 'reward_puck_direction': 0.0}\n",
      "{'winner': 0, 'reward_closeness_to_puck': -0.1748846240056789, 'reward_touch_puck': 0.0, 'reward_puck_direction': 0.0}\n",
      "{'winner': 0, 'reward_closeness_to_puck': -0.17173224599433312, 'reward_touch_puck': 0.0, 'reward_puck_direction': 0.0}\n",
      "{'winner': 0, 'reward_closeness_to_puck': -0.17210413787718074, 'reward_touch_puck': 0.0, 'reward_puck_direction': 0.0}\n",
      "{'winner': 0, 'reward_closeness_to_puck': -0.17290904179211605, 'reward_touch_puck': 0.0, 'reward_puck_direction': 0.0}\n",
      "{'winner': 0, 'reward_closeness_to_puck': -0.17414970465779905, 'reward_touch_puck': 0.0, 'reward_puck_direction': 0.0}\n",
      "{'winner': 0, 'reward_closeness_to_puck': -0.17517233793534412, 'reward_touch_puck': 0.0, 'reward_puck_direction': 0.0}\n",
      "{'winner': 0, 'reward_closeness_to_puck': -0.17632625813735409, 'reward_touch_puck': 0.0, 'reward_puck_direction': 0.0}\n",
      "{'winner': 0, 'reward_closeness_to_puck': -0.1766319385364021, 'reward_touch_puck': 0.0, 'reward_puck_direction': 0.0}\n",
      "{'winner': 0, 'reward_closeness_to_puck': -0.17800333455319892, 'reward_touch_puck': 0.0, 'reward_puck_direction': 0.0}\n",
      "{'winner': 0, 'reward_closeness_to_puck': -0.17748674828332967, 'reward_touch_puck': 0.0, 'reward_puck_direction': 0.0}\n",
      "{'winner': 0, 'reward_closeness_to_puck': -0.17909025990502295, 'reward_touch_puck': 0.0, 'reward_puck_direction': 0.0}\n",
      "{'winner': 0, 'reward_closeness_to_puck': -0.17929602339685938, 'reward_touch_puck': 0.0, 'reward_puck_direction': 0.0}\n",
      "{'winner': 0, 'reward_closeness_to_puck': -0.18049222858196717, 'reward_touch_puck': 0.0, 'reward_puck_direction': 0.0}\n",
      "{'winner': 0, 'reward_closeness_to_puck': -0.18191855349953598, 'reward_touch_puck': 0.0, 'reward_puck_direction': 0.0}\n",
      "{'winner': 0, 'reward_closeness_to_puck': -0.18203303177128677, 'reward_touch_puck': 0.0, 'reward_puck_direction': 0.0}\n",
      "{'winner': 0, 'reward_closeness_to_puck': -0.18130327207179162, 'reward_touch_puck': 0.0, 'reward_puck_direction': 0.0}\n",
      "{'winner': 0, 'reward_closeness_to_puck': -0.180530702081123, 'reward_touch_puck': 0.0, 'reward_puck_direction': 0.0}\n",
      "{'winner': 0, 'reward_closeness_to_puck': -0.18075978118332758, 'reward_touch_puck': 0.0, 'reward_puck_direction': 0.0}\n",
      "{'winner': 0, 'reward_closeness_to_puck': -0.18255788413684104, 'reward_touch_puck': 0.0, 'reward_puck_direction': 0.0}\n",
      "{'winner': 0, 'reward_closeness_to_puck': -0.18234328142358622, 'reward_touch_puck': 0.0, 'reward_puck_direction': 0.0}\n",
      "{'winner': 0, 'reward_closeness_to_puck': -0.18213528713620883, 'reward_touch_puck': 0.0, 'reward_puck_direction': 0.0}\n",
      "{'winner': 0, 'reward_closeness_to_puck': -0.18220817340937415, 'reward_touch_puck': 0.0, 'reward_puck_direction': 0.0}\n",
      "{'winner': 0, 'reward_closeness_to_puck': -0.1834894071840382, 'reward_touch_puck': 0.0, 'reward_puck_direction': 0.0}\n",
      "{'winner': 0, 'reward_closeness_to_puck': -0.18595882719015086, 'reward_touch_puck': 0.0, 'reward_puck_direction': 0.0}\n",
      "{'winner': 0, 'reward_closeness_to_puck': -0.1877452751214734, 'reward_touch_puck': 0.0, 'reward_puck_direction': 0.0}\n",
      "{'winner': 0, 'reward_closeness_to_puck': -0.18938604623217742, 'reward_touch_puck': 0.0, 'reward_puck_direction': 0.0}\n",
      "{'winner': 0, 'reward_closeness_to_puck': -0.19097796923470572, 'reward_touch_puck': 0.0, 'reward_puck_direction': 0.0}\n",
      "{'winner': 0, 'reward_closeness_to_puck': -0.19129128129361353, 'reward_touch_puck': 0.0, 'reward_puck_direction': 0.0}\n",
      "{'winner': 0, 'reward_closeness_to_puck': -0.19053403037841066, 'reward_touch_puck': 0.0, 'reward_puck_direction': 0.0}\n",
      "{'winner': 0, 'reward_closeness_to_puck': -0.19074064102822083, 'reward_touch_puck': 0.0, 'reward_puck_direction': 0.0}\n",
      "{'winner': 0, 'reward_closeness_to_puck': -0.1919605782185534, 'reward_touch_puck': 0.0, 'reward_puck_direction': 0.0}\n",
      "{'winner': 0, 'reward_closeness_to_puck': -0.1925522028308977, 'reward_touch_puck': 0.0, 'reward_puck_direction': 0.0}\n",
      "{'winner': 0, 'reward_closeness_to_puck': -0.19213968648706609, 'reward_touch_puck': 0.0, 'reward_puck_direction': 0.0}\n",
      "{'winner': 0, 'reward_closeness_to_puck': -0.1926587997049259, 'reward_touch_puck': 0.0, 'reward_puck_direction': 0.0}\n",
      "{'winner': 0, 'reward_closeness_to_puck': -0.1923487287562767, 'reward_touch_puck': 0.0, 'reward_puck_direction': 0.0}\n",
      "{'winner': 0, 'reward_closeness_to_puck': -0.1931745889887518, 'reward_touch_puck': 0.0, 'reward_puck_direction': 0.0}\n",
      "{'winner': 0, 'reward_closeness_to_puck': -0.19482975625809432, 'reward_touch_puck': 0.0, 'reward_puck_direction': 0.0}\n",
      "{'winner': 0, 'reward_closeness_to_puck': -0.19521761082400219, 'reward_touch_puck': 0.0, 'reward_puck_direction': 0.0}\n",
      "{'winner': 0, 'reward_closeness_to_puck': -0.19499884780086746, 'reward_touch_puck': 0.0, 'reward_puck_direction': 0.0}\n",
      "{'winner': 0, 'reward_closeness_to_puck': -0.19552761272520003, 'reward_touch_puck': 0.0, 'reward_puck_direction': 0.0}\n",
      "{'winner': 0, 'reward_closeness_to_puck': -0.1954062186290782, 'reward_touch_puck': 0.0, 'reward_puck_direction': 0.0}\n",
      "{'winner': 0, 'reward_closeness_to_puck': -0.19591223232634675, 'reward_touch_puck': 0.0, 'reward_puck_direction': 0.0}\n",
      "{'winner': 0, 'reward_closeness_to_puck': -0.19671571015377157, 'reward_touch_puck': 0.0, 'reward_puck_direction': 0.0}\n",
      "{'winner': 0, 'reward_closeness_to_puck': -0.19786121149496488, 'reward_touch_puck': 0.0, 'reward_puck_direction': 0.0}\n",
      "{'winner': 0, 'reward_closeness_to_puck': -0.19867935822423477, 'reward_touch_puck': 0.0, 'reward_puck_direction': 0.0}\n",
      "{'winner': 0, 'reward_closeness_to_puck': -0.19843533528734558, 'reward_touch_puck': 0.0, 'reward_puck_direction': 0.0}\n",
      "{'winner': 0, 'reward_closeness_to_puck': -0.1996858733360693, 'reward_touch_puck': 0.0, 'reward_puck_direction': 0.0}\n",
      "{'winner': 0, 'reward_closeness_to_puck': -0.20099724053638246, 'reward_touch_puck': 0.0, 'reward_puck_direction': 0.0}\n",
      "{'winner': 0, 'reward_closeness_to_puck': -0.20136103744991382, 'reward_touch_puck': 0.0, 'reward_puck_direction': 0.0}\n",
      "{'winner': 0, 'reward_closeness_to_puck': -0.20278936030285505, 'reward_touch_puck': 0.0, 'reward_puck_direction': 0.0}\n",
      "{'winner': 0, 'reward_closeness_to_puck': -0.2044415679179087, 'reward_touch_puck': 0.0, 'reward_puck_direction': 0.0}\n",
      "{'winner': 0, 'reward_closeness_to_puck': -0.20481126026678442, 'reward_touch_puck': 0.0, 'reward_puck_direction': 0.0}\n",
      "{'winner': 0, 'reward_closeness_to_puck': -0.20422222093847361, 'reward_touch_puck': 0.0, 'reward_puck_direction': 0.0}\n",
      "{'winner': 0, 'reward_closeness_to_puck': -0.2045425109084945, 'reward_touch_puck': 0.0, 'reward_puck_direction': 0.0}\n",
      "{'winner': 0, 'reward_closeness_to_puck': -0.20480945433327122, 'reward_touch_puck': 0.0, 'reward_puck_direction': 0.0}\n",
      "{'winner': 0, 'reward_closeness_to_puck': -0.20418290433638353, 'reward_touch_puck': 0.0, 'reward_puck_direction': 0.0}\n",
      "{'winner': 0, 'reward_closeness_to_puck': -0.20525796306108143, 'reward_touch_puck': 0.0, 'reward_puck_direction': 0.0}\n",
      "{'winner': 0, 'reward_closeness_to_puck': -0.20451449902097768, 'reward_touch_puck': 0.0, 'reward_puck_direction': 0.0}\n",
      "{'winner': 0, 'reward_closeness_to_puck': -0.20546629763280272, 'reward_touch_puck': 0.0, 'reward_puck_direction': 0.0}\n",
      "{'winner': 0, 'reward_closeness_to_puck': -0.20527659547634863, 'reward_touch_puck': 0.0, 'reward_puck_direction': 0.0}\n",
      "{'winner': 0, 'reward_closeness_to_puck': -0.20554890953930666, 'reward_touch_puck': 0.0, 'reward_puck_direction': 0.0}\n",
      "{'winner': 0, 'reward_closeness_to_puck': -0.2038179473265385, 'reward_touch_puck': 0.0, 'reward_puck_direction': 0.0}\n",
      "{'winner': 0, 'reward_closeness_to_puck': -0.20477778312595957, 'reward_touch_puck': 0.0, 'reward_puck_direction': 0.0}\n",
      "{'winner': 0, 'reward_closeness_to_puck': -0.20622869780622335, 'reward_touch_puck': 0.0, 'reward_puck_direction': 0.0}\n",
      "{'winner': 0, 'reward_closeness_to_puck': -0.2058493268229665, 'reward_touch_puck': 0.0, 'reward_puck_direction': 0.0}\n",
      "{'winner': 0, 'reward_closeness_to_puck': -0.20769471527110656, 'reward_touch_puck': 0.0, 'reward_puck_direction': 0.0}\n",
      "{'winner': 0, 'reward_closeness_to_puck': -0.2107020849696672, 'reward_touch_puck': 0.0, 'reward_puck_direction': 0.0}\n",
      "{'winner': 0, 'reward_closeness_to_puck': -0.21222923635866273, 'reward_touch_puck': 0.0, 'reward_puck_direction': 0.0}\n",
      "{'winner': 0, 'reward_closeness_to_puck': -0.21459594450492547, 'reward_touch_puck': 0.0, 'reward_puck_direction': 0.0}\n",
      "{'winner': 0, 'reward_closeness_to_puck': -0.21719050567761522, 'reward_touch_puck': 0.0, 'reward_puck_direction': 0.0}\n",
      "{'winner': 0, 'reward_closeness_to_puck': -0.21770635552159265, 'reward_touch_puck': 0.0, 'reward_puck_direction': 0.0}\n",
      "{'winner': 0, 'reward_closeness_to_puck': -0.21985060811004067, 'reward_touch_puck': 0.0, 'reward_puck_direction': 0.0}\n",
      "{'winner': 0, 'reward_closeness_to_puck': -0.2228569943554424, 'reward_touch_puck': 0.0, 'reward_puck_direction': 0.0}\n",
      "{'winner': 0, 'reward_closeness_to_puck': -0.22525987828081187, 'reward_touch_puck': 0.0, 'reward_puck_direction': 0.0}\n",
      "{'winner': 0, 'reward_closeness_to_puck': -0.22657804822402974, 'reward_touch_puck': 0.0, 'reward_puck_direction': 0.0}\n",
      "{'winner': 0, 'reward_closeness_to_puck': -0.2271072430387403, 'reward_touch_puck': 0.0, 'reward_puck_direction': 0.0}\n",
      "{'winner': 0, 'reward_closeness_to_puck': -0.22850240316126927, 'reward_touch_puck': 0.0, 'reward_puck_direction': 0.0}\n",
      "{'winner': 0, 'reward_closeness_to_puck': -0.23010197599919535, 'reward_touch_puck': 0.0, 'reward_puck_direction': 0.0}\n",
      "{'winner': 0, 'reward_closeness_to_puck': -0.22741996040060666, 'reward_touch_puck': 0.0, 'reward_puck_direction': 0.0}\n",
      "{'winner': 0, 'reward_closeness_to_puck': -0.2239427594178012, 'reward_touch_puck': 0.0, 'reward_puck_direction': 0.0}\n",
      "{'winner': 0, 'reward_closeness_to_puck': -0.21961273001858306, 'reward_touch_puck': 0.0, 'reward_puck_direction': 0.0}\n",
      "{'winner': 0, 'reward_closeness_to_puck': -0.21392381378054284, 'reward_touch_puck': 0.0, 'reward_puck_direction': 0.0}\n",
      "{'winner': 0, 'reward_closeness_to_puck': -0.20740761331438962, 'reward_touch_puck': 0.0, 'reward_puck_direction': 0.0}\n",
      "{'winner': 0, 'reward_closeness_to_puck': -0.20080973553182385, 'reward_touch_puck': 0.0, 'reward_puck_direction': 0.0}\n",
      "{'winner': 0, 'reward_closeness_to_puck': -0.19614427366425286, 'reward_touch_puck': 0.0, 'reward_puck_direction': 0.0}\n",
      "{'winner': 0, 'reward_closeness_to_puck': -0.1906494821465328, 'reward_touch_puck': 0.0, 'reward_puck_direction': 0.0}\n",
      "{'winner': 0, 'reward_closeness_to_puck': -0.18485052822463136, 'reward_touch_puck': 0.0, 'reward_puck_direction': 0.0}\n",
      "{'winner': 0, 'reward_closeness_to_puck': -0.17999696185602018, 'reward_touch_puck': 0.0, 'reward_puck_direction': 0.0}\n",
      "{'winner': 0, 'reward_closeness_to_puck': -0.17705418918860955, 'reward_touch_puck': 0.0, 'reward_puck_direction': 0.0}\n",
      "{'winner': 0, 'reward_closeness_to_puck': -0.176738523708513, 'reward_touch_puck': 0.0, 'reward_puck_direction': 0.0}\n",
      "{'winner': 0, 'reward_closeness_to_puck': -0.17884102369212787, 'reward_touch_puck': 0.0, 'reward_puck_direction': 0.0}\n",
      "{'winner': 0, 'reward_closeness_to_puck': -0.17965200559861075, 'reward_touch_puck': 0.0, 'reward_puck_direction': 0.0}\n",
      "{'winner': 0, 'reward_closeness_to_puck': -0.18084539360771712, 'reward_touch_puck': 0.0, 'reward_puck_direction': 0.0}\n",
      "{'winner': 0, 'reward_closeness_to_puck': -0.18326667931111013, 'reward_touch_puck': 0.0, 'reward_puck_direction': 0.0}\n",
      "{'winner': 0, 'reward_closeness_to_puck': -0.18631831754387684, 'reward_touch_puck': 0.0, 'reward_puck_direction': 0.0}\n",
      "{'winner': 0, 'reward_closeness_to_puck': -0.18991777627895215, 'reward_touch_puck': 0.0, 'reward_puck_direction': 0.0}\n",
      "{'winner': 0, 'reward_closeness_to_puck': -0.1945920748327064, 'reward_touch_puck': 0.0, 'reward_puck_direction': 0.0}\n",
      "{'winner': 0, 'reward_closeness_to_puck': -0.1989815395985133, 'reward_touch_puck': 0.0, 'reward_puck_direction': 0.0}\n",
      "{'winner': 0, 'reward_closeness_to_puck': -0.20272161349824563, 'reward_touch_puck': 0.0, 'reward_puck_direction': 0.0}\n",
      "{'winner': 0, 'reward_closeness_to_puck': -0.20569624544407605, 'reward_touch_puck': 0.0, 'reward_puck_direction': 0.0}\n",
      "{'winner': 0, 'reward_closeness_to_puck': -0.20677377336813413, 'reward_touch_puck': 0.0, 'reward_puck_direction': 0.0}\n",
      "{'winner': 0, 'reward_closeness_to_puck': -0.20969122386029226, 'reward_touch_puck': 0.0, 'reward_puck_direction': 0.0}\n",
      "{'winner': 0, 'reward_closeness_to_puck': -0.21382115674983773, 'reward_touch_puck': 0.0, 'reward_puck_direction': 0.0}\n",
      "{'winner': 0, 'reward_closeness_to_puck': -0.21611917676086825, 'reward_touch_puck': 0.0, 'reward_puck_direction': 0.0}\n",
      "{'winner': 0, 'reward_closeness_to_puck': -0.21799769249944215, 'reward_touch_puck': 0.0, 'reward_puck_direction': 0.0}\n",
      "{'winner': 0, 'reward_closeness_to_puck': -0.22040269883561356, 'reward_touch_puck': 0.0, 'reward_puck_direction': 0.0}\n",
      "{'winner': 0, 'reward_closeness_to_puck': -0.22189030430018114, 'reward_touch_puck': 0.0, 'reward_puck_direction': 0.0}\n",
      "{'winner': 0, 'reward_closeness_to_puck': -0.22229443875884683, 'reward_touch_puck': 0.0, 'reward_puck_direction': 0.0}\n",
      "{'winner': 0, 'reward_closeness_to_puck': -0.22233941197331522, 'reward_touch_puck': 0.0, 'reward_puck_direction': 0.0}\n",
      "{'winner': 0, 'reward_closeness_to_puck': -0.22196344649704788, 'reward_touch_puck': 0.0, 'reward_puck_direction': 0.0}\n",
      "{'winner': 0, 'reward_closeness_to_puck': -0.2206854900214945, 'reward_touch_puck': 0.0, 'reward_puck_direction': 0.0}\n",
      "{'winner': 0, 'reward_closeness_to_puck': -0.21686900127326625, 'reward_touch_puck': 0.0, 'reward_puck_direction': 0.0}\n",
      "{'winner': 0, 'reward_closeness_to_puck': -0.21378588450913238, 'reward_touch_puck': 0.0, 'reward_puck_direction': 0.0}\n",
      "{'winner': 0, 'reward_closeness_to_puck': -0.21054210847144583, 'reward_touch_puck': 0.0, 'reward_puck_direction': 0.0}\n",
      "{'winner': 0, 'reward_closeness_to_puck': -0.2058248459614284, 'reward_touch_puck': 0.0, 'reward_puck_direction': 0.0}\n",
      "{'winner': 0, 'reward_closeness_to_puck': -0.20229811195753922, 'reward_touch_puck': 0.0, 'reward_puck_direction': 0.0}\n",
      "{'winner': 0, 'reward_closeness_to_puck': -0.19868363973546868, 'reward_touch_puck': 0.0, 'reward_puck_direction': 0.0}\n",
      "{'winner': 0, 'reward_closeness_to_puck': -0.1953833933513835, 'reward_touch_puck': 0.0, 'reward_puck_direction': 0.0}\n",
      "{'winner': 0, 'reward_closeness_to_puck': -0.1917938175616064, 'reward_touch_puck': 0.0, 'reward_puck_direction': 0.0}\n",
      "{'winner': 0, 'reward_closeness_to_puck': -0.18783973897425468, 'reward_touch_puck': 0.0, 'reward_puck_direction': 0.0}\n",
      "{'winner': 0, 'reward_closeness_to_puck': -0.18324201689605132, 'reward_touch_puck': 0.0, 'reward_puck_direction': 0.0}\n",
      "{'winner': 0, 'reward_closeness_to_puck': -0.17860561270147352, 'reward_touch_puck': 0.0, 'reward_puck_direction': 0.0}\n",
      "{'winner': 0, 'reward_closeness_to_puck': -0.17444505727355392, 'reward_touch_puck': 0.0, 'reward_puck_direction': 0.0}\n",
      "{'winner': 0, 'reward_closeness_to_puck': -0.16993554886022055, 'reward_touch_puck': 0.0, 'reward_puck_direction': 0.0}\n",
      "{'winner': 0, 'reward_closeness_to_puck': -0.16629889146659835, 'reward_touch_puck': 0.0, 'reward_puck_direction': 0.0}\n",
      "{'winner': 0, 'reward_closeness_to_puck': -0.16296278740087985, 'reward_touch_puck': 0.0, 'reward_puck_direction': 0.0}\n",
      "{'winner': 0, 'reward_closeness_to_puck': -0.15915231553836845, 'reward_touch_puck': 0.0, 'reward_puck_direction': 0.0}\n",
      "{'winner': 0, 'reward_closeness_to_puck': -0.15776088159374707, 'reward_touch_puck': 0.0, 'reward_puck_direction': 0.0}\n",
      "{'winner': 0, 'reward_closeness_to_puck': -0.15574923375287988, 'reward_touch_puck': 0.0, 'reward_puck_direction': 0.0}\n"
     ]
    }
   ],
   "source": [
    "env = h_env.HockeyEnv()\n",
    "obs, info = env.reset()\n",
    "obs_agent2 = env.obs_agent_two()\n",
    "\n",
    "for _ in range(600):\n",
    "    env.render(mode=\"human\")\n",
    "    a1 = np.random.uniform(-1,1,4)\n",
    "    a2 = np.random.uniform(-1,1,4)    \n",
    "    obs, r, d, t, info = env.step(np.hstack([a1,a2]))\n",
    "    print(info) \n",
    "    obs_agent2 = env.obs_agent_two()\n",
    "    if d or t: break\n",
    "env.close()"
   ]
  },
  {
   "cell_type": "markdown",
   "metadata": {},
   "source": [
    "Without rendering, it runs much faster"
   ]
  },
  {
   "cell_type": "markdown",
   "metadata": {
    "ExecuteTime": {
     "end_time": "2019-01-11T07:57:48.631793Z",
     "start_time": "2019-01-11T07:57:48.627528Z"
    }
   },
   "source": [
    "\"info\" dict contains useful proxy rewards and winning information"
   ]
  },
  {
   "cell_type": "code",
   "execution_count": null,
   "metadata": {
    "ExecuteTime": {
     "end_time": "2023-08-06T09:39:27.036179Z",
     "start_time": "2023-08-06T09:39:27.024383Z"
    }
   },
   "outputs": [],
   "source": [
    "info, env.get_info_agent_two()"
   ]
  },
  {
   "cell_type": "markdown",
   "metadata": {
    "ExecuteTime": {
     "end_time": "2019-01-11T07:59:24.867441Z",
     "start_time": "2019-01-11T07:59:24.862324Z"
    }
   },
   "source": [
    "Winner == 0: draw\n",
    "\n",
    "Winner == 1: you (left player)\n",
    "\n",
    "Winner == -1: opponent wins (right player)"
   ]
  },
  {
   "cell_type": "code",
   "execution_count": null,
   "metadata": {
    "ExecuteTime": {
     "end_time": "2023-08-06T09:39:46.656280Z",
     "start_time": "2023-08-06T09:39:46.631194Z"
    }
   },
   "outputs": [],
   "source": [
    "env.close()"
   ]
  },
  {
   "cell_type": "markdown",
   "metadata": {
    "ExecuteTime": {
     "end_time": "2018-12-20T20:37:41.013424Z",
     "start_time": "2018-12-20T20:37:41.009298Z"
    }
   },
   "source": [
    "# Train Shooting"
   ]
  },
  {
   "cell_type": "code",
   "execution_count": 21,
   "metadata": {
    "ExecuteTime": {
     "end_time": "2023-08-06T09:39:53.528715Z",
     "start_time": "2023-08-06T09:39:53.524264Z"
    }
   },
   "outputs": [],
   "source": [
    "env = h_env.HockeyEnv(mode=h_env.Mode.TRAIN_SHOOTING)"
   ]
  },
  {
   "cell_type": "code",
   "execution_count": 22,
   "metadata": {
    "ExecuteTime": {
     "end_time": "2023-08-06T09:40:11.934130Z",
     "start_time": "2023-08-06T09:40:10.738953Z"
    }
   },
   "outputs": [],
   "source": [
    "o, info = env.reset()\n",
    "_ = env.render()\n",
    "\n",
    "for _ in range(50):\n",
    "    env.render()\n",
    "    a1 = [1,0,0,1] # np.random.uniform(-1,1,4)\n",
    "    a2 = [0,0.,0,0] \n",
    "    obs, r, d, t , info = env.step(np.hstack([a1,a2]))\n",
    "    obs_agent2 = env.obs_agent_two()\n",
    "    if d or t: break"
   ]
  },
  {
   "cell_type": "code",
   "execution_count": null,
   "metadata": {
    "ExecuteTime": {
     "end_time": "2023-08-06T09:45:40.837294Z",
     "start_time": "2023-08-06T09:45:40.798692Z"
    }
   },
   "outputs": [],
   "source": [
    "env.close()"
   ]
  },
  {
   "cell_type": "markdown",
   "metadata": {
    "ExecuteTime": {
     "end_time": "2018-12-20T20:37:41.013424Z",
     "start_time": "2018-12-20T20:37:41.009298Z"
    }
   },
   "source": [
    "# Train DEFENDING"
   ]
  },
  {
   "cell_type": "code",
   "execution_count": null,
   "metadata": {
    "ExecuteTime": {
     "end_time": "2020-12-21T21:44:32.862079Z",
     "start_time": "2020-12-21T21:44:32.855492Z"
    }
   },
   "outputs": [],
   "source": [
    "env = h_env.HockeyEnv(mode=h_env.Mode.TRAIN_DEFENSE)"
   ]
  },
  {
   "cell_type": "code",
   "execution_count": null,
   "metadata": {
    "ExecuteTime": {
     "end_time": "2020-12-21T21:44:33.916251Z",
     "start_time": "2020-12-21T21:44:33.569490Z"
    }
   },
   "outputs": [],
   "source": [
    "o, info = env.reset()\n",
    "_ = env.render()\n",
    "\n",
    "for _ in range(60):\n",
    "    env.render()\n",
    "    a1 = [0.1,0,0,1] # np.random.uniform(-1,1,3)\n",
    "    a2 = [0,0.,0,0] \n",
    "    obs, r, d, t, info = env.step(np.hstack([a1,a2]))\n",
    "    print(r)\n",
    "    obs_agent2 = env.obs_agent_two()\n",
    "    if d or t: break"
   ]
  },
  {
   "cell_type": "code",
   "execution_count": null,
   "metadata": {
    "ExecuteTime": {
     "end_time": "2020-12-21T21:44:41.470595Z",
     "start_time": "2020-12-21T21:44:41.456491Z"
    }
   },
   "outputs": [],
   "source": [
    "env.close()"
   ]
  },
  {
   "cell_type": "markdown",
   "metadata": {
    "ExecuteTime": {
     "end_time": "2018-12-20T20:37:41.013424Z",
     "start_time": "2018-12-20T20:37:41.009298Z"
    }
   },
   "source": [
    "# Using discrete actions"
   ]
  },
  {
   "cell_type": "code",
   "execution_count": null,
   "metadata": {
    "ExecuteTime": {
     "end_time": "2020-12-21T21:44:52.876842Z",
     "start_time": "2020-12-21T21:44:52.872864Z"
    }
   },
   "outputs": [],
   "source": [
    "import random"
   ]
  },
  {
   "cell_type": "code",
   "execution_count": null,
   "metadata": {
    "ExecuteTime": {
     "end_time": "2020-12-21T21:44:54.433468Z",
     "start_time": "2020-12-21T21:44:54.428476Z"
    }
   },
   "outputs": [],
   "source": [
    "env = h_env.HockeyEnv(mode=h_env.Mode.TRAIN_SHOOTING)"
   ]
  },
  {
   "cell_type": "code",
   "execution_count": null,
   "metadata": {
    "ExecuteTime": {
     "end_time": "2020-12-21T21:45:21.317261Z",
     "start_time": "2020-12-21T21:45:19.980472Z"
    }
   },
   "outputs": [],
   "source": [
    "env.reset()\n",
    "for _ in range(251):\n",
    "    env.render()\n",
    "    a1_discrete = random.randint(0,7)\n",
    "    a1 = env.discrete_to_continous_action(a1_discrete)\n",
    "    a2 = [0,0.,0,0 ] \n",
    "    obs, r, d, t, info = env.step(np.hstack([a1,a2]))    \n",
    "    obs_agent2 = env.obs_agent_two()\n",
    "    if d or t: break"
   ]
  },
  {
   "cell_type": "code",
   "execution_count": null,
   "metadata": {
    "ExecuteTime": {
     "end_time": "2020-12-21T21:45:24.873214Z",
     "start_time": "2020-12-21T21:45:24.863047Z"
    }
   },
   "outputs": [],
   "source": [
    "env.close()"
   ]
  },
  {
   "cell_type": "markdown",
   "metadata": {
    "ExecuteTime": {
     "end_time": "2018-12-20T20:37:41.013424Z",
     "start_time": "2018-12-20T20:37:41.009298Z"
    }
   },
   "source": [
    "# Hand-crafted Opponent"
   ]
  },
  {
   "cell_type": "code",
   "execution_count": 23,
   "metadata": {
    "ExecuteTime": {
     "end_time": "2023-08-06T09:41:18.966441Z",
     "start_time": "2023-08-06T09:41:18.957901Z"
    }
   },
   "outputs": [],
   "source": [
    "env = h_env.HockeyEnv()"
   ]
  },
  {
   "cell_type": "code",
   "execution_count": 24,
   "metadata": {
    "ExecuteTime": {
     "end_time": "2023-08-06T09:42:34.996115Z",
     "start_time": "2023-08-06T09:42:34.972070Z"
    }
   },
   "outputs": [],
   "source": [
    "o, info = env.reset()\n",
    "_ = env.render()\n",
    "player1 = h_env.BasicOpponent(weak=False)\n",
    "player2 = h_env.BasicOpponent()"
   ]
  },
  {
   "cell_type": "code",
   "execution_count": 27,
   "metadata": {
    "ExecuteTime": {
     "end_time": "2023-08-06T09:42:46.568098Z",
     "start_time": "2023-08-06T09:42:45.263259Z"
    }
   },
   "outputs": [],
   "source": [
    "obs_buffer = []\n",
    "reward_buffer=[]\n",
    "obs, info = env.reset()\n",
    "obs_agent2 = env.obs_agent_two()\n",
    "for _ in range(251):\n",
    "    env.render()\n",
    "    a1 = player1.act(obs)\n",
    "    a2 = player2.act(obs_agent2)\n",
    "    obs, r, d, t, info = env.step(np.hstack([a1,a2]))    \n",
    "    obs_buffer.append(obs)\n",
    "    reward_buffer.append(r)\n",
    "    obs_agent2 = env.obs_agent_two()\n",
    "    if d or t: break\n",
    "obs_buffer = np.asarray(obs_buffer)\n",
    "reward_buffer = np.asarray(reward_buffer)"
   ]
  },
  {
   "cell_type": "code",
   "execution_count": null,
   "metadata": {},
   "outputs": [],
   "source": [
    "info"
   ]
  },
  {
   "cell_type": "code",
   "execution_count": null,
   "metadata": {
    "ExecuteTime": {
     "end_time": "2023-08-06T09:42:51.468246Z",
     "start_time": "2023-08-06T09:42:51.459819Z"
    }
   },
   "outputs": [],
   "source": [
    "np.mean(obs_buffer,axis=0)"
   ]
  },
  {
   "cell_type": "code",
   "execution_count": null,
   "metadata": {
    "ExecuteTime": {
     "end_time": "2023-08-06T09:42:52.022533Z",
     "start_time": "2023-08-06T09:42:52.012350Z"
    }
   },
   "outputs": [],
   "source": [
    "np.std(obs_buffer,axis=0)"
   ]
  },
  {
   "cell_type": "markdown",
   "metadata": {},
   "source": [
    "If you want to use a fixed observation scaling, this might be a reasonable choice"
   ]
  },
  {
   "cell_type": "code",
   "execution_count": null,
   "metadata": {
    "ExecuteTime": {
     "end_time": "2020-12-21T21:45:59.816528Z",
     "start_time": "2020-12-21T21:45:59.811341Z"
    }
   },
   "outputs": [],
   "source": [
    "scaling = [ 1.0,  1.0 , 0.5, 4.0, 4.0, 4.0,  \n",
    "            1.0,  1.0,  0.5, 4.0, 4.0, 4.0,  \n",
    "            2.0, 2.0, 10.0, 10.0, 4,0 ,4,0]"
   ]
  },
  {
   "cell_type": "code",
   "execution_count": null,
   "metadata": {
    "ExecuteTime": {
     "end_time": "2020-12-21T21:46:00.487281Z",
     "start_time": "2020-12-21T21:46:00.483124Z"
    }
   },
   "outputs": [],
   "source": [
    "import pylab as plt"
   ]
  },
  {
   "cell_type": "code",
   "execution_count": null,
   "metadata": {
    "ExecuteTime": {
     "end_time": "2020-12-21T21:46:01.180182Z",
     "start_time": "2020-12-21T21:46:01.042905Z"
    }
   },
   "outputs": [],
   "source": [
    "plt.plot(obs_buffer[:,2])\n",
    "plt.plot(obs_buffer[:,8])"
   ]
  },
  {
   "cell_type": "code",
   "execution_count": null,
   "metadata": {
    "ExecuteTime": {
     "end_time": "2020-12-21T21:46:02.017740Z",
     "start_time": "2020-12-21T21:46:01.882805Z"
    }
   },
   "outputs": [],
   "source": [
    "plt.plot(obs_buffer[:,12])"
   ]
  },
  {
   "cell_type": "code",
   "execution_count": null,
   "metadata": {},
   "outputs": [],
   "source": [
    "plt.plot(reward_buffer[:])"
   ]
  },
  {
   "cell_type": "code",
   "execution_count": null,
   "metadata": {},
   "outputs": [],
   "source": [
    "np.sum(reward_buffer)"
   ]
  },
  {
   "cell_type": "code",
   "execution_count": null,
   "metadata": {
    "ExecuteTime": {
     "end_time": "2023-08-06T09:49:45.806206Z",
     "start_time": "2023-08-06T09:49:45.796608Z"
    }
   },
   "outputs": [],
   "source": [
    "info2 = env.get_info_agent_two()\n",
    "info, info2, env.get_reward(info), env.get_reward_agent_two(info2)"
   ]
  },
  {
   "cell_type": "code",
   "execution_count": null,
   "metadata": {
    "ExecuteTime": {
     "end_time": "2020-12-21T21:46:02.934754Z",
     "start_time": "2020-12-21T21:46:02.922824Z"
    }
   },
   "outputs": [],
   "source": [
    "env.close()"
   ]
  },
  {
   "cell_type": "markdown",
   "metadata": {},
   "source": [
    "# Human Opponent"
   ]
  },
  {
   "cell_type": "code",
   "execution_count": 36,
   "metadata": {
    "ExecuteTime": {
     "end_time": "2020-12-21T21:46:11.226543Z",
     "start_time": "2020-12-21T21:46:11.220285Z"
    }
   },
   "outputs": [],
   "source": [
    "env = h_env.HockeyEnv()"
   ]
  },
  {
   "cell_type": "code",
   "execution_count": null,
   "metadata": {
    "ExecuteTime": {
     "end_time": "2020-12-21T21:40:55.480803Z",
     "start_time": "2020-12-21T21:40:55.424242Z"
    }
   },
   "outputs": [],
   "source": [
    "player1 = h_env.HumanOpponent(env=env, player=1)\n",
    "player2 = h_env.BasicOpponent()\n"
   ]
  },
  {
   "cell_type": "code",
   "execution_count": null,
   "metadata": {
    "ExecuteTime": {
     "end_time": "2020-12-21T21:41:58.586380Z",
     "start_time": "2020-12-21T21:41:58.580405Z"
    }
   },
   "outputs": [],
   "source": [
    "player1 = h_env.BasicOpponent()\n",
    "player2 = h_env.HumanOpponent(env=env, player=2)\n"
   ]
  },
  {
   "cell_type": "code",
   "execution_count": 39,
   "metadata": {
    "ExecuteTime": {
     "end_time": "2020-12-21T21:47:04.759309Z",
     "start_time": "2020-12-21T21:46:32.086840Z"
    }
   },
   "outputs": [],
   "source": [
    "obs, info = env.reset()\n",
    "\n",
    "env.render()\n",
    "time.sleep(1)\n",
    "obs_agent2 = env.obs_agent_two()\n",
    "for _ in range(100):\n",
    "    time.sleep(0.2)\n",
    "    env.render()\n",
    "    a1 = player1.act(obs) \n",
    "    a2 = player2.act(obs_agent2)\n",
    "    obs, r, d, _, info = env.step(np.hstack([a1,a2]))    \n",
    "    obs_agent2 = env.obs_agent_two()\n",
    "    if d: break"
   ]
  },
  {
   "cell_type": "code",
   "execution_count": null,
   "metadata": {
    "ExecuteTime": {
     "end_time": "2020-12-21T21:47:08.152651Z",
     "start_time": "2020-12-21T21:47:08.139597Z"
    }
   },
   "outputs": [],
   "source": [
    "env.close()"
   ]
  },
  {
   "cell_type": "code",
   "execution_count": null,
   "metadata": {},
   "outputs": [],
   "source": []
  },
  {
   "cell_type": "markdown",
   "metadata": {
    "ExecuteTime": {
     "end_time": "2018-12-20T20:37:41.013424Z",
     "start_time": "2018-12-20T20:37:41.009298Z"
    }
   },
   "source": [
    "# Check side consistency"
   ]
  },
  {
   "cell_type": "code",
   "execution_count": 40,
   "metadata": {
    "ExecuteTime": {
     "end_time": "2023-08-06T09:55:05.915380Z",
     "start_time": "2023-08-06T09:55:05.907736Z"
    }
   },
   "outputs": [],
   "source": [
    "env = h_env.HockeyEnv()"
   ]
  },
  {
   "cell_type": "code",
   "execution_count": 41,
   "metadata": {
    "ExecuteTime": {
     "end_time": "2023-08-06T10:25:13.354179Z",
     "start_time": "2023-08-06T10:25:13.294925Z"
    }
   },
   "outputs": [],
   "source": [
    "o, info = env.reset()\n",
    "_ = env.render()\n",
    "player1 = h_env.BasicOpponent(weak=False)\n",
    "player2 = h_env.BasicOpponent(weak=False)"
   ]
  },
  {
   "cell_type": "code",
   "execution_count": null,
   "metadata": {
    "ExecuteTime": {
     "end_time": "2023-08-06T10:34:30.725239Z",
     "start_time": "2023-08-06T10:33:37.389331Z"
    }
   },
   "outputs": [],
   "source": [
    "obs_buffer = []\n",
    "reward_buffer=[]\n",
    "obs2_buffer = []\n",
    "winner_buffer = []\n",
    "reward2_buffer=[]\n",
    "for game in range(1000):\n",
    "    obs, info = env.reset()\n",
    "    obs_agent2 = env.obs_agent_two()\n",
    "    for _ in range(500):\n",
    "        # env.render()\n",
    "        a1 = player1.act(obs)\n",
    "        a2 = player2.act(obs_agent2)\n",
    "#        a1 = np.random.uniform(-1,1,4)\n",
    "#        a2 = np.random.uniform(-1,1,4)    \n",
    "        obs, r, d, t, info = env.step(np.hstack([a1,a2]))\n",
    "        info2 = env.get_info_agent_two()\n",
    "        r2 = env.get_reward_agent_two(info2)\n",
    "        obs_buffer.append(obs)\n",
    "        obs_agent2 = env.obs_agent_two()\n",
    "        obs2_buffer.append(obs_agent2)\n",
    "        reward_buffer.append(r)\n",
    "        reward2_buffer.append(r2)\n",
    "        if d or t:\n",
    "            winner_buffer.append(info[\"winner\"])\n",
    "            break\n",
    "obs_buffer = np.asarray(obs_buffer)\n",
    "reward_buffer = np.asarray(reward_buffer)\n",
    "obs2_buffer = np.asarray(obs2_buffer)\n",
    "reward2_buffer = np.asarray(reward2_buffer)"
   ]
  },
  {
   "cell_type": "code",
   "execution_count": null,
   "metadata": {
    "ExecuteTime": {
     "end_time": "2023-08-06T10:34:30.732010Z",
     "start_time": "2023-08-06T10:34:30.728070Z"
    }
   },
   "outputs": [],
   "source": [
    "obs_buffer.shape"
   ]
  },
  {
   "cell_type": "code",
   "execution_count": null,
   "metadata": {
    "ExecuteTime": {
     "end_time": "2023-08-06T10:34:30.746663Z",
     "start_time": "2023-08-06T10:34:30.733445Z"
    }
   },
   "outputs": [],
   "source": [
    "np.mean(obs_buffer,axis=0)"
   ]
  },
  {
   "cell_type": "code",
   "execution_count": null,
   "metadata": {
    "ExecuteTime": {
     "end_time": "2023-08-06T10:34:30.809201Z",
     "start_time": "2023-08-06T10:34:30.749382Z"
    }
   },
   "outputs": [],
   "source": [
    "(np.std(obs_buffer,axis=0) - np.std(obs2_buffer,axis=0)) / np.std(obs_buffer,axis=0)"
   ]
  },
  {
   "cell_type": "code",
   "execution_count": null,
   "metadata": {
    "ExecuteTime": {
     "end_time": "2023-08-06T10:34:30.821211Z",
     "start_time": "2023-08-06T10:34:30.810592Z"
    }
   },
   "outputs": [],
   "source": [
    "winner_buffer"
   ]
  },
  {
   "cell_type": "code",
   "execution_count": null,
   "metadata": {
    "ExecuteTime": {
     "end_time": "2023-08-06T10:34:30.828943Z",
     "start_time": "2023-08-06T10:34:30.823232Z"
    }
   },
   "outputs": [],
   "source": [
    "np.mean(winner_buffer,axis=0)"
   ]
  },
  {
   "cell_type": "code",
   "execution_count": null,
   "metadata": {
    "ExecuteTime": {
     "end_time": "2023-08-06T10:34:30.834702Z",
     "start_time": "2023-08-06T10:34:30.830383Z"
    }
   },
   "outputs": [],
   "source": [
    "np.std(winner_buffer,axis=0)"
   ]
  },
  {
   "cell_type": "code",
   "execution_count": null,
   "metadata": {
    "ExecuteTime": {
     "end_time": "2023-08-06T10:34:44.699821Z",
     "start_time": "2023-08-06T10:34:44.692772Z"
    }
   },
   "outputs": [],
   "source": [
    "np.sum(reward_buffer), np.sum(reward2_buffer)"
   ]
  },
  {
   "cell_type": "code",
   "execution_count": null,
   "metadata": {
    "ExecuteTime": {
     "end_time": "2023-08-06T10:35:19.971723Z",
     "start_time": "2023-08-06T10:35:19.929115Z"
    }
   },
   "outputs": [],
   "source": [
    "env.close()"
   ]
  },
  {
   "cell_type": "code",
   "execution_count": null,
   "metadata": {},
   "outputs": [],
   "source": []
  }
 ],
 "metadata": {
  "kernelspec": {
   "display_name": ".env_RL_course",
   "language": "python",
   "name": "python3"
  },
  "language_info": {
   "codemirror_mode": {
    "name": "ipython",
    "version": 3
   },
   "file_extension": ".py",
   "mimetype": "text/x-python",
   "name": "python",
   "nbconvert_exporter": "python",
   "pygments_lexer": "ipython3",
   "version": "3.12.4"
  },
  "toc": {
   "base_numbering": 1,
   "nav_menu": {},
   "number_sections": true,
   "sideBar": true,
   "skip_h1_title": false,
   "title_cell": "Table of Contents",
   "title_sidebar": "Contents",
   "toc_cell": false,
   "toc_position": {},
   "toc_section_display": true,
   "toc_window_display": false
  }
 },
 "nbformat": 4,
 "nbformat_minor": 4
}
