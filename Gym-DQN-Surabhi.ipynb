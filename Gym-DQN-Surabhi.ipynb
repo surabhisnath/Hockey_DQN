{
 "cells": [
  {
   "cell_type": "code",
   "execution_count": 1,
   "metadata": {
    "ExecuteTime": {
     "end_time": "2023-06-13T20:20:19.636092Z",
     "start_time": "2023-06-13T20:20:18.881193Z"
    }
   },
   "outputs": [],
   "source": [
    "import gymnasium as gym\n",
    "from gymnasium import spaces\n",
    "import numpy as np\n",
    "import itertools\n",
    "import time\n",
    "import torch\n",
    "import pylab as plt\n",
    "# %matplotlib inline\n",
    "from mpl_toolkits.mplot3d import Axes3D\n",
    "from matplotlib import cm\n",
    "\n",
    "import memory as mem   \n",
    "from feedforward import Feedforward"
   ]
  },
  {
   "cell_type": "markdown",
   "metadata": {},
   "source": [
    "## Helper Functions"
   ]
  },
  {
   "cell_type": "code",
   "execution_count": null,
   "metadata": {
    "ExecuteTime": {
     "end_time": "2023-06-13T20:20:19.649041Z",
     "start_time": "2023-06-13T20:20:19.645953Z"
    }
   },
   "outputs": [],
   "source": [
    "def running_mean(x, N):\n",
    "    cumsum = np.cumsum(np.insert(x, 0, 0)) \n",
    "    return (cumsum[N:] - cumsum[:-N]) / float(N)"
   ]
  },
  {
   "cell_type": "code",
   "execution_count": null,
   "metadata": {
    "ExecuteTime": {
     "end_time": "2023-06-13T20:20:19.736085Z",
     "start_time": "2023-06-13T20:20:19.731029Z"
    }
   },
   "outputs": [],
   "source": [
    "class DiscreteActionWrapper(gym.ActionWrapper):\n",
    "    def __init__(self, env: gym.Env, bins = 5):\n",
    "        \"\"\"A wrapper for converting a 1D continuous actions into discrete ones.\n",
    "        Args:\n",
    "            env: The environment to apply the wrapper\n",
    "            bins: number of discrete actions\n",
    "        \"\"\"\n",
    "        assert isinstance(env.action_space, spaces.Box)\n",
    "        super().__init__(env)\n",
    "        self.bins = bins\n",
    "        self.orig_action_space = env.action_space\n",
    "        self.action_space = spaces.Discrete(self.bins)\n",
    "\n",
    "    def action(self, action):\n",
    "        \"\"\" discrete actions from low to high in 'bins'\n",
    "        Args:\n",
    "            action: The discrete action\n",
    "        Returns:\n",
    "            continuous action\n",
    "        \"\"\"\n",
    "        return self.orig_action_space.low + action/(self.bins-1.0)*(self.orig_action_space.high-self.orig_action_space.low)  "
   ]
  },
  {
   "cell_type": "markdown",
   "metadata": {},
   "source": [
    "# DQN"
   ]
  },
  {
   "cell_type": "code",
   "execution_count": null,
   "metadata": {
    "ExecuteTime": {
     "end_time": "2023-06-13T20:20:20.415726Z",
     "start_time": "2023-06-13T20:20:20.400776Z"
    }
   },
   "outputs": [],
   "source": [
    "class QFunction(Feedforward):\n",
    "    def __init__(self, observation_dim, action_dim, hidden_sizes=[100,100], \n",
    "                 learning_rate = 0.0002):\n",
    "        super().__init__(input_size=observation_dim, hidden_sizes=hidden_sizes, \n",
    "                         output_size=action_dim)\n",
    "        self.optimizer=torch.optim.Adam(self.parameters(), \n",
    "                                        lr=learning_rate, \n",
    "                                        eps=0.000001)\n",
    "        self.loss = torch.nn.SmoothL1Loss() # MSELoss()\n",
    "    \n",
    "    def fit(self, observations, actions, targets):\n",
    "        self.train() # put model in training mode       # feedforward's function train()\n",
    "        self.optimizer.zero_grad()\n",
    "        # Forward pass\n",
    "        acts = torch.from_numpy(actions)\n",
    "        pred = self.Q_value(torch.from_numpy(observations).float(), acts)\n",
    "        # Compute Loss\n",
    "        loss = self.loss(pred, torch.from_numpy(targets).float())\n",
    "        \n",
    "        # Backward pass\n",
    "        loss.backward()\n",
    "        self.optimizer.step()\n",
    "        return loss.item()\n",
    "    \n",
    "    def Q_value(self, observations, actions):\n",
    "        return self.forward(observations).gather(1, actions[:,None])        \n",
    "    \n",
    "    def maxQ(self, observations):\n",
    "        return np.max(self.predict(observations), axis=-1, keepdims=True)\n",
    "        \n",
    "    def greedyAction(self, observations):\n",
    "        return np.argmax(self.predict(observations), axis=-1)"
   ]
  },
  {
   "cell_type": "code",
   "execution_count": null,
   "metadata": {
    "ExecuteTime": {
     "end_time": "2023-06-13T20:20:20.961821Z",
     "start_time": "2023-06-13T20:20:20.941514Z"
    }
   },
   "outputs": [],
   "source": [
    "class DQNAgent(object):\n",
    "    \"\"\"\n",
    "    Agent implementing Q-learning with NN function approximation.    \n",
    "    \"\"\"\n",
    "    def __init__(self, observation_space, action_space, **userconfig):\n",
    "        \n",
    "        if not isinstance(observation_space, spaces.box.Box):\n",
    "            raise UnsupportedSpace('Observation space {} incompatible ' \\\n",
    "                                   'with {}. (Require: Box)'.format(observation_space, self))\n",
    "        if not isinstance(action_space, spaces.discrete.Discrete):\n",
    "            raise UnsupportedSpace('Action space {} incompatible with {}.' \\\n",
    "                                   ' (Reqire Discrete.)'.format(action_space, self))\n",
    "        \n",
    "        self._observation_space = observation_space\n",
    "        self._action_space = action_space\n",
    "        self._action_n = action_space.n\n",
    "        self._config = {\n",
    "            \"eps\": 0.05,            # Epsilon in epsilon greedy policies                        \n",
    "            \"discount\": 0.95,\n",
    "            \"buffer_size\": int(1e5),\n",
    "            \"batch_size\": 128,\n",
    "            \"learning_rate\": 0.0002,\n",
    "            \"update_target_every\": 20,\n",
    "            \"use_target_net\":True\n",
    "        }\n",
    "        self._config.update(userconfig)        \n",
    "        self._eps = self._config['eps']\n",
    "        \n",
    "        self.buffer = mem.Memory(max_size=self._config[\"buffer_size\"])\n",
    "                \n",
    "        # Q Network\n",
    "        self.Q = QFunction(observation_dim=self._observation_space.shape[0], \n",
    "                           action_dim=self._action_n,\n",
    "                           learning_rate = self._config[\"learning_rate\"])\n",
    "        # Q Network\n",
    "        self.Q_target = QFunction(observation_dim=self._observation_space.shape[0], \n",
    "                                  action_dim=self._action_n,\n",
    "                                  learning_rate = 0)\n",
    "        \n",
    "        self._update_target_net()\n",
    "        self.train_iter = 0\n",
    "            \n",
    "    def _update_target_net(self):        \n",
    "        self.Q_target.load_state_dict(self.Q.state_dict())\n",
    "\n",
    "    def act(self, observation, eps=None):\n",
    "        if eps is None:\n",
    "            eps = self._eps\n",
    "        # epsilon greedy\n",
    "        if np.random.random() > eps:\n",
    "            action = self.Q.greedyAction(observation)\n",
    "        else: \n",
    "            action = self._action_space.sample()        \n",
    "        return action\n",
    "    \n",
    "    def store_transition(self, transition):\n",
    "        self.buffer.add_transition(transition)\n",
    "            \n",
    "    def train(self, iter_fit=32):\n",
    "        losses = []\n",
    "        self.train_iter+=1\n",
    "        if self._config[\"use_target_net\"] and self.train_iter % self._config[\"update_target_every\"] == 0:\n",
    "            self._update_target_net()                \n",
    "        for i in range(iter_fit):\n",
    "\n",
    "            # sample from the replay buffer\n",
    "            data=self.buffer.sample(batch=self._config['batch_size'])\n",
    "            s = np.stack(data[:,0]) # s_t\n",
    "            a = np.stack(data[:,1]) # a_t\n",
    "            rew = np.stack(data[:,2])[:,None] # rew  (batchsize,1)\n",
    "            s_prime = np.stack(data[:,3]) # s_t+1\n",
    "            done = np.stack(data[:,4])[:,None] # done signal  (batchsize,1)\n",
    "            \n",
    "            if self._config[\"use_target_net\"]:\n",
    "                v_prime = self.Q_target.maxQ(s_prime)\n",
    "            else:\n",
    "                v_prime = self.Q.maxQ(s_prime)\n",
    "            # target\n",
    "            gamma=self._config['discount']                                                \n",
    "            td_target = rew + gamma * (1.0-done) * v_prime\n",
    "            \n",
    "            # optimize the lsq objective\n",
    "            fit_loss = self.Q.fit(s, a, td_target)\n",
    "            \n",
    "            losses.append(fit_loss)\n",
    "                \n",
    "        return losses"
   ]
  },
  {
   "cell_type": "markdown",
   "metadata": {},
   "source": [
    "## Test in Env"
   ]
  },
  {
   "cell_type": "code",
   "execution_count": null,
   "metadata": {
    "ExecuteTime": {
     "end_time": "2023-06-13T20:35:14.532174Z",
     "start_time": "2023-06-13T20:35:14.524803Z"
    }
   },
   "outputs": [],
   "source": [
    "env_name = 'Pendulum-v1'\n",
    "# env_name = 'CartPole-v0'\n",
    "\n",
    "env = gym.make(env_name)\n",
    "if isinstance(env.action_space, spaces.Box):\n",
    "    env = DiscreteActionWrapper(env,5)\n",
    "\n",
    "ac_space = env.action_space\n",
    "o_space = env.observation_space\n",
    "print(ac_space)\n",
    "print(o_space)\n",
    "print(list(zip(env.observation_space.low, env.observation_space.high)))"
   ]
  },
  {
   "cell_type": "code",
   "execution_count": null,
   "metadata": {
    "ExecuteTime": {
     "end_time": "2023-06-13T20:35:14.987456Z",
     "start_time": "2023-06-13T20:35:14.923064Z"
    },
    "scrolled": true
   },
   "outputs": [],
   "source": [
    "use_target = True\n",
    "target_update = 20\n",
    "q_agent = DQNAgent(o_space, ac_space, discount=0.95, eps=0.2, \n",
    "                   use_target_net=use_target, update_target_every= target_update)"
   ]
  },
  {
   "cell_type": "code",
   "execution_count": null,
   "metadata": {
    "ExecuteTime": {
     "end_time": "2023-06-13T20:35:15.235863Z",
     "start_time": "2023-06-13T20:35:15.225645Z"
    }
   },
   "outputs": [],
   "source": [
    "ob,_info = env.reset()\n",
    "q_agent.Q.predict(ob)"
   ]
  },
  {
   "cell_type": "markdown",
   "metadata": {},
   "source": [
    "Running some episodes"
   ]
  },
  {
   "cell_type": "code",
   "execution_count": null,
   "metadata": {
    "ExecuteTime": {
     "end_time": "2023-06-13T20:35:16.024504Z",
     "start_time": "2023-06-13T20:35:16.017220Z"
    }
   },
   "outputs": [],
   "source": [
    "stats = []\n",
    "losses = []"
   ]
  },
  {
   "cell_type": "code",
   "execution_count": null,
   "metadata": {
    "ExecuteTime": {
     "end_time": "2023-06-13T20:37:59.986818Z",
     "start_time": "2023-06-13T20:35:16.714541Z"
    }
   },
   "outputs": [],
   "source": [
    "max_episodes=600\n",
    "max_steps=500 \n",
    "for i in range(max_episodes):\n",
    "    # print(\"Starting a new episode\")    \n",
    "    total_reward = 0\n",
    "    ob, _info = env.reset()\n",
    "    for t in range(max_steps):\n",
    "        done = False        \n",
    "        a = q_agent.act(ob)\n",
    "        (ob_new, reward, done, trunc, _info) = env.step(a)\n",
    "        total_reward+= reward\n",
    "        q_agent.store_transition((ob, a, reward, ob_new, done))            \n",
    "        ob=ob_new        \n",
    "        if done: break    \n",
    "    losses.extend(q_agent.train(32))\n",
    "    stats.append([i,total_reward,t+1])    \n",
    "    \n",
    "    if ((i-1)%20==0):\n",
    "        print(\"{}: Done after {} steps. Reward: {}\".format(i, t+1, total_reward))"
   ]
  },
  {
   "cell_type": "code",
   "execution_count": null,
   "metadata": {
    "ExecuteTime": {
     "end_time": "2023-06-13T20:38:00.312153Z",
     "start_time": "2023-06-13T20:37:59.988481Z"
    }
   },
   "outputs": [],
   "source": [
    "stats_np = np.asarray(stats)\n",
    "losses_np = np.asarray(losses)\n",
    "fig=plt.figure(figsize=(6,3.8))\n",
    "plt.plot(stats_np[:,1], label=\"return\")\n",
    "plt.plot(running_mean(stats_np[:,1],20), label=\"smoothed-return\")\n",
    "plt.legend()"
   ]
  },
  {
   "cell_type": "code",
   "execution_count": null,
   "metadata": {
    "ExecuteTime": {
     "end_time": "2023-06-13T16:48:42.568263Z",
     "start_time": "2023-06-13T16:48:42.530437Z"
    }
   },
   "outputs": [],
   "source": [
    "fig.savefig(f\"DQN_{env_name}_training_w_target_{use_target}-update-{target_update}.pdf\")"
   ]
  },
  {
   "cell_type": "code",
   "execution_count": null,
   "metadata": {
    "ExecuteTime": {
     "end_time": "2023-06-13T20:23:10.760806Z",
     "start_time": "2023-06-13T20:23:10.613859Z"
    }
   },
   "outputs": [],
   "source": [
    "plt.figure()\n",
    "plt.plot(losses_np)"
   ]
  },
  {
   "cell_type": "code",
   "execution_count": null,
   "metadata": {
    "ExecuteTime": {
     "end_time": "2020-12-21T18:21:27.263872Z",
     "start_time": "2020-12-21T18:21:27.260798Z"
    }
   },
   "outputs": [],
   "source": [
    "# q_agent.train(1024)"
   ]
  },
  {
   "cell_type": "code",
   "execution_count": null,
   "metadata": {
    "ExecuteTime": {
     "end_time": "2023-06-13T20:32:20.002524Z",
     "start_time": "2023-06-13T20:32:19.995734Z"
    }
   },
   "outputs": [],
   "source": [
    "q_agent.buffer.size"
   ]
  },
  {
   "cell_type": "markdown",
   "metadata": {},
   "source": [
    "## Evaluate (without exploration)"
   ]
  },
  {
   "cell_type": "code",
   "execution_count": null,
   "metadata": {},
   "outputs": [],
   "source": [
    "env_eval = gym.make(env_name, render_mode=\"human\")\n",
    "if isinstance(env.action_space, spaces.Box):\n",
    "    env_eval = DiscreteActionWrapper(env_eval,5)"
   ]
  },
  {
   "cell_type": "code",
   "execution_count": null,
   "metadata": {
    "ExecuteTime": {
     "end_time": "2020-12-21T19:42:11.881581Z",
     "start_time": "2020-12-21T19:42:10.571890Z"
    }
   },
   "outputs": [],
   "source": [
    "test_stats = []\n",
    "episodes=50\n",
    "env_ = env    # without rendering\n",
    "#env_ = env_eval # with rendering\n",
    "\n",
    "for i in range(episodes):\n",
    "    total_reward = 0\n",
    "    ob, _info = env_.reset()\n",
    "    for t in range(max_steps):\n",
    "        done = False        \n",
    "        a = q_agent.act(ob, eps=0.0)\n",
    "        (ob_new, reward, done, trunc, _info) = env_.step(a)\n",
    "        total_reward+= reward\n",
    "        ob=ob_new        \n",
    "        if done: break    \n",
    "    test_stats.append([i,total_reward,t+1])        "
   ]
  },
  {
   "cell_type": "code",
   "execution_count": null,
   "metadata": {
    "ExecuteTime": {
     "end_time": "2020-12-21T19:43:29.239950Z",
     "start_time": "2020-12-21T19:43:29.231426Z"
    }
   },
   "outputs": [],
   "source": [
    "test_stats_np = np.array(test_stats)\n",
    "print(np.mean(test_stats_np[:,1]), \"+-\", np.std(test_stats_np[:,1]))"
   ]
  },
  {
   "cell_type": "markdown",
   "metadata": {},
   "source": [
    "# Visualize"
   ]
  },
  {
   "cell_type": "markdown",
   "metadata": {},
   "source": [
    "Visualization of Q function"
   ]
  },
  {
   "cell_type": "code",
   "execution_count": null,
   "metadata": {
    "ExecuteTime": {
     "end_time": "2023-06-13T20:51:45.799190Z",
     "start_time": "2023-06-13T20:51:45.790157Z"
    }
   },
   "outputs": [],
   "source": [
    "def plot_Q_function(q_function, observations, plot_dim1=0, plot_dim2=2,\n",
    "                    label_dim1=\"cos(angle)\", label_dim2=\"angular velocity\"):\n",
    "    plt.rcParams.update({'font.size': 12})\n",
    "    values =q_function.maxQ(observations)\n",
    "    \n",
    "    fig = plt.figure(figsize=[10,8])\n",
    "    ax = fig.add_subplot()\n",
    "    surf = ax.scatter (observations[:,plot_dim1], observations[:,plot_dim2],  c = values, cmap=cm.coolwarm)\n",
    "    ax.set_xlabel(label_dim1)\n",
    "    ax.set_ylabel(label_dim2)\n",
    "\n",
    "    return fig"
   ]
  },
  {
   "cell_type": "code",
   "execution_count": null,
   "metadata": {
    "ExecuteTime": {
     "end_time": "2023-06-13T20:51:46.224764Z",
     "start_time": "2023-06-13T20:51:46.210558Z"
    }
   },
   "outputs": [],
   "source": [
    "# Surface plot. However, less useful as it queries the Q function where it was not trained.\n",
    "def plot_Q_function_gen_surface(q_function, input_dims, plot_dim1_range=(0,(-np.pi/2,np.pi/2)), plot_dim2_range=(1,(-0.2,0.2)),\n",
    "                        label_dim1=\"angle\", label_dim2=\"angular velocity\"):\n",
    "    plt.rcParams.update({'font.size': 12})\n",
    "    xxs =np.linspace(*plot_dim1_range[1])\n",
    "    yys =np.linspace(*plot_dim2_range[1])\n",
    "    XX,YY=np.meshgrid(xxs,yys)\n",
    "    num_points = XX.ravel().shape[0]\n",
    "    dots = np.zeros((num_points,input_dims))\n",
    "    dots[:,plot_dim1_range[0]] =  XX.ravel()\n",
    "    dots[:,plot_dim2_range[0]] =  YY.ravel()  \n",
    "    values =q_function.maxQ(dots).reshape(XX.shape)\n",
    "\n",
    "    fig = plt.figure(figsize=[10,8])\n",
    "    ax = plt.figure().add_subplot(projection='3d')\n",
    "    surf = ax.plot_surface(XX, YY, values, cmap=cm.coolwarm,\n",
    "                           linewidth=0, antialiased=False)\n",
    "    ax.view_init(elev=20, azim=45, roll=0)\n",
    "    ax.set_xlabel(label_dim1)\n",
    "    ax.set_ylabel(label_dim2)\n",
    "    ax.set_zlabel('value')\n",
    "    # plt.colorbar(cmap=cm.coolwarm)\n",
    "    return fig"
   ]
  },
  {
   "cell_type": "markdown",
   "metadata": {},
   "source": [
    "## Pendulum Env"
   ]
  },
  {
   "cell_type": "markdown",
   "metadata": {},
   "source": [
    "Observation space:\n",
    "\n",
    "0 cos(angle)\n",
    "\n",
    "1 sin(angle)\n",
    "\n",
    "2 angular velocity"
   ]
  },
  {
   "cell_type": "code",
   "execution_count": null,
   "metadata": {
    "ExecuteTime": {
     "end_time": "2023-06-13T20:51:47.767887Z",
     "start_time": "2023-06-13T20:51:47.586166Z"
    }
   },
   "outputs": [],
   "source": [
    "data = q_agent.buffer.get_all_transitions()\n",
    "data = np.vstack(data[:,0])"
   ]
  },
  {
   "cell_type": "code",
   "execution_count": null,
   "metadata": {
    "ExecuteTime": {
     "end_time": "2023-06-13T20:51:50.956525Z",
     "start_time": "2023-06-13T20:51:48.259020Z"
    }
   },
   "outputs": [],
   "source": [
    "figQ = plot_Q_function(q_agent.Q, data, plot_dim1=0, plot_dim2=2)"
   ]
  },
  {
   "cell_type": "markdown",
   "metadata": {},
   "source": [
    "## Cartpole Env"
   ]
  },
  {
   "cell_type": "markdown",
   "metadata": {},
   "source": [
    "Observation space:\n",
    " \n",
    "0       Cart Position             -4.8                    4.8\n",
    "\n",
    "1       Cart Velocity             -Inf                    Inf\n",
    "\n",
    "2       Pole Angle                -0.418 rad (-24 deg)    0.418 rad (24 deg)\n",
    "\n",
    "3       Pole Angular Velocity     -Inf                    Inf"
   ]
  },
  {
   "cell_type": "code",
   "execution_count": null,
   "metadata": {},
   "outputs": [],
   "source": [
    "data = q_agent.buffer.get_all_transitions()\n",
    "data = np.vstack(data[:,0])"
   ]
  },
  {
   "cell_type": "code",
   "execution_count": null,
   "metadata": {
    "ExecuteTime": {
     "end_time": "2023-06-13T20:33:20.270427Z",
     "start_time": "2023-06-13T20:33:17.606268Z"
    }
   },
   "outputs": [],
   "source": [
    "figQ = plot_Q_function(q_agent.Q, data, plot_dim1=0, plot_dim2=2, \n",
    "                       label_dim1=\"Cart Pos\", label_dim2=\"Pole Angle\")"
   ]
  },
  {
   "cell_type": "code",
   "execution_count": null,
   "metadata": {
    "ExecuteTime": {
     "end_time": "2023-06-13T20:33:48.104883Z",
     "start_time": "2023-06-13T20:33:45.441847Z"
    }
   },
   "outputs": [],
   "source": [
    "figQ = plot_Q_function(q_agent.Q, data, plot_dim1=0, plot_dim2=1, \n",
    "                       label_dim1=\"Cart Pos\", label_dim2=\"Cart Vel\")"
   ]
  },
  {
   "cell_type": "code",
   "execution_count": null,
   "metadata": {
    "ExecuteTime": {
     "end_time": "2023-06-13T20:34:23.212391Z",
     "start_time": "2023-06-13T20:34:20.588290Z"
    }
   },
   "outputs": [],
   "source": [
    "figQ = plot_Q_function(q_agent.Q, data, plot_dim1=2, plot_dim2=3, \n",
    "                       label_dim1=\"Pole Angle\", label_dim2=\"Pole Vel\")"
   ]
  },
  {
   "cell_type": "code",
   "execution_count": null,
   "metadata": {
    "ExecuteTime": {
     "end_time": "2020-12-21T18:56:34.123769Z",
     "start_time": "2020-12-21T18:56:34.108294Z"
    }
   },
   "outputs": [],
   "source": [
    "%matplotlib notebook"
   ]
  },
  {
   "cell_type": "code",
   "execution_count": null,
   "metadata": {},
   "outputs": [],
   "source": [
    "# env_name = 'Acrobot-v1'\n",
    "# env_name = 'MountainCar-v0'\n",
    "# env_name = 'LunarLander-v2'"
   ]
  }
 ],
 "metadata": {
  "kernelspec": {
   "display_name": "RL_course",
   "language": "python",
   "name": "python3"
  },
  "language_info": {
   "codemirror_mode": {
    "name": "ipython",
    "version": 3
   },
   "file_extension": ".py",
   "mimetype": "text/x-python",
   "name": "python",
   "nbconvert_exporter": "python",
   "pygments_lexer": "ipython3",
   "version": "3.12.7"
  },
  "toc": {
   "base_numbering": 1,
   "nav_menu": {},
   "number_sections": true,
   "sideBar": true,
   "skip_h1_title": false,
   "title_cell": "Table of Contents",
   "title_sidebar": "Contents",
   "toc_cell": false,
   "toc_position": {},
   "toc_section_display": true,
   "toc_window_display": false
  }
 },
 "nbformat": 4,
 "nbformat_minor": 1
}
