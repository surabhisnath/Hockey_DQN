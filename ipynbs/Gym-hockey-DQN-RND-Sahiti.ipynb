{
 "cells": [
  {
   "cell_type": "code",
   "execution_count": 1,
   "metadata": {
    "ExecuteTime": {
     "end_time": "2023-06-13T20:20:19.636092Z",
     "start_time": "2023-06-13T20:20:18.881193Z"
    }
   },
   "outputs": [],
   "source": [
    "import gymnasium as gym\n",
    "from gymnasium import spaces\n",
    "import hockey_env as h_env\n",
    "import numpy as np\n",
    "import itertools\n",
    "import time\n",
    "import torch\n",
    "import pylab as plt\n",
    "# %matplotlib inline\n",
    "from mpl_toolkits.mplot3d import Axes3D\n",
    "from matplotlib import cm\n",
    "\n",
    "import memory_old as mem   \n",
    "from feedforward_old import Feedforward"
   ]
  },
  {
   "cell_type": "markdown",
   "metadata": {},
   "source": [
    "## Helper Functions"
   ]
  },
  {
   "cell_type": "code",
   "execution_count": 2,
   "metadata": {
    "ExecuteTime": {
     "end_time": "2023-06-13T20:20:19.649041Z",
     "start_time": "2023-06-13T20:20:19.645953Z"
    }
   },
   "outputs": [],
   "source": [
    "def running_mean(x, N):\n",
    "    cumsum = np.cumsum(np.insert(x, 0, 0)) \n",
    "    return (cumsum[N:] - cumsum[:-N]) / float(N)"
   ]
  },
  {
   "cell_type": "code",
   "execution_count": 3,
   "metadata": {
    "ExecuteTime": {
     "end_time": "2023-06-13T20:20:19.736085Z",
     "start_time": "2023-06-13T20:20:19.731029Z"
    }
   },
   "outputs": [],
   "source": [
    "# class DiscreteActionWrapper(gym.ActionWrapper):\n",
    "#     def __init__(self, env: gym.Env, bins = 8):\n",
    "#         \"\"\"A wrapper for converting a 1D continuous actions into discrete ones.\n",
    "#         Args:\n",
    "#             env: The environment to apply the wrapper\n",
    "#             bins: number of discrete actions\n",
    "#         \"\"\"\n",
    "#         assert isinstance(env.action_space, spaces.Box)\n",
    "#         super().__init__(env)\n",
    "#         self.bins = bins\n",
    "#         self.orig_action_space = env.action_space\n",
    "#         self.action_space = spaces.Discrete(self.bins)\n",
    "        \n",
    "#     def action(self, action):\n",
    "#         \"\"\" discrete actions from low to high in 'bins'\n",
    "#         Args:\n",
    "#             action: The discrete action\n",
    "#         Returns:\n",
    "#             continuous action\n",
    "#         \"\"\"\n",
    "#         return self.env.discrete_to_continous_action(action)"
   ]
  },
  {
   "cell_type": "markdown",
   "metadata": {},
   "source": [
    "# DQN and RND"
   ]
  },
  {
   "cell_type": "code",
   "execution_count": 3,
   "metadata": {
    "ExecuteTime": {
     "end_time": "2023-06-13T20:20:20.415726Z",
     "start_time": "2023-06-13T20:20:20.400776Z"
    }
   },
   "outputs": [],
   "source": [
    "class QFunction(Feedforward):\n",
    "    def __init__(self, observation_dim, action_dim, hidden_sizes=[100,100], \n",
    "                 learning_rate = 0.0002):\n",
    "        super().__init__(input_size=observation_dim, hidden_sizes=hidden_sizes, \n",
    "                         output_size=action_dim)\n",
    "        self.optimizer=torch.optim.Adam(self.parameters(), \n",
    "                                        lr=learning_rate, \n",
    "                                        eps=0.000001)\n",
    "        self.loss = torch.nn.SmoothL1Loss() # MSELoss()\n",
    "    \n",
    "    def fit(self, observations, actions, targets):\n",
    "        self.train() # put model in training mode\n",
    "        self.optimizer.zero_grad()\n",
    "        # Forward pass\n",
    "        acts = torch.from_numpy(actions)\n",
    "        pred = self.Q_value(torch.from_numpy(observations).float(), acts)\n",
    "        # Compute Loss\n",
    "        loss = self.loss(pred, torch.from_numpy(targets).float())\n",
    "        \n",
    "        # Backward pass\n",
    "        loss.backward()\n",
    "        self.optimizer.step()\n",
    "        return loss.item()\n",
    "    \n",
    "    def Q_value(self, observations, actions):\n",
    "        return self.forward(observations).gather(1, actions[:,None])        \n",
    "    \n",
    "    def maxQ(self, observations):\n",
    "        return np.max(self.predict(observations), axis=-1, keepdims=True)\n",
    "        \n",
    "    def greedyAction(self, observations):\n",
    "        return np.argmax(self.predict(observations), axis=-1)        \n",
    "\n",
    "class RND():\n",
    "    def __init__(self, input_dim, output_dim, hidden_dim=[100,100],\n",
    "                 learning_rate = 0.0001):\n",
    "        self.target = Feedforward(input_size = input_dim, hidden_sizes=hidden_dim, \n",
    "                                  output_size = output_dim)\n",
    "        self.predictor = Feedforward(input_size = input_dim, hidden_sizes=hidden_dim, \n",
    "                                  output_size = output_dim)\n",
    "        self.optimizer=torch.optim.Adam(self.predictor.parameters(), \n",
    "                                        lr=learning_rate, \n",
    "                                        eps=0.000001)\n",
    "        self.loss = torch.nn.MSELoss()\n",
    "\n",
    "    def intrinsic_reward(self, observations):\n",
    "        output_target = self.target(observations).detach()\n",
    "        output_prediction = self.predictor(observations)\n",
    "        reward = self.loss(output_target, output_prediction)\n",
    "        return reward\n",
    "\n",
    "    def update_pred(self, reward):\n",
    "        reward.backward()\n",
    "        self.optimizer.step()\n",
    "        "
   ]
  },
  {
   "cell_type": "code",
   "execution_count": 4,
   "metadata": {
    "ExecuteTime": {
     "end_time": "2023-06-13T20:20:20.961821Z",
     "start_time": "2023-06-13T20:20:20.941514Z"
    }
   },
   "outputs": [],
   "source": [
    "class DQNAgent(object):\n",
    "    \"\"\"\n",
    "    Agent implementing Q-learning with NN function approximation.    \n",
    "    \"\"\"\n",
    "    def __init__(self, observation_space, action_space, **userconfig):\n",
    "        \n",
    "        if not isinstance(observation_space, spaces.box.Box):\n",
    "            raise UnsupportedSpace('Observation space {} incompatible ' \\\n",
    "                                   'with {}. (Require: Box)'.format(observation_space, self))\n",
    "        if not isinstance(action_space, spaces.discrete.Discrete):\n",
    "            raise UnsupportedSpace('Action space {} incompatible with {}.' \\\n",
    "                                   ' (Reqire Discrete.)'.format(action_space, self))\n",
    "        \n",
    "        self._observation_space = observation_space\n",
    "        self._action_space = action_space\n",
    "        self._action_n = action_space.n\n",
    "        self._config = {\n",
    "            \"eps\": 0.2,            # Epsilon in epsilon greedy policies                        \n",
    "            \"eps_decay\": 0.98,     # Epsilon decay rate\n",
    "            \"eps_min\": 0.001,      # Minimum epsilon\n",
    "            \"discount\": 0.95,\n",
    "            \"buffer_size\": int(1e5),\n",
    "            \"batch_size\": 128,\n",
    "            \"learning_rate\": 0.0002,\n",
    "            \"update_target_every\": 20,\n",
    "            \"use_target_net\":True\n",
    "        }\n",
    "        self._config.update(userconfig)        \n",
    "        self._eps = self._config['eps']\n",
    "        \n",
    "        self.buffer = mem.Memory(max_size=self._config[\"buffer_size\"])\n",
    "                \n",
    "        # Q Network\n",
    "        self.Q = QFunction(observation_dim=self._observation_space.shape[0], \n",
    "                           action_dim=self._action_n,\n",
    "                           learning_rate = self._config[\"learning_rate\"])\n",
    "        # Q Network\n",
    "        self.Q_target = QFunction(observation_dim=self._observation_space.shape[0], \n",
    "                                  action_dim=self._action_n,\n",
    "                                  learning_rate = 0)\n",
    "        self._update_target_net()\n",
    "        self.train_iter = 0\n",
    "            \n",
    "    def _update_target_net(self):        \n",
    "        self.Q_target.load_state_dict(self.Q.state_dict())\n",
    "\n",
    "    def act(self, observation, eps=None):\n",
    "        if eps is None:\n",
    "            eps = self._eps\n",
    "        # epsilon greedy\n",
    "        if np.random.random() > eps:\n",
    "            action = self.Q.greedyAction(observation)\n",
    "        else: \n",
    "            action = self._action_space.sample()        \n",
    "        return action\n",
    "    \n",
    "    def store_transition(self, transition):\n",
    "        self.buffer.add_transition(transition)\n",
    "            \n",
    "    def train(self, iter_fit=32):\n",
    "        losses = []\n",
    "        self.train_iter+=1\n",
    "        if self._config[\"use_target_net\"] and self.train_iter % self._config[\"update_target_every\"] == 0:\n",
    "            self._update_target_net()                \n",
    "        for i in range(iter_fit):\n",
    "\n",
    "            # sample from the replay buffer\n",
    "            data=self.buffer.sample(batch=self._config['batch_size'])\n",
    "            s = np.stack(data[:,0]) # s_t\n",
    "            a = np.stack(data[:,1]) # a_t\n",
    "            rew = np.stack(data[:,2])[:,None] # rew  (batchsize,1)\n",
    "            s_prime = np.stack(data[:,3]) # s_t+1\n",
    "            done = np.stack(data[:,4])[:,None] # done signal  (batchsize,1)\n",
    "            \n",
    "            if self._config[\"use_target_net\"]:\n",
    "                v_prime = self.Q_target.maxQ(s_prime)\n",
    "            else:\n",
    "                v_prime = self.Q.maxQ(s_prime)\n",
    "            # target\n",
    "            gamma=self._config['discount']                                                \n",
    "            td_target = rew + gamma * (1.0-done) * v_prime\n",
    "            \n",
    "            # optimize the lsq objective\n",
    "            fit_loss = self.Q.fit(s, a, td_target)\n",
    "            \n",
    "            losses.append(fit_loss)\n",
    "                \n",
    "        return losses"
   ]
  },
  {
   "cell_type": "code",
   "execution_count": 5,
   "metadata": {},
   "outputs": [],
   "source": [
    "# dqn and rnd agent\n",
    "class DQNRNDAgent(object):\n",
    "    \"\"\"\n",
    "    Agent implementing Q-learning with NN function approximation.    \n",
    "    \"\"\"\n",
    "    def __init__(self, observation_space, action_space, **userconfig):\n",
    "        \n",
    "        if not isinstance(observation_space, spaces.box.Box):\n",
    "            raise UnsupportedSpace('Observation space {} incompatible ' \\\n",
    "                                   'with {}. (Require: Box)'.format(observation_space, self))\n",
    "        if not isinstance(action_space, spaces.discrete.Discrete):\n",
    "            raise UnsupportedSpace('Action space {} incompatible with {}.' \\\n",
    "                                   ' (Reqire Discrete.)'.format(action_space, self))\n",
    "        \n",
    "        self._observation_space = observation_space\n",
    "        self._action_space = action_space\n",
    "        self._action_n = action_space.n\n",
    "        self._config = {\n",
    "            \"eps\": 0.2,            # Epsilon in epsilon greedy policies \n",
    "            \"eps_decay\": 0.98,     # Epsilon decay rate\n",
    "            \"eps_min\": 0.001,       # Minimum epsilon                       \n",
    "            \"discount\": 0.98,\n",
    "            \"buffer_size\": int(1e5),\n",
    "            \"batch_size\": 128,\n",
    "            \"learning_rate\": 0.0001,\n",
    "            \"learning_rate_rnd\": 0.001,\n",
    "            \"update_target_every\": 20,\n",
    "            \"use_target_net\":True\n",
    "        }\n",
    "        self._config.update(userconfig)        \n",
    "        self._eps = self._config['eps']\n",
    "        \n",
    "        self.buffer = mem.Memory(max_size=self._config[\"buffer_size\"])\n",
    "\n",
    "        # RND\n",
    "        self.rnd = RND(input_dim=self._observation_space.shape[0], \n",
    "                       output_dim=self._action_n,\n",
    "                       learning_rate = self._config[\"learning_rate_rnd\"])\n",
    "                \n",
    "        # Q Network\n",
    "        self.Q = QFunction(observation_dim=self._observation_space.shape[0], \n",
    "                           action_dim=self._action_n,\n",
    "                           learning_rate = self._config[\"learning_rate\"])\n",
    "        # Q Network\n",
    "        self.Q_target = QFunction(observation_dim=self._observation_space.shape[0], \n",
    "                                  action_dim=self._action_n,\n",
    "                                  learning_rate = 0)\n",
    "        self._update_target_net()\n",
    "        self.train_iter = 0\n",
    "            \n",
    "    def _update_target_net(self):        \n",
    "        self.Q_target.load_state_dict(self.Q.state_dict())\n",
    "\n",
    "    def act(self, observation, eps=None):\n",
    "        if eps is None:\n",
    "            eps = self._eps\n",
    "        # epsilon greedy\n",
    "        if np.random.random() > eps:\n",
    "            action = self.Q.greedyAction(observation)\n",
    "        else: \n",
    "            action = self._action_space.sample()        \n",
    "        return action\n",
    "    \n",
    "    def store_transition(self, transition):\n",
    "        self.buffer.add_transition(transition)\n",
    "            \n",
    "    def train(self, iter_fit=32):\n",
    "        losses = []\n",
    "        self.train_iter+=1\n",
    "        if self._config[\"use_target_net\"] and self.train_iter % self._config[\"update_target_every\"] == 0:\n",
    "            self._update_target_net()                \n",
    "        for i in range(iter_fit):\n",
    "\n",
    "            # sample from the replay buffer\n",
    "            data=self.buffer.sample(batch=self._config['batch_size'])\n",
    "            s = np.stack(data[:,0]) # s_t\n",
    "            a = np.stack(data[:,1]) # a_t\n",
    "            rew = np.stack(data[:,2])[:,None] # rew  (batchsize,1)\n",
    "            s_prime = np.stack(data[:,3]) # s_t+1\n",
    "            done = np.stack(data[:,4])[:,None] # done signal  (batchsize,1)\n",
    "\n",
    "            rew_i = self.rnd.intrinsic_reward(torch.from_numpy(s.astype(np.float32)))\n",
    "            self.rnd.update_pred(rew_i)  # update predictor      \n",
    "            \n",
    "            if self._config[\"use_target_net\"]:\n",
    "                v_prime = self.Q_target.maxQ(s_prime)\n",
    "            else:\n",
    "                v_prime = self.Q.maxQ(s_prime)\n",
    "            # target\n",
    "            gamma=self._config['discount']                                                \n",
    "            td_target = rew + gamma * (1.0-done) * v_prime\n",
    "            \n",
    "            # optimize the lsq objective\n",
    "            fit_loss = self.Q.fit(s, a, td_target)\n",
    "            \n",
    "            losses.append(fit_loss)\n",
    "                \n",
    "        return losses"
   ]
  },
  {
   "cell_type": "markdown",
   "metadata": {},
   "source": [
    "## Test in Env"
   ]
  },
  {
   "cell_type": "code",
   "execution_count": 6,
   "metadata": {
    "ExecuteTime": {
     "end_time": "2023-06-13T20:35:14.532174Z",
     "start_time": "2023-06-13T20:35:14.524803Z"
    }
   },
   "outputs": [
    {
     "name": "stdout",
     "output_type": "stream",
     "text": [
      "Discrete(8)\n",
      "Box(-inf, inf, (18,), float32)\n",
      "[(np.float32(-inf), np.float32(inf)), (np.float32(-inf), np.float32(inf)), (np.float32(-inf), np.float32(inf)), (np.float32(-inf), np.float32(inf)), (np.float32(-inf), np.float32(inf)), (np.float32(-inf), np.float32(inf)), (np.float32(-inf), np.float32(inf)), (np.float32(-inf), np.float32(inf)), (np.float32(-inf), np.float32(inf)), (np.float32(-inf), np.float32(inf)), (np.float32(-inf), np.float32(inf)), (np.float32(-inf), np.float32(inf)), (np.float32(-inf), np.float32(inf)), (np.float32(-inf), np.float32(inf)), (np.float32(-inf), np.float32(inf)), (np.float32(-inf), np.float32(inf)), (np.float32(-inf), np.float32(inf)), (np.float32(-inf), np.float32(inf))]\n"
     ]
    }
   ],
   "source": [
    "# env_name = 'Pendulum-v1'\n",
    "# # env_name = 'CartPole-v0'\n",
    "# env = gym.make(env_name)\n",
    "\n",
    "env = h_env.HockeyEnv() #mode=h_env.Mode.TRAIN_SHOOTING # mode=h_env.Mode.TRAIN_DEFENSE\n",
    "env.discretize_actions(8)\n",
    "\n",
    "# if isinstance(env.action_space, spaces.Box):\n",
    "#     print(\"Discretizing actions\")\n",
    "#     env = DiscreteActionWrapper(env)\n",
    "\n",
    "ac_space = env.action_space\n",
    "o_space = env.observation_space\n",
    "print(ac_space)\n",
    "print(o_space)\n",
    "print(list(zip(env.observation_space.low, env.observation_space.high)))"
   ]
  },
  {
   "cell_type": "markdown",
   "metadata": {},
   "source": [
    "### No RND"
   ]
  },
  {
   "cell_type": "code",
   "execution_count": 7,
   "metadata": {
    "ExecuteTime": {
     "end_time": "2023-06-13T20:35:14.987456Z",
     "start_time": "2023-06-13T20:35:14.923064Z"
    },
    "scrolled": true
   },
   "outputs": [],
   "source": [
    "use_target = True\n",
    "target_update = 20\n",
    "q_agent = DQNAgent(o_space, ac_space, discount=0.98, eps=1.0, learning_rate=0.0002,\n",
    "                   use_target_net=use_target, update_target_every= target_update)"
   ]
  },
  {
   "cell_type": "code",
   "execution_count": 18,
   "metadata": {
    "ExecuteTime": {
     "end_time": "2023-06-13T20:35:15.235863Z",
     "start_time": "2023-06-13T20:35:15.225645Z"
    }
   },
   "outputs": [
    {
     "name": "stdout",
     "output_type": "stream",
     "text": [
      "[ 0.18664873  0.14136368  0.0171785  -0.29149756 -0.49872565  0.09790271\n",
      "  0.19065508 -0.08824717]\n"
     ]
    }
   ],
   "source": [
    "ob,_info = env.reset()\n",
    "obs_agent2 = env.obs_agent_two()\n",
    "player2 = h_env.BasicOpponent(weak=True)\n",
    "print(q_agent.Q.predict(ob))"
   ]
  },
  {
   "cell_type": "markdown",
   "metadata": {},
   "source": [
    "Running some episodes"
   ]
  },
  {
   "cell_type": "code",
   "execution_count": 96,
   "metadata": {
    "ExecuteTime": {
     "end_time": "2023-06-13T20:35:16.024504Z",
     "start_time": "2023-06-13T20:35:16.017220Z"
    }
   },
   "outputs": [],
   "source": [
    "stats = []\n",
    "losses = []\n",
    "wins = []"
   ]
  },
  {
   "cell_type": "code",
   "execution_count": 11,
   "metadata": {
    "ExecuteTime": {
     "end_time": "2023-06-13T20:37:59.986818Z",
     "start_time": "2023-06-13T20:35:16.714541Z"
    }
   },
   "outputs": [
    {
     "name": "stdout",
     "output_type": "stream",
     "text": [
      "1: Done after 31 steps. Reward: -10.77760086861421. Total wins: 0\n",
      "21: Done after 31 steps. Reward: -10.864412307186472. Total wins: 0\n",
      "41: Done after 146 steps. Reward: -11.73502882665752. Total wins: 3\n",
      "61: Done after 32 steps. Reward: -10.887139910200842. Total wins: 7\n",
      "81: Done after 251 steps. Reward: -7.752832194708201. Total wins: 10\n",
      "101: Done after 215 steps. Reward: -15.953541308368546. Total wins: 11\n",
      "121: Done after 181 steps. Reward: 7.510761354708589. Total wins: 13\n",
      "141: Done after 55 steps. Reward: -10.971100329249122. Total wins: 18\n",
      "161: Done after 251 steps. Reward: -12.030442558182735. Total wins: 22\n",
      "181: Done after 32 steps. Reward: -10.7990908355722. Total wins: 23\n",
      "201: Done after 68 steps. Reward: -11.79404115687987. Total wins: 24\n",
      "221: Done after 233 steps. Reward: 4.439251311703825. Total wins: 28\n",
      "241: Done after 44 steps. Reward: -10.923345370984975. Total wins: 30\n",
      "261: Done after 54 steps. Reward: -11.011089057365636. Total wins: 34\n",
      "281: Done after 160 steps. Reward: 7.4978864117691195. Total wins: 38\n",
      "301: Done after 52 steps. Reward: -11.269692687096398. Total wins: 41\n",
      "321: Done after 32 steps. Reward: -11.211841444613492. Total wins: 46\n",
      "341: Done after 207 steps. Reward: -11.741137667300782. Total wins: 49\n",
      "361: Done after 251 steps. Reward: -4.794501973779057. Total wins: 51\n",
      "381: Done after 251 steps. Reward: -4.850091216236929. Total wins: 55\n",
      "401: Done after 251 steps. Reward: -3.9905929473580186. Total wins: 61\n",
      "421: Done after 53 steps. Reward: 10.783780068815839. Total wins: 65\n",
      "441: Done after 15 steps. Reward: -10.759699505178443. Total wins: 67\n",
      "461: Done after 116 steps. Reward: 11.36920255570311. Total wins: 75\n",
      "481: Done after 229 steps. Reward: 9.794746751111603. Total wins: 78\n",
      "501: Done after 31 steps. Reward: -11.066262965181895. Total wins: 81\n",
      "521: Done after 251 steps. Reward: 0.617872208063784. Total wins: 87\n",
      "541: Done after 85 steps. Reward: -11.277819781666242. Total wins: 93\n",
      "561: Done after 113 steps. Reward: 9.581807776334498. Total wins: 99\n",
      "581: Done after 251 steps. Reward: -5.325933846359027. Total wins: 103\n",
      "601: Done after 251 steps. Reward: -7.677697703038001. Total wins: 109\n",
      "621: Done after 55 steps. Reward: -10.989967057097214. Total wins: 115\n",
      "641: Done after 32 steps. Reward: -11.37355553139801. Total wins: 120\n",
      "661: Done after 251 steps. Reward: -11.216439888690166. Total wins: 123\n",
      "681: Done after 119 steps. Reward: -10.876923234771697. Total wins: 128\n",
      "701: Done after 134 steps. Reward: -13.947141376535. Total wins: 129\n",
      "721: Done after 251 steps. Reward: -4.836986766053334. Total wins: 134\n",
      "741: Done after 251 steps. Reward: -5.744696769148542. Total wins: 138\n",
      "761: Done after 76 steps. Reward: 10.862676028981381. Total wins: 144\n",
      "781: Done after 80 steps. Reward: -10.91420473621497. Total wins: 147\n",
      "801: Done after 95 steps. Reward: -10.698004192631181. Total wins: 151\n",
      "821: Done after 183 steps. Reward: -12.106337070838753. Total wins: 155\n",
      "841: Done after 71 steps. Reward: 10.77204376316018. Total wins: 160\n",
      "861: Done after 199 steps. Reward: -18.7997556531432. Total wins: 162\n",
      "881: Done after 66 steps. Reward: -10.88651599738529. Total wins: 166\n",
      "901: Done after 31 steps. Reward: -10.879210191348559. Total wins: 173\n",
      "921: Done after 55 steps. Reward: 10.807362054483802. Total wins: 182\n",
      "941: Done after 165 steps. Reward: 9.595247123264334. Total wins: 186\n",
      "961: Done after 251 steps. Reward: -3.6803563671571906. Total wins: 189\n",
      "981: Done after 251 steps. Reward: -2.313526427454355. Total wins: 192\n",
      "1001: Done after 50 steps. Reward: 11.010017984647869. Total wins: 198\n",
      "1021: Done after 251 steps. Reward: -4.134078212601484. Total wins: 202\n",
      "1041: Done after 113 steps. Reward: -10.730375984127427. Total wins: 208\n",
      "1061: Done after 87 steps. Reward: -10.673549370950107. Total wins: 212\n",
      "1081: Done after 32 steps. Reward: -11.353670943838093. Total wins: 220\n",
      "1101: Done after 251 steps. Reward: -1.820833152663662. Total wins: 225\n",
      "1121: Done after 251 steps. Reward: 0.8908907637183391. Total wins: 229\n",
      "1141: Done after 43 steps. Reward: -11.319054939023047. Total wins: 237\n",
      "1161: Done after 31 steps. Reward: -11.314922076966813. Total wins: 242\n",
      "1181: Done after 53 steps. Reward: -10.992460581886716. Total wins: 249\n",
      "1201: Done after 144 steps. Reward: -10.801172691875937. Total wins: 253\n",
      "1221: Done after 93 steps. Reward: -11.74143558175825. Total wins: 257\n",
      "1241: Done after 69 steps. Reward: -11.773655639823001. Total wins: 263\n",
      "1261: Done after 251 steps. Reward: -0.8725378646705227. Total wins: 267\n",
      "1281: Done after 51 steps. Reward: -10.899771258901865. Total wins: 272\n",
      "1301: Done after 130 steps. Reward: -11.282708761785. Total wins: 276\n",
      "1321: Done after 251 steps. Reward: 0.3931856951863675. Total wins: 278\n",
      "1341: Done after 123 steps. Reward: 12.10823556179328. Total wins: 281\n",
      "1361: Done after 251 steps. Reward: -2.325550049826011. Total wins: 287\n",
      "1381: Done after 251 steps. Reward: -0.5816558997111572. Total wins: 290\n",
      "1401: Done after 31 steps. Reward: -10.94004455035093. Total wins: 296\n",
      "1421: Done after 251 steps. Reward: -4.222948500304232. Total wins: 300\n",
      "1441: Done after 36 steps. Reward: -10.985168798146141. Total wins: 303\n",
      "1461: Done after 54 steps. Reward: -10.795656892242642. Total wins: 307\n",
      "1481: Done after 138 steps. Reward: 9.65938538192706. Total wins: 313\n",
      "1501: Done after 69 steps. Reward: -11.714942877960716. Total wins: 321\n",
      "1521: Done after 251 steps. Reward: 1.5957720852417705. Total wins: 328\n",
      "1541: Done after 251 steps. Reward: -11.694501746015142. Total wins: 332\n",
      "1561: Done after 221 steps. Reward: -10.416337963401325. Total wins: 338\n",
      "1581: Done after 193 steps. Reward: -9.062007907432898. Total wins: 338\n",
      "1601: Done after 165 steps. Reward: -9.821568397969697. Total wins: 339\n",
      "1621: Done after 148 steps. Reward: 8.25391153640859. Total wins: 345\n",
      "1641: Done after 210 steps. Reward: -11.420438115052807. Total wins: 349\n",
      "1661: Done after 196 steps. Reward: -11.367714530662347. Total wins: 356\n",
      "1681: Done after 154 steps. Reward: -9.477247399188089. Total wins: 359\n",
      "1701: Done after 211 steps. Reward: -11.200510100862466. Total wins: 362\n",
      "1721: Done after 55 steps. Reward: -10.820148145424215. Total wins: 366\n",
      "1741: Done after 242 steps. Reward: 10.150876171151019. Total wins: 370\n",
      "1761: Done after 76 steps. Reward: -10.74179259753737. Total wins: 376\n",
      "1781: Done after 32 steps. Reward: -10.690200446262441. Total wins: 380\n",
      "1801: Done after 251 steps. Reward: -4.9635021011918115. Total wins: 386\n",
      "1821: Done after 72 steps. Reward: 10.23735449949805. Total wins: 392\n",
      "1841: Done after 69 steps. Reward: -11.573964038695763. Total wins: 395\n",
      "1861: Done after 251 steps. Reward: -0.6290710144952579. Total wins: 402\n",
      "1881: Done after 251 steps. Reward: 0.4063071734464194. Total wins: 404\n",
      "1901: Done after 125 steps. Reward: -9.942598714366282. Total wins: 407\n",
      "1921: Done after 108 steps. Reward: 10.447192781677371. Total wins: 414\n",
      "1941: Done after 251 steps. Reward: -0.04195368511833078. Total wins: 420\n",
      "1961: Done after 251 steps. Reward: 0.45469932674170355. Total wins: 425\n",
      "1981: Done after 35 steps. Reward: -11.095299644120068. Total wins: 427\n",
      "2001: Done after 50 steps. Reward: -10.861988216753716. Total wins: 430\n",
      "2021: Done after 118 steps. Reward: -11.313843646924543. Total wins: 435\n",
      "2041: Done after 251 steps. Reward: 0.10009324193190305. Total wins: 437\n",
      "2061: Done after 43 steps. Reward: -10.842090923601027. Total wins: 439\n",
      "2081: Done after 75 steps. Reward: -11.333205164060782. Total wins: 446\n",
      "2101: Done after 251 steps. Reward: -20.808855760538176. Total wins: 451\n",
      "2121: Done after 251 steps. Reward: -2.241770584159287. Total wins: 452\n",
      "2141: Done after 251 steps. Reward: -3.663369371756193. Total wins: 456\n",
      "2161: Done after 104 steps. Reward: 10.31482964688164. Total wins: 458\n",
      "2181: Done after 47 steps. Reward: -10.896168902327881. Total wins: 461\n",
      "2201: Done after 132 steps. Reward: -13.535384535081963. Total wins: 464\n",
      "2221: Done after 251 steps. Reward: -0.30224334792241603. Total wins: 464\n",
      "2241: Done after 48 steps. Reward: -10.986140896326326. Total wins: 466\n",
      "2261: Done after 31 steps. Reward: -10.951596009019859. Total wins: 466\n",
      "2281: Done after 84 steps. Reward: 10.343170292929273. Total wins: 472\n",
      "2301: Done after 251 steps. Reward: -4.090593500959838. Total wins: 474\n",
      "2321: Done after 46 steps. Reward: -11.101756140620914. Total wins: 480\n",
      "2341: Done after 207 steps. Reward: -11.142352032288205. Total wins: 485\n",
      "2361: Done after 121 steps. Reward: 10.793226233631941. Total wins: 491\n",
      "2381: Done after 93 steps. Reward: -11.773173016092187. Total wins: 497\n"
     ]
    }
   ],
   "source": [
    "max_episodes=2400\n",
    "max_steps=500 \n",
    "for i in range(max_episodes):\n",
    "    # print(\"Starting a new episode\")    \n",
    "    total_reward = 0\n",
    "    ob, _info = env.reset()\n",
    "    obs_agent2 = env.obs_agent_two() \n",
    "    for t in range(max_steps):\n",
    "        done = False        \n",
    "        a1_discrete = q_agent.act(ob)\n",
    "        a1 = env.action(a1_discrete)\n",
    "        a2 = player2.act(obs_agent2) #np.random.uniform(-1,1,4)\n",
    "        (ob_new, reward, done, trunc, _info) = env.step(np.hstack([a1,a2]))\n",
    "        total_reward+= reward\n",
    "        q_agent.store_transition((ob, a1_discrete, reward, ob_new, done))            \n",
    "        ob=ob_new\n",
    "        obs_agent2 = env.obs_agent_two()        \n",
    "        if done or trunc: break \n",
    "    wins.append(_info['winner'])\n",
    "    losses.extend(q_agent.train(32))\n",
    "    stats.append([i,total_reward,t+1])    \n",
    "\n",
    "    if q_agent._eps > q_agent._config['eps_min']:\n",
    "        q_agent._eps *= q_agent._config['eps_decay']    \n",
    "    \n",
    "    if ((i-1)%20==0):\n",
    "        sum_wins = np.sum(np.array(wins)==1)\n",
    "        print(\"{}: Done after {} steps. Reward: {}. Total wins: {}\".format(i, t+1, total_reward, sum_wins))"
   ]
  },
  {
   "cell_type": "code",
   "execution_count": 12,
   "metadata": {
    "ExecuteTime": {
     "end_time": "2023-06-13T20:38:00.312153Z",
     "start_time": "2023-06-13T20:37:59.988481Z"
    }
   },
   "outputs": [
    {
     "data": {
      "text/plain": [
       "<matplotlib.legend.Legend at 0x16d063a90>"
      ]
     },
     "execution_count": 12,
     "metadata": {},
     "output_type": "execute_result"
    },
    {
     "data": {
      "image/png": "[encoded data removed]",
      "text/plain": [
       "<Figure size 600x380 with 1 Axes>"
      ]
     },
     "metadata": {},
     "output_type": "display_data"
    }
   ],
   "source": [
    "stats_np = np.asarray(stats)\n",
    "losses_np = np.asarray(losses)\n",
    "fig=plt.figure(figsize=(6,3.8))\n",
    "plt.plot(stats_np[:,1], label=\"return\")\n",
    "plt.plot(running_mean(stats_np[:,1],20), label=\"smoothed-return\")\n",
    "plt.legend()"
   ]
  },
  {
   "cell_type": "code",
   "execution_count": 13,
   "metadata": {
    "ExecuteTime": {
     "end_time": "2023-06-13T20:23:10.760806Z",
     "start_time": "2023-06-13T20:23:10.613859Z"
    }
   },
   "outputs": [
    {
     "data": {
      "text/plain": [
       "[<matplotlib.lines.Line2D at 0x16d0eda50>]"
      ]
     },
     "execution_count": 13,
     "metadata": {},
     "output_type": "execute_result"
    },
    {
     "data": {
      "image/png": "[encoded data removed]",
      "text/plain": [
       "<Figure size 640x480 with 1 Axes>"
      ]
     },
     "metadata": {},
     "output_type": "display_data"
    }
   ],
   "source": [
    "plt.figure()\n",
    "plt.plot(losses_np)"
   ]
  },
  {
   "cell_type": "code",
   "execution_count": 16,
   "metadata": {
    "ExecuteTime": {
     "end_time": "2020-12-21T18:21:27.263872Z",
     "start_time": "2020-12-21T18:21:27.260798Z"
    }
   },
   "outputs": [],
   "source": [
    "# q_agent.train(1024)"
   ]
  },
  {
   "cell_type": "code",
   "execution_count": 69,
   "metadata": {
    "ExecuteTime": {
     "end_time": "2023-06-13T20:32:20.002524Z",
     "start_time": "2023-06-13T20:32:19.995734Z"
    }
   },
   "outputs": [
    {
     "data": {
      "text/plain": [
       "81815"
      ]
     },
     "execution_count": 69,
     "metadata": {},
     "output_type": "execute_result"
    }
   ],
   "source": [
    "q_agent.buffer.size"
   ]
  },
  {
   "cell_type": "markdown",
   "metadata": {},
   "source": [
    "### Using RND"
   ]
  },
  {
   "cell_type": "code",
   "execution_count": 15,
   "metadata": {},
   "outputs": [],
   "source": [
    "use_target = True\n",
    "target_update = 20\n",
    "q_rnd_agent = DQNRNDAgent(o_space, ac_space, discount=0.98, eps=1.0, learning_rate = 0.0002, \n",
    "                   use_target_net=use_target, update_target_every= target_update)"
   ]
  },
  {
   "cell_type": "code",
   "execution_count": 16,
   "metadata": {},
   "outputs": [
    {
     "name": "stdout",
     "output_type": "stream",
     "text": [
      "[-3.          0.          0.          0.          0.          0.\n",
      "  3.          0.          0.          0.          0.          0.\n",
      " -1.89741349  0.97957611  0.          0.          0.          0.        ]\n",
      "[-0.22510372 -0.16455725 -0.1625222   0.04051027  0.2635095   0.16391435\n",
      " -0.00208169 -0.22754519]\n",
      "tensor(0.0361, grad_fn=<MseLossBackward0>)\n"
     ]
    }
   ],
   "source": [
    "ob,_info = env.reset()\n",
    "obs_agent2 = env.obs_agent_two()\n",
    "player2 = h_env.BasicOpponent(weak=True)\n",
    "print(ob)\n",
    "print(q_rnd_agent.Q.predict(ob))\n",
    "print(q_rnd_agent.rnd.intrinsic_reward(torch.from_numpy(ob.astype(np.float32))))"
   ]
  },
  {
   "cell_type": "code",
   "execution_count": 17,
   "metadata": {},
   "outputs": [],
   "source": [
    "stats = []\n",
    "stats_intrinsic = []\n",
    "losses = []\n",
    "wins = []"
   ]
  },
  {
   "cell_type": "code",
   "execution_count": 18,
   "metadata": {},
   "outputs": [
    {
     "name": "stdout",
     "output_type": "stream",
     "text": [
      "1: Done after 251 steps. Reward: -26.901455406041826. Intrinsic Reward: 5.594142410698596 Total wins: 0\n",
      "21: Done after 251 steps. Reward: -8.943711001380604. Intrinsic Reward: 3.6556707884425665 Total wins: 1\n",
      "41: Done after 251 steps. Reward: -34.045877587772985. Intrinsic Reward: 35.92591400524726 Total wins: 2\n",
      "61: Done after 251 steps. Reward: -40.693342314808085. Intrinsic Reward: 10.050148600902384 Total wins: 3\n",
      "81: Done after 251 steps. Reward: -28.446969967400637. Intrinsic Reward: 7.582114648067498 Total wins: 3\n",
      "101: Done after 251 steps. Reward: -25.63369163126948. Intrinsic Reward: 8.460005583323584 Total wins: 3\n",
      "121: Done after 130 steps. Reward: -17.248277783027376. Intrinsic Reward: 7.074814142691792 Total wins: 4\n",
      "141: Done after 251 steps. Reward: -10.725369506334495. Intrinsic Reward: 7.122434682003483 Total wins: 6\n",
      "161: Done after 251 steps. Reward: -18.6138805799178. Intrinsic Reward: 9.761521148283581 Total wins: 7\n",
      "181: Done after 251 steps. Reward: -15.065024467298125. Intrinsic Reward: 18.62600575222693 Total wins: 8\n",
      "201: Done after 251 steps. Reward: -27.249234539918646. Intrinsic Reward: 18.44869457952041 Total wins: 11\n",
      "221: Done after 251 steps. Reward: -15.905178322320154. Intrinsic Reward: 6.4856590736713455 Total wins: 13\n",
      "241: Done after 125 steps. Reward: 11.887252541950396. Intrinsic Reward: 3.5992378682442183 Total wins: 18\n",
      "261: Done after 46 steps. Reward: -10.927525389362692. Intrinsic Reward: 2.296666581707201 Total wins: 20\n",
      "281: Done after 80 steps. Reward: -14.257592211166486. Intrinsic Reward: 7.087234830077953 Total wins: 20\n",
      "301: Done after 251 steps. Reward: -17.198227299550854. Intrinsic Reward: 11.35499384301194 Total wins: 24\n",
      "321: Done after 97 steps. Reward: -13.036133036785223. Intrinsic Reward: 4.023133500408414 Total wins: 24\n",
      "341: Done after 36 steps. Reward: -11.35005433688842. Intrinsic Reward: 1.9550354365836484 Total wins: 26\n",
      "361: Done after 208 steps. Reward: -7.792614401505922. Intrinsic Reward: 10.684969063168774 Total wins: 29\n",
      "381: Done after 104 steps. Reward: -16.494152098161805. Intrinsic Reward: 54.73378289178895 Total wins: 31\n",
      "401: Done after 39 steps. Reward: 10.597847825053519. Intrinsic Reward: 4.139443385687754 Total wins: 33\n",
      "421: Done after 251 steps. Reward: 1.092718300623106. Intrinsic Reward: 11.080218393638331 Total wins: 33\n",
      "441: Done after 39 steps. Reward: 10.621408445605011. Intrinsic Reward: 5.692875800783573 Total wins: 35\n",
      "461: Done after 251 steps. Reward: -18.40859093120123. Intrinsic Reward: 17.040962775143306 Total wins: 40\n",
      "481: Done after 83 steps. Reward: -11.58633032941303. Intrinsic Reward: 4.1540517438441755 Total wins: 41\n",
      "501: Done after 251 steps. Reward: -20.427420942118943. Intrinsic Reward: 13.069563439276532 Total wins: 44\n",
      "521: Done after 36 steps. Reward: 10.583423623391736. Intrinsic Reward: 11.128412924376528 Total wins: 47\n",
      "541: Done after 141 steps. Reward: -9.458560884185161. Intrinsic Reward: 6.58862422899829 Total wins: 50\n",
      "561: Done after 135 steps. Reward: 11.575561869092825. Intrinsic Reward: 7.11986299190126 Total wins: 55\n",
      "581: Done after 31 steps. Reward: 10.63657083204492. Intrinsic Reward: 11.650523073707284 Total wins: 59\n",
      "601: Done after 63 steps. Reward: 11.385192182148359. Intrinsic Reward: 5.385525701527139 Total wins: 64\n",
      "621: Done after 97 steps. Reward: -16.066576637126083. Intrinsic Reward: 13.900191902865595 Total wins: 67\n",
      "641: Done after 48 steps. Reward: 9.937680616244666. Intrinsic Reward: 221.7487332970153 Total wins: 71\n",
      "661: Done after 251 steps. Reward: -32.270413110032706. Intrinsic Reward: 40.445449604123056 Total wins: 75\n",
      "681: Done after 57 steps. Reward: -11.292623639003018. Intrinsic Reward: 12.43943692185588 Total wins: 80\n",
      "701: Done after 251 steps. Reward: -16.812371608117793. Intrinsic Reward: 178.25491373079925 Total wins: 82\n",
      "721: Done after 157 steps. Reward: 9.677743473198777. Intrinsic Reward: 102.42329712324424 Total wins: 86\n",
      "741: Done after 54 steps. Reward: -12.308087500949405. Intrinsic Reward: 3.9971320570537645 Total wins: 90\n",
      "761: Done after 251 steps. Reward: -14.895987597056582. Intrinsic Reward: 108.03380962461594 Total wins: 95\n",
      "781: Done after 251 steps. Reward: -18.557671068261595. Intrinsic Reward: 128.52300374952807 Total wins: 100\n",
      "801: Done after 59 steps. Reward: -11.758390162988453. Intrinsic Reward: 31.916383681317004 Total wins: 103\n",
      "821: Done after 251 steps. Reward: -8.156249402185889. Intrinsic Reward: 20.71532862604822 Total wins: 105\n",
      "841: Done after 114 steps. Reward: -17.87385499070568. Intrinsic Reward: 243.71429187447706 Total wins: 108\n",
      "861: Done after 251 steps. Reward: -19.294145528189063. Intrinsic Reward: 89.0065637947684 Total wins: 114\n",
      "881: Done after 251 steps. Reward: -3.106489914728905. Intrinsic Reward: 362.45042909181825 Total wins: 117\n",
      "901: Done after 70 steps. Reward: -11.157932417342753. Intrinsic Reward: 6.846218290142492 Total wins: 122\n",
      "921: Done after 55 steps. Reward: -11.52738964196035. Intrinsic Reward: 3.8115053166051993 Total wins: 123\n",
      "941: Done after 72 steps. Reward: -13.639087432926928. Intrinsic Reward: 38.02793973392577 Total wins: 126\n",
      "961: Done after 251 steps. Reward: -27.978462143536312. Intrinsic Reward: 66.021275469816 Total wins: 129\n",
      "981: Done after 193 steps. Reward: -15.805021181294572. Intrinsic Reward: 9.785993713029967 Total wins: 132\n",
      "1001: Done after 251 steps. Reward: -1.6659726567793811. Intrinsic Reward: 10.097787918378305 Total wins: 136\n",
      "1021: Done after 113 steps. Reward: 9.762183677115946. Intrinsic Reward: 6.832087662189154 Total wins: 143\n",
      "1041: Done after 251 steps. Reward: -17.36070375413656. Intrinsic Reward: 20.92271205849093 Total wins: 144\n",
      "1061: Done after 97 steps. Reward: -12.434817082210836. Intrinsic Reward: 3.7526640659173665 Total wins: 146\n",
      "1081: Done after 38 steps. Reward: 10.425004620309121. Intrinsic Reward: 6.3040974688384654 Total wins: 149\n",
      "1101: Done after 160 steps. Reward: 6.071582495803424. Intrinsic Reward: 7.085519609318234 Total wins: 152\n",
      "1121: Done after 43 steps. Reward: 9.739550164296197. Intrinsic Reward: 7.667062824394421 Total wins: 155\n",
      "1141: Done after 84 steps. Reward: 6.559548033963679. Intrinsic Reward: 5.509902176714776 Total wins: 160\n",
      "1161: Done after 251 steps. Reward: -0.22040500344197997. Intrinsic Reward: 16.07246672345069 Total wins: 162\n",
      "1181: Done after 224 steps. Reward: -18.490822849887692. Intrinsic Reward: 42.2901672979258 Total wins: 165\n",
      "1201: Done after 251 steps. Reward: -16.16771403072577. Intrinsic Reward: 33.92365848704899 Total wins: 168\n",
      "1221: Done after 251 steps. Reward: -23.108231911161525. Intrinsic Reward: 7.725333635037177 Total wins: 168\n",
      "1241: Done after 192 steps. Reward: -14.47743394385002. Intrinsic Reward: 11.7588159114262 Total wins: 169\n",
      "1261: Done after 105 steps. Reward: -10.367271169744376. Intrinsic Reward: 3.8186420785106847 Total wins: 169\n",
      "1281: Done after 88 steps. Reward: -12.310651950236918. Intrinsic Reward: 4.2338875257359305 Total wins: 171\n",
      "1301: Done after 158 steps. Reward: -11.469333288247242. Intrinsic Reward: 5.4720446071199005 Total wins: 175\n",
      "1321: Done after 198 steps. Reward: -12.079398678425736. Intrinsic Reward: 6.615825785780188 Total wins: 180\n",
      "1341: Done after 133 steps. Reward: -13.018512931055444. Intrinsic Reward: 4.487927480444589 Total wins: 183\n",
      "1361: Done after 161 steps. Reward: 10.495026220136129. Intrinsic Reward: 4.4060624017868815 Total wins: 187\n",
      "1381: Done after 59 steps. Reward: -11.313303167720093. Intrinsic Reward: 14.319452081457401 Total wins: 188\n",
      "1401: Done after 42 steps. Reward: -10.576176457325165. Intrinsic Reward: 1.6471856943510128 Total wins: 189\n",
      "1421: Done after 117 steps. Reward: -12.741106181242774. Intrinsic Reward: 10.697097069288334 Total wins: 191\n",
      "1441: Done after 251 steps. Reward: -10.77916191179165. Intrinsic Reward: 10.07392487460886 Total wins: 194\n",
      "1461: Done after 31 steps. Reward: -10.759742833104626. Intrinsic Reward: 1.4614247499274629 Total wins: 196\n",
      "1481: Done after 137 steps. Reward: 8.681348408031704. Intrinsic Reward: 4.2020046498732055 Total wins: 199\n",
      "1501: Done after 251 steps. Reward: -2.406091253062576. Intrinsic Reward: 21.601224320254914 Total wins: 204\n",
      "1521: Done after 251 steps. Reward: -14.919671094630274. Intrinsic Reward: 15.13132274017644 Total wins: 207\n",
      "1541: Done after 121 steps. Reward: -10.333815229457334. Intrinsic Reward: 4.294503137067921 Total wins: 207\n",
      "1561: Done after 155 steps. Reward: -14.837156808429953. Intrinsic Reward: 4.72743301476974 Total wins: 210\n",
      "1581: Done after 139 steps. Reward: -16.236642548433885. Intrinsic Reward: 9.883308230561369 Total wins: 213\n",
      "1601: Done after 145 steps. Reward: -10.228834420652051. Intrinsic Reward: 14.917610059482959 Total wins: 215\n",
      "1621: Done after 91 steps. Reward: 7.4461779605955885. Intrinsic Reward: 2.623200545763638 Total wins: 218\n",
      "1641: Done after 251 steps. Reward: -22.968537094361178. Intrinsic Reward: 5.109653607268178 Total wins: 222\n",
      "1661: Done after 126 steps. Reward: -14.02411601308902. Intrinsic Reward: 38.619496140086774 Total wins: 223\n",
      "1681: Done after 109 steps. Reward: -16.13904957065403. Intrinsic Reward: 4.817016116846375 Total wins: 228\n",
      "1701: Done after 205 steps. Reward: -8.436342421573599. Intrinsic Reward: 4.060845130072763 Total wins: 230\n",
      "1721: Done after 251 steps. Reward: -11.442001735448569. Intrinsic Reward: 8.045035519776427 Total wins: 232\n",
      "1741: Done after 251 steps. Reward: -11.445157209024835. Intrinsic Reward: 5.952085775619757 Total wins: 236\n",
      "1761: Done after 150 steps. Reward: -12.400940370010622. Intrinsic Reward: 4.96263878285783 Total wins: 240\n",
      "1781: Done after 251 steps. Reward: -14.544944615834217. Intrinsic Reward: 10.625722480672653 Total wins: 245\n",
      "1801: Done after 80 steps. Reward: -9.744067426991137. Intrinsic Reward: 2.1808504344393893 Total wins: 249\n",
      "1821: Done after 54 steps. Reward: 8.579057523124542. Intrinsic Reward: 6.641240993970398 Total wins: 257\n",
      "1841: Done after 155 steps. Reward: -15.147374263087034. Intrinsic Reward: 13.94398708720542 Total wins: 260\n",
      "1861: Done after 94 steps. Reward: -12.269073910097944. Intrinsic Reward: 3.7642147827705594 Total wins: 263\n",
      "1881: Done after 148 steps. Reward: -17.04344049439033. Intrinsic Reward: 4.317195181943761 Total wins: 266\n",
      "1901: Done after 251 steps. Reward: -31.766104102738733. Intrinsic Reward: 19.25122538707444 Total wins: 268\n",
      "1921: Done after 68 steps. Reward: 11.00724484089477. Intrinsic Reward: 2.9364959736051657 Total wins: 271\n",
      "1941: Done after 251 steps. Reward: -20.267914974880497. Intrinsic Reward: 11.157374379433461 Total wins: 274\n",
      "1961: Done after 251 steps. Reward: -0.3482981213336505. Intrinsic Reward: 8.365752244293986 Total wins: 277\n",
      "1981: Done after 87 steps. Reward: -14.63885654689389. Intrinsic Reward: 64.3639580053139 Total wins: 281\n",
      "2001: Done after 251 steps. Reward: -0.5141961758149044. Intrinsic Reward: 18.449529399123882 Total wins: 281\n",
      "2021: Done after 251 steps. Reward: -14.74125314585901. Intrinsic Reward: 1136.074779404342 Total wins: 284\n",
      "2041: Done after 104 steps. Reward: -11.344174697077282. Intrinsic Reward: 4.606574244661545 Total wins: 287\n",
      "2061: Done after 251 steps. Reward: -2.9774877774079296. Intrinsic Reward: 6.515791470277771 Total wins: 291\n",
      "2081: Done after 251 steps. Reward: -14.009577268092764. Intrinsic Reward: 12.437821792034576 Total wins: 294\n",
      "2101: Done after 251 steps. Reward: -7.425351458314317. Intrinsic Reward: 5.389874211227533 Total wins: 298\n",
      "2121: Done after 251 steps. Reward: -18.949193840657177. Intrinsic Reward: 14.649778416504807 Total wins: 299\n",
      "2141: Done after 251 steps. Reward: -3.115304201954668. Intrinsic Reward: 7.741940872175866 Total wins: 301\n",
      "2161: Done after 46 steps. Reward: 10.58248122932749. Intrinsic Reward: 47.65149097702473 Total wins: 304\n",
      "2181: Done after 251 steps. Reward: -18.285553900311747. Intrinsic Reward: 188.66552665051526 Total wins: 306\n",
      "2201: Done after 153 steps. Reward: -14.535362713627103. Intrinsic Reward: 43.39053552071315 Total wins: 310\n",
      "2221: Done after 251 steps. Reward: -4.702454226500207. Intrinsic Reward: 11.752375739206343 Total wins: 314\n",
      "2241: Done after 251 steps. Reward: -4.390773345380131. Intrinsic Reward: 9.35821132669241 Total wins: 316\n",
      "2261: Done after 144 steps. Reward: -9.394906975922016. Intrinsic Reward: 4.228163269196252 Total wins: 317\n",
      "2281: Done after 85 steps. Reward: -13.66398555715247. Intrinsic Reward: 5.620976870008724 Total wins: 321\n",
      "2301: Done after 38 steps. Reward: 10.60671113912123. Intrinsic Reward: 1.5462727695544831 Total wins: 324\n",
      "2321: Done after 251 steps. Reward: -2.586613046329213. Intrinsic Reward: 7.672251083763218 Total wins: 328\n",
      "2341: Done after 86 steps. Reward: -9.975519979611887. Intrinsic Reward: 3.874728968264327 Total wins: 335\n",
      "2361: Done after 31 steps. Reward: 10.471538718735244. Intrinsic Reward: 1.924335097131442 Total wins: 337\n",
      "2381: Done after 46 steps. Reward: -10.412467203179542. Intrinsic Reward: 1.8228078976614046 Total wins: 342\n"
     ]
    }
   ],
   "source": [
    "# with intrinsic rewards\n",
    "max_episodes=2400\n",
    "max_steps=500 \n",
    "# total_intrinsic_reward = 0\n",
    "# list_rew_i = []\n",
    "for i in range(max_episodes):\n",
    "    # print(\"Starting a new episode\")    \n",
    "    total_reward = 0\n",
    "    total_intrinsic_reward = 0\n",
    "    list_rew_i = []\n",
    "    ob, _info = env.reset()\n",
    "    obs_agent2 = env.obs_agent_two()\n",
    "    for t in range(max_steps):\n",
    "        done = False        \n",
    "        a1_discrete = q_rnd_agent.act(ob)\n",
    "        a1 = env.discrete_to_continous_action(a1_discrete)\n",
    "        a2 = player2.act(obs_agent2)\n",
    "        (ob_new, reward, done, trunc, _info) = env.step(np.hstack([a1,a2]))\n",
    "        total_reward+= reward\n",
    "        # get intrinsic rewards\n",
    "        reward_i = q_rnd_agent.rnd.intrinsic_reward(torch.from_numpy(ob.astype(np.float32))).detach().item() # .clamp(-1.0, 1.0)\n",
    "        list_rew_i.append(reward_i)\n",
    "\n",
    "        # find combined reward\n",
    "        if t==0:\n",
    "            combined_reward = reward + 0.01 * reward_i\n",
    "            total_intrinsic_reward+= 0.01 * reward_i\n",
    "        elif t>0:\n",
    "            # normalise intrinsic rewards by running std\n",
    "            # random = np.random.rand() * 10 # for control with random intrinsic reward\n",
    "            reward_i_norm = (reward_i)/np.std(list_rew_i) # normalised intrinsic reward\n",
    "            combined_reward = reward + 0.01 * reward_i_norm\n",
    "            total_intrinsic_reward+= 0.01 * reward_i_norm\n",
    "        q_rnd_agent.store_transition((ob, a1_discrete, combined_reward, ob_new, done))            \n",
    "        ob=ob_new  \n",
    "        obs_agent2 = env.obs_agent_two()      \n",
    "        if done or trunc: break   \n",
    "    wins.append(_info['winner'])\n",
    "    losses.extend(q_rnd_agent.train(32))\n",
    "    stats.append([i,total_reward,t+1])\n",
    "    stats_intrinsic.append([i,total_intrinsic_reward,t+1])\n",
    "    \n",
    "    if ((i-1)%20==0):\n",
    "        sum_wins = np.sum(np.array(wins)==1)\n",
    "        print(\"{}: Done after {} steps. Reward: {}. Intrinsic Reward: {} Total wins: {}\".format(\n",
    "            i, t+1, total_reward, total_intrinsic_reward, sum_wins))\n",
    "        \n",
    "    if q_rnd_agent._eps > q_rnd_agent._config['eps_min']:\n",
    "        q_rnd_agent._eps *= q_rnd_agent._config['eps_decay'] "
   ]
  },
  {
   "cell_type": "code",
   "execution_count": 19,
   "metadata": {},
   "outputs": [
    {
     "data": {
      "text/plain": [
       "<matplotlib.legend.Legend at 0x16c503550>"
      ]
     },
     "execution_count": 19,
     "metadata": {},
     "output_type": "execute_result"
    },
    {
     "data": {
      "image/png": "[encoded data removed]",
      "text/plain": [
       "<Figure size 600x380 with 1 Axes>"
      ]
     },
     "metadata": {},
     "output_type": "display_data"
    }
   ],
   "source": [
    "stats_np = np.asarray(stats)\n",
    "stats_intrinsic_np = np.asarray(stats_intrinsic)\n",
    "losses_np = np.asarray(losses)\n",
    "fig=plt.figure(figsize=(6,3.8))\n",
    "plt.plot(stats_np[:,1], label=\"return\")\n",
    "plt.plot(running_mean(stats_np[:,1],20), label=\"smoothed-return\")\n",
    "plt.legend()"
   ]
  },
  {
   "cell_type": "code",
   "execution_count": 20,
   "metadata": {},
   "outputs": [
    {
     "data": {
      "text/plain": [
       "<matplotlib.legend.Legend at 0x16c51d310>"
      ]
     },
     "execution_count": 20,
     "metadata": {},
     "output_type": "execute_result"
    },
    {
     "data": {
      "image/png": "[encoded data removed]",
      "text/plain": [
       "<Figure size 600x380 with 1 Axes>"
      ]
     },
     "metadata": {},
     "output_type": "display_data"
    }
   ],
   "source": [
    "fig=plt.figure(figsize=(6,3.8))\n",
    "plt.plot(stats_intrinsic_np[:,1]*0.01, label=\"return\")\n",
    "plt.plot(running_mean(stats_intrinsic_np[:,1]*0.01,20), label=\"smoothed-return\")\n",
    "plt.legend()"
   ]
  },
  {
   "cell_type": "code",
   "execution_count": 21,
   "metadata": {},
   "outputs": [
    {
     "data": {
      "text/plain": [
       "[<matplotlib.lines.Line2D at 0x16c417550>]"
      ]
     },
     "execution_count": 21,
     "metadata": {},
     "output_type": "execute_result"
    },
    {
     "data": {
      "image/png": "[encoded data removed]",
      "text/plain": [
       "<Figure size 640x480 with 1 Axes>"
      ]
     },
     "metadata": {},
     "output_type": "display_data"
    }
   ],
   "source": [
    "plt.figure()\n",
    "losses_new = losses_np[np.where(losses_np<10)[0]]\n",
    "plt.plot(losses_new)"
   ]
  },
  {
   "cell_type": "markdown",
   "metadata": {},
   "source": [
    "## Evaluate (without exploration)"
   ]
  },
  {
   "cell_type": "markdown",
   "metadata": {},
   "source": [
    "### Without RND"
   ]
  },
  {
   "cell_type": "code",
   "execution_count": 17,
   "metadata": {},
   "outputs": [],
   "source": [
    "env = h_env.HockeyEnv()\n",
    "env.discretize_actions(8)"
   ]
  },
  {
   "cell_type": "code",
   "execution_count": 18,
   "metadata": {
    "ExecuteTime": {
     "end_time": "2020-12-21T19:42:11.881581Z",
     "start_time": "2020-12-21T19:42:10.571890Z"
    }
   },
   "outputs": [],
   "source": [
    "test_stats = []\n",
    "wins = []\n",
    "episodes=100\n",
    "info = []\n",
    "for i in range(episodes):\n",
    "    total_reward = 0\n",
    "    ob, _info = env.reset()\n",
    "    obs_agent2 = env.obs_agent_two()\n",
    "    for t in range(max_steps):\n",
    "        #env.render()\n",
    "        done = False        \n",
    "        a1_discrete = q_agent.act(ob, eps=0.0)\n",
    "        a1 = env.action(a1_discrete)\n",
    "        a2 = player2.act(obs_agent2) # np.random.uniform(-1,1,4) #\n",
    "        (ob_new, reward, done, trunc, _info) = env.step(np.hstack([a1,a2]))\n",
    "        info.append(_info)\n",
    "        total_reward+= reward\n",
    "        ob=ob_new\n",
    "        obs_agent2 = env.obs_agent_two()        \n",
    "        if done: break    \n",
    "    test_stats.append([i,total_reward,t+1]) \n",
    "    wins.append(_info['winner'])       "
   ]
  },
  {
   "cell_type": "code",
   "execution_count": 19,
   "metadata": {
    "ExecuteTime": {
     "end_time": "2020-12-21T19:43:29.239950Z",
     "start_time": "2020-12-21T19:43:29.231426Z"
    }
   },
   "outputs": [
    {
     "name": "stdout",
     "output_type": "stream",
     "text": [
      "-2.055722727251254 +- 8.020435317871371\n",
      "24\n",
      "44\n"
     ]
    }
   ],
   "source": [
    "test_stats_np = np.array(test_stats)\n",
    "print(np.mean(test_stats_np[:,1]), \"+-\", np.std(test_stats_np[:,1]))\n",
    "print(np.sum(np.array(wins)==1))\n",
    "print(np.sum(np.array(wins)==0))"
   ]
  },
  {
   "cell_type": "markdown",
   "metadata": {},
   "source": [
    "### With RND"
   ]
  },
  {
   "cell_type": "code",
   "execution_count": 28,
   "metadata": {},
   "outputs": [],
   "source": [
    "env = h_env.HockeyEnv()\n",
    "env.discretize_actions(8)"
   ]
  },
  {
   "cell_type": "code",
   "execution_count": 30,
   "metadata": {},
   "outputs": [],
   "source": [
    "test_stats = []\n",
    "wins = []\n",
    "episodes=100\n",
    "\n",
    "for i in range(episodes):\n",
    "    total_reward = 0\n",
    "    ob, _info = env.reset()\n",
    "    obs_agent2 = env.obs_agent_two()\n",
    "    for t in range(max_steps):\n",
    "        #env.render()\n",
    "        done = False        \n",
    "        a1_discrete = q_rnd_agent.act(ob, eps=0.0)\n",
    "        a1 = env.discrete_to_continous_action(a1_discrete)\n",
    "        a2 = player2.act(obs_agent2)\n",
    "        (ob_new, reward, done, trunc, _info) = env.step(np.hstack([a1,a2]))\n",
    "        total_reward+= reward\n",
    "        ob=ob_new\n",
    "        obs_agent2 = env.obs_agent_two()        \n",
    "        if done: break    \n",
    "    test_stats.append([i,total_reward,t+1]) \n",
    "    wins.append(_info['winner'])               "
   ]
  },
  {
   "cell_type": "code",
   "execution_count": 31,
   "metadata": {},
   "outputs": [
    {
     "name": "stdout",
     "output_type": "stream",
     "text": [
      "-4.773779762439071 +- 9.797295032214459\n",
      "25\n",
      "29\n"
     ]
    }
   ],
   "source": [
    "test_stats_np = np.array(test_stats)\n",
    "print(np.mean(test_stats_np[:,1]), \"+-\", np.std(test_stats_np[:,1]))\n",
    "print(np.sum(np.array(wins)==1))\n",
    "print(np.sum(np.array(wins)==0))"
   ]
  }
 ],
 "metadata": {
  "kernelspec": {
   "display_name": ".venv",
   "language": "python",
   "name": "python3"
  },
  "language_info": {
   "codemirror_mode": {
    "name": "ipython",
    "version": 3
   },
   "file_extension": ".py",
   "mimetype": "text/x-python",
   "name": "python",
   "nbconvert_exporter": "python",
   "pygments_lexer": "ipython3",
   "version": "3.11.7"
  },
  "toc": {
   "base_numbering": 1,
   "nav_menu": {},
   "number_sections": true,
   "sideBar": true,
   "skip_h1_title": false,
   "title_cell": "Table of Contents",
   "title_sidebar": "Contents",
   "toc_cell": false,
   "toc_position": {},
   "toc_section_display": true,
   "toc_window_display": false
  }
 },
 "nbformat": 4,
 "nbformat_minor": 4
}
