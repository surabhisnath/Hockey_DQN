{
 "cells": [
  {
   "cell_type": "code",
   "execution_count": 1,
   "metadata": {
    "ExecuteTime": {
     "end_time": "2020-12-21T18:05:51.257918Z",
     "start_time": "2020-12-21T18:05:51.251728Z"
    }
   },
   "outputs": [
    {
     "name": "stdout",
     "output_type": "stream",
     "text": [
      "hi\n"
     ]
    }
   ],
   "source": [
    "import gymnasium as gym\n",
    "from gymnasium import spaces\n",
    "import numpy as np\n",
    "import time\n",
    "import torch\n",
    "from feedforward import DQNAgent\n",
    "import pylab as plt\n",
    "# %matplotlib inline\n",
    "from mpl_toolkits.mplot3d import Axes3D\n",
    "from matplotlib import cm\n",
    "import hockey.hockey_env as h_env\n",
    "print(\"hi\")"
   ]
  },
  {
   "cell_type": "markdown",
   "metadata": {},
   "source": [
    "## Helper Functions"
   ]
  },
  {
   "cell_type": "code",
   "execution_count": 2,
   "metadata": {
    "ExecuteTime": {
     "end_time": "2020-12-21T18:06:39.417731Z",
     "start_time": "2020-12-21T18:06:39.410580Z"
    }
   },
   "outputs": [],
   "source": [
    "def running_mean(x, N):\n",
    "    cumsum = np.cumsum(np.insert(x, 0, 0)) \n",
    "    return (cumsum[N:] - cumsum[:-N]) / float(N)"
   ]
  },
  {
   "cell_type": "code",
   "execution_count": 3,
   "metadata": {},
   "outputs": [],
   "source": [
    "class DiscreteActionWrapper(gym.ActionWrapper):\n",
    "    def __init__(self, env: gym.Env, bins = 5):\n",
    "        \"\"\"A wrapper for converting a 1D continuous actions into discrete ones.\n",
    "        Args:\n",
    "            env: The environment to apply the wrapper\n",
    "            bins: number of discrete actions\n",
    "        \"\"\"\n",
    "        assert isinstance(env.action_space, spaces.Box)\n",
    "        super().__init__(env)\n",
    "        self.bins = bins\n",
    "        self.orig_action_space = env.action_space\n",
    "        self.action_space = spaces.Discrete(self.bins)\n",
    "\n",
    "    def action(self, action):\n",
    "        \"\"\" discrete actions from low to high in 'bins'\n",
    "        Args:\n",
    "            action: The discrete action\n",
    "        Returns:\n",
    "            continuous action\n",
    "        \"\"\"\n",
    "        return self.orig_action_space.low + action/(self.bins-1.0)*(self.orig_action_space.high-self.orig_action_space.low)  "
   ]
  },
  {
   "cell_type": "markdown",
   "metadata": {},
   "source": [
    "## Test in Env"
   ]
  },
  {
   "cell_type": "code",
   "execution_count": 4,
   "metadata": {
    "ExecuteTime": {
     "end_time": "2020-12-21T19:02:23.234105Z",
     "start_time": "2020-12-21T19:02:23.223995Z"
    },
    "scrolled": true
   },
   "outputs": [
    {
     "name": "stdout",
     "output_type": "stream",
     "text": [
      "Discretizing actions\n"
     ]
    }
   ],
   "source": [
    "env_name = 'Pendulum-v1'\n",
    "# # env_name = 'CartPole-v0'\n",
    "env = gym.make(env_name)\n",
    "\n",
    "# env = h_env.HockeyEnv()\n",
    "\n",
    "if isinstance(env.action_space, spaces.Box):\n",
    "    print(\"Discretizing actions\")\n",
    "    env = DiscreteActionWrapper(env,5)\n",
    "\n",
    "ac_space = env.action_space\n",
    "o_space = env.observation_space\n",
    "\n",
    "\n",
    "q_agent = DQNAgent(o_space, ac_space, eps=0.2, update_Qt_after=20)"
   ]
  },
  {
   "cell_type": "code",
   "execution_count": 5,
   "metadata": {},
   "outputs": [
    {
     "name": "stdout",
     "output_type": "stream",
     "text": [
      "Discrete(5)\n",
      "Box([-1. -1. -8.], [1. 1. 8.], (3,), float32)\n"
     ]
    }
   ],
   "source": [
    "print(ac_space)\n",
    "print(o_space)"
   ]
  },
  {
   "cell_type": "markdown",
   "metadata": {},
   "source": [
    "Train the agent!"
   ]
  },
  {
   "cell_type": "code",
   "execution_count": 6,
   "metadata": {
    "ExecuteTime": {
     "end_time": "2020-12-21T19:03:37.085509Z",
     "start_time": "2020-12-21T19:02:25.394222Z"
    }
   },
   "outputs": [
    {
     "name": "stdout",
     "output_type": "stream",
     "text": [
      "1: Done after 500 steps. Reward: -4604.701931616069\n",
      "21: Done after 500 steps. Reward: -2946.272795377937\n",
      "41: Done after 500 steps. Reward: -3049.4533858515942\n",
      "61: Done after 500 steps. Reward: -3443.221281519682\n",
      "81: Done after 500 steps. Reward: -3441.899799185814\n",
      "101: Done after 500 steps. Reward: -3306.3482612436637\n",
      "121: Done after 500 steps. Reward: -3181.255106612291\n",
      "141: Done after 500 steps. Reward: -2856.7620976765375\n",
      "161: Done after 500 steps. Reward: -3101.4550221381796\n",
      "181: Done after 500 steps. Reward: -1835.406560063662\n",
      "201: Done after 500 steps. Reward: -534.4269713555007\n",
      "221: Done after 500 steps. Reward: -256.2524852456588\n",
      "241: Done after 500 steps. Reward: -768.2665985313829\n",
      "261: Done after 500 steps. Reward: -2006.2528518259649\n",
      "281: Done after 500 steps. Reward: -1878.9245703105971\n",
      "301: Done after 500 steps. Reward: -2363.920794867448\n",
      "321: Done after 500 steps. Reward: -4.670107503631812\n",
      "341: Done after 500 steps. Reward: -1488.231566341107\n",
      "361: Done after 500 steps. Reward: -373.55748768371285\n",
      "381: Done after 500 steps. Reward: -533.3782966152174\n",
      "401: Done after 500 steps. Reward: -411.0487341759017\n",
      "421: Done after 500 steps. Reward: -388.6458719471655\n",
      "441: Done after 500 steps. Reward: -5.1071317308167385\n",
      "461: Done after 500 steps. Reward: -130.03028467909581\n",
      "481: Done after 500 steps. Reward: -3.925500605808448\n",
      "501: Done after 500 steps. Reward: -128.21884673370667\n",
      "521: Done after 500 steps. Reward: -247.03572230989593\n",
      "541: Done after 500 steps. Reward: -377.0146448577237\n",
      "561: Done after 500 steps. Reward: -554.081556564539\n",
      "581: Done after 500 steps. Reward: -937.670138860253\n"
     ]
    }
   ],
   "source": [
    "stats = []\n",
    "losses = []\n",
    "\n",
    "max_episodes=600\n",
    "max_steps=500 \n",
    "for i in range(max_episodes):\n",
    "    # print(\"Starting a new episode\")    \n",
    "    total_reward = 0\n",
    "    ob, _info = env.reset()\n",
    "    for t in range(max_steps):      # fill buffer\n",
    "        done = False        \n",
    "        a = q_agent.act(ob)\n",
    "        (ob_new, reward, done, trunc, _info) = env.step(a)\n",
    "        total_reward+= reward\n",
    "        q_agent.store_transition((ob, a, reward, ob_new, done))            \n",
    "        ob=ob_new        \n",
    "        if done: break    \n",
    "    losses.extend(q_agent.train(32))\n",
    "    stats.append([i,total_reward,t+1])    \n",
    "    \n",
    "    if ((i-1)%20==0):\n",
    "        print(\"{}: Done after {} steps. Reward: {}\".format(i, t+1, total_reward))"
   ]
  },
  {
   "cell_type": "markdown",
   "metadata": {
    "ExecuteTime": {
     "end_time": "2020-12-21T19:29:28.951108Z",
     "start_time": "2020-12-21T19:29:28.946226Z"
    }
   },
   "source": [
    "Plot the training reward over time. Use the running_mean(array, window_size) to plot a smooth version "
   ]
  },
  {
   "cell_type": "code",
   "execution_count": 7,
   "metadata": {
    "ExecuteTime": {
     "end_time": "2020-12-21T19:29:48.979748Z",
     "start_time": "2020-12-21T19:29:48.974261Z"
    }
   },
   "outputs": [
    {
     "data": {
      "text/plain": [
       "<matplotlib.legend.Legend at 0x1563918b0>"
      ]
     },
     "execution_count": 7,
     "metadata": {},
     "output_type": "execute_result"
    },
    {
     "data": {
      "image/png": "[encoded data removed]",
      "text/plain": [
       "<Figure size 600x380 with 1 Axes>"
      ]
     },
     "metadata": {},
     "output_type": "display_data"
    }
   ],
   "source": [
    "stats_np = np.asarray(stats)\n",
    "fig=plt.figure(figsize=(6,3.8))\n",
    "plt.plot(stats_np[:,1], label=\"return\")\n",
    "plt.plot(running_mean(stats_np[:,1],20), label=\"smoothed-return\")\n",
    "plt.legend()"
   ]
  },
  {
   "cell_type": "code",
   "execution_count": 8,
   "metadata": {
    "ExecuteTime": {
     "end_time": "2020-12-21T19:30:10.718611Z",
     "start_time": "2020-12-21T19:30:10.713607Z"
    }
   },
   "outputs": [
    {
     "data": {
      "text/plain": [
       "[<matplotlib.lines.Line2D at 0x15995ae70>]"
      ]
     },
     "execution_count": 8,
     "metadata": {},
     "output_type": "execute_result"
    },
    {
     "data": {
      "image/png": "[encoded data removed]",
      "text/plain": [
       "<Figure size 640x480 with 1 Axes>"
      ]
     },
     "metadata": {},
     "output_type": "display_data"
    }
   ],
   "source": [
    "losses_np = np.asarray(losses)\n",
    "plt.figure()\n",
    "plt.plot(losses_np)"
   ]
  },
  {
   "cell_type": "markdown",
   "metadata": {},
   "source": [
    "## Evaluate (without exploration)"
   ]
  },
  {
   "cell_type": "markdown",
   "metadata": {},
   "source": [
    "Please look at the behavior for a small number of episodes"
   ]
  },
  {
   "cell_type": "code",
   "execution_count": 9,
   "metadata": {},
   "outputs": [],
   "source": [
    "env_eval = gym.make(env_name, render_mode=\"human\")\n",
    "if isinstance(env.action_space, spaces.Box):\n",
    "    env_eval = DiscreteActionWrapper(env_eval,5)"
   ]
  },
  {
   "cell_type": "code",
   "execution_count": 10,
   "metadata": {
    "ExecuteTime": {
     "end_time": "2020-12-21T19:04:24.675613Z",
     "start_time": "2020-12-21T19:04:23.832884Z"
    }
   },
   "outputs": [],
   "source": [
    "test_stats = []\n",
    "episodes=50\n",
    "env_ = env    # without rendering\n",
    "#env_ = env_eval # with rendering\n",
    "\n",
    "for i in range(episodes):\n",
    "    total_reward = 0\n",
    "    ob, _info = env_.reset()\n",
    "    for t in range(max_steps):\n",
    "        done = False        \n",
    "        a = q_agent.act(ob, eps=0.0)\n",
    "        (ob_new, reward, done, trunc, _info) = env_.step(a)\n",
    "        total_reward+= reward\n",
    "        ob=ob_new        \n",
    "        if done: break    \n",
    "    test_stats.append([i,total_reward,t+1])        "
   ]
  },
  {
   "cell_type": "markdown",
   "metadata": {},
   "source": [
    "Evaluate mean and standard deviation of performance \n",
    "\n",
    "(for the Pendulum: an average return around -30 or better should be achieved)\n",
    "\n",
    "(for the CartPendulum it is possible to get 200)"
   ]
  },
  {
   "cell_type": "code",
   "execution_count": 11,
   "metadata": {
    "ExecuteTime": {
     "end_time": "2020-12-21T19:32:07.922653Z",
     "start_time": "2020-12-21T19:32:07.918689Z"
    }
   },
   "outputs": [
    {
     "name": "stdout",
     "output_type": "stream",
     "text": [
      "-293.52390155407176 +- 913.8096535438326\n"
     ]
    }
   ],
   "source": [
    "test_stats_np = np.array(test_stats)\n",
    "print(np.mean(test_stats_np[:,1]), \"+-\", np.std(test_stats_np[:,1]))"
   ]
  },
  {
   "cell_type": "markdown",
   "metadata": {},
   "source": [
    "# Visualize"
   ]
  },
  {
   "cell_type": "markdown",
   "metadata": {},
   "source": [
    "Visualization of the value function."
   ]
  },
  {
   "cell_type": "code",
   "execution_count": null,
   "metadata": {},
   "outputs": [],
   "source": [
    "Adapt the value_function plotting from last time to plot the maxQ value"
   ]
  },
  {
   "cell_type": "markdown",
   "metadata": {},
   "source": [
    "## Pendulum Env"
   ]
  },
  {
   "cell_type": "markdown",
   "metadata": {},
   "source": [
    "Observation space:\n",
    "\n",
    "0 angle\n",
    "\n",
    "1 angular velocity"
   ]
  },
  {
   "cell_type": "markdown",
   "metadata": {
    "ExecuteTime": {
     "end_time": "2020-12-21T19:33:42.687725Z",
     "start_time": "2020-12-21T19:33:42.681341Z"
    }
   },
   "source": [
    "Do that for the pendulum function. Does it look like you expect?"
   ]
  },
  {
   "cell_type": "markdown",
   "metadata": {},
   "source": [
    "Do that for the pendulum function. Does it look like you expect"
   ]
  },
  {
   "cell_type": "code",
   "execution_count": null,
   "metadata": {},
   "outputs": [],
   "source": []
  },
  {
   "cell_type": "markdown",
   "metadata": {},
   "source": [
    "## Cartpole Env"
   ]
  },
  {
   "cell_type": "markdown",
   "metadata": {},
   "source": [
    "Observation space:\n",
    " \n",
    "0       Cart Position             -4.8                    4.8\n",
    "\n",
    "1       Cart Velocity             -Inf                    Inf\n",
    "\n",
    "2       Pole Angle                -0.418 rad (-24 deg)    0.418 rad (24 deg)\n",
    "\n",
    "3       Pole Angular Velocity     -Inf                    Inf"
   ]
  },
  {
   "cell_type": "markdown",
   "metadata": {},
   "source": [
    "Try to adapt the plotting function that it also works in higher input spaces where all other inputs are 0"
   ]
  },
  {
   "cell_type": "code",
   "execution_count": null,
   "metadata": {
    "ExecuteTime": {
     "end_time": "2020-12-21T18:54:50.314898Z",
     "start_time": "2020-12-21T18:54:49.995191Z"
    }
   },
   "outputs": [],
   "source": [
    "figQ = plot_Q_function_generic(q_agent.Q, input_dims=o_space.shape[0], plot_dim1=0, plot_dim2=2, \n",
    "                       label_dim1=\"Cart Pos\", label_dim2=\"Pole Angle\")"
   ]
  },
  {
   "cell_type": "code",
   "execution_count": null,
   "metadata": {
    "ExecuteTime": {
     "end_time": "2020-12-21T18:55:35.601378Z",
     "start_time": "2020-12-21T18:55:35.249950Z"
    }
   },
   "outputs": [],
   "source": [
    "figQ = plot_Q_function_generic(q_agent.Q, input_dims=o_space.shape[0], plot_dim1=0, plot_dim2=1, \n",
    "                       label_dim1=\"Cart Pos\", label_dim2=\"Cart Vel\")"
   ]
  },
  {
   "cell_type": "code",
   "execution_count": null,
   "metadata": {
    "ExecuteTime": {
     "end_time": "2020-12-21T18:56:35.399287Z",
     "start_time": "2020-12-21T18:56:35.347982Z"
    }
   },
   "outputs": [],
   "source": [
    "figQ = plot_Q_function_generic(q_agent.Q, input_dims=o_space.shape[0], plot_dim1=2, plot_dim2=3, \n",
    "                       label_dim1=\"Pol Angle\", label_dim2=\"Pole Vel\")"
   ]
  },
  {
   "cell_type": "code",
   "execution_count": null,
   "metadata": {},
   "outputs": [],
   "source": [
    "# env_name = 'Acrobot-v1'\n",
    "# env_name = 'MountainCar-v0'\n",
    "# env_name = 'LunarLander-v2'"
   ]
  }
 ],
 "metadata": {
  "kernelspec": {
   "display_name": ".env_RL_course",
   "language": "python",
   "name": "python3"
  },
  "language_info": {
   "codemirror_mode": {
    "name": "ipython",
    "version": 3
   },
   "file_extension": ".py",
   "mimetype": "text/x-python",
   "name": "python",
   "nbconvert_exporter": "python",
   "pygments_lexer": "ipython3",
   "version": "3.12.4"
  },
  "toc": {
   "base_numbering": 1,
   "nav_menu": {},
   "number_sections": true,
   "sideBar": true,
   "skip_h1_title": false,
   "title_cell": "Table of Contents",
   "title_sidebar": "Contents",
   "toc_cell": false,
   "toc_position": {},
   "toc_section_display": true,
   "toc_window_display": false
  }
 },
 "nbformat": 4,
 "nbformat_minor": 1
}
