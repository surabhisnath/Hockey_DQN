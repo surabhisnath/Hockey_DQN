{
 "cells": [
  {
   "cell_type": "code",
   "execution_count": 1,
   "metadata": {
    "ExecuteTime": {
     "end_time": "2020-12-21T18:05:51.257918Z",
     "start_time": "2020-12-21T18:05:51.251728Z"
    }
   },
   "outputs": [
    {
     "name": "stdout",
     "output_type": "stream",
     "text": [
      "hi\n"
     ]
    }
   ],
   "source": [
    "import gymnasium as gym\n",
    "from gymnasium import spaces\n",
    "import numpy as np\n",
    "import time\n",
    "import torch\n",
    "from feedforward import DQNAgent\n",
    "import pylab as plt\n",
    "# %matplotlib inline\n",
    "from mpl_toolkits.mplot3d import Axes3D\n",
    "from matplotlib import cm\n",
    "import hockey.hockey_env as h_env\n",
    "print(\"hi\")\n",
    "\n",
    "# https://github.com/Howuhh/prioritized_experience_replay/tree/main\n",
    "# https://github.com/quantumiracle/Popular-RL-Algorithms/blob/master/dqn_multistep.py#L212"
   ]
  },
  {
   "cell_type": "markdown",
   "metadata": {},
   "source": [
    "## Helper Functions"
   ]
  },
  {
   "cell_type": "code",
   "execution_count": 2,
   "metadata": {
    "ExecuteTime": {
     "end_time": "2020-12-21T18:06:39.417731Z",
     "start_time": "2020-12-21T18:06:39.410580Z"
    }
   },
   "outputs": [],
   "source": [
    "def running_mean(x, N):\n",
    "    cumsum = np.cumsum(np.insert(x, 0, 0)) \n",
    "    return (cumsum[N:] - cumsum[:-N]) / float(N)"
   ]
  },
  {
   "cell_type": "code",
   "execution_count": 3,
   "metadata": {},
   "outputs": [],
   "source": [
    "class DiscreteActionWrapper(gym.ActionWrapper):\n",
    "    def __init__(self, env: gym.Env, bins = 5):\n",
    "        \"\"\"A wrapper for converting a 1D continuous actions into discrete ones.\n",
    "        Args:\n",
    "            env: The environment to apply the wrapper\n",
    "            bins: number of discrete actions\n",
    "        \"\"\"\n",
    "        assert isinstance(env.action_space, spaces.Box)\n",
    "        super().__init__(env)\n",
    "        self.bins = bins\n",
    "        self.orig_action_space = env.action_space\n",
    "        self.action_space = spaces.Discrete(self.bins)\n",
    "\n",
    "    def action(self, action):\n",
    "        \"\"\" discrete actions from low to high in 'bins'\n",
    "        Args:\n",
    "            action: The discrete action\n",
    "        Returns:\n",
    "            continuous action\n",
    "        \"\"\"\n",
    "        return self.orig_action_space.low + action/(self.bins-1.0)*(self.orig_action_space.high-self.orig_action_space.low)  "
   ]
  },
  {
   "cell_type": "markdown",
   "metadata": {},
   "source": [
    "## Test in Env"
   ]
  },
  {
   "cell_type": "code",
   "execution_count": 4,
   "metadata": {
    "ExecuteTime": {
     "end_time": "2020-12-21T19:02:23.234105Z",
     "start_time": "2020-12-21T19:02:23.223995Z"
    },
    "scrolled": true
   },
   "outputs": [
    {
     "name": "stdout",
     "output_type": "stream",
     "text": [
      "Discrete(2)\n",
      "Box([-4.8               -inf -0.41887903        -inf], [4.8               inf 0.41887903        inf], (4,), float32)\n"
     ]
    },
    {
     "name": "stderr",
     "output_type": "stream",
     "text": [
      "/Users/snath/Nextcloud/Documents/PhD/Courses/RL/RL_project/.env_RL_course/lib/python3.12/site-packages/gymnasium/envs/registration.py:517: DeprecationWarning: \u001b[33mWARN: The environment CartPole-v0 is out of date. You should consider upgrading to version `v1`.\u001b[0m\n",
      "  logger.deprecation(\n"
     ]
    }
   ],
   "source": [
    "# env_name = 'Pendulum-v1'\n",
    "env_name = 'CartPole-v0'\n",
    "env = gym.make(env_name)\n",
    "\n",
    "# env = h_env.HockeyEnv()\n",
    "\n",
    "if isinstance(env.action_space, spaces.Box):\n",
    "    print(\"Discretizing actions\")\n",
    "    env = DiscreteActionWrapper(env,5)\n",
    "\n",
    "ac_space = env.action_space\n",
    "o_space = env.observation_space\n",
    "print(ac_space)\n",
    "print(o_space)"
   ]
  },
  {
   "cell_type": "code",
   "execution_count": 5,
   "metadata": {},
   "outputs": [],
   "source": [
    "# env_ = gym.make(env_name, render_mode=\"human\")\n",
    "# observation = env_.reset()\n",
    "\n",
    "# # Run for a few steps\n",
    "# for _ in range(50):  # Adjust steps as needed\n",
    "#     env_.render()  # Render the environment\n",
    "#     action = env_.action_space.sample()  # Choose a random action (0 or 1)\n",
    "#     observation, reward, done, _, _ = env_.step(action)  # Take a step\n",
    "    \n",
    "#     if done:\n",
    "#         observation = env_.reset()  # Reset if the episode ends\n",
    "\n",
    "# env_.close()  # Close the environment"
   ]
  },
  {
   "cell_type": "markdown",
   "metadata": {},
   "source": [
    "Train the agent!"
   ]
  },
  {
   "cell_type": "code",
   "execution_count": 6,
   "metadata": {},
   "outputs": [
    {
     "name": "stderr",
     "output_type": "stream",
     "text": [
      "/Users/snath/Nextcloud/Documents/PhD/Courses/RL/RL_project/feedforward.py:177: UserWarning: To copy construct from a tensor, it is recommended to use sourceTensor.clone().detach() or sourceTensor.clone().detach().requires_grad_(True), rather than torch.tensor(sourceTensor).\n",
      "  torch.tensor(actions_to_use, device=device),\n",
      "/Users/snath/Nextcloud/Documents/PhD/Courses/RL/RL_project/feedforward.py:49: UserWarning: To copy construct from a tensor, it is recommended to use sourceTensor.clone().detach() or sourceTensor.clone().detach().requires_grad_(True), rather than torch.tensor(sourceTensor).\n",
      "  weights = torch.tensor(weights, device=device, dtype=torch.float32)\n"
     ]
    },
    {
     "name": "stdout",
     "output_type": "stream",
     "text": [
      "500 episodes completed: Mean cumulative reward: 36.21\n",
      "1000 episodes completed: Mean cumulative reward: 45.25\n",
      "1500 episodes completed: Mean cumulative reward: 49.436\n",
      "2000 episodes completed: Mean cumulative reward: 142.546\n",
      "2500 episodes completed: Mean cumulative reward: 304.452\n",
      "3000 episodes completed: Mean cumulative reward: 275.806\n",
      "3500 episodes completed: Mean cumulative reward: 233.962\n",
      "4000 episodes completed: Mean cumulative reward: 241.28\n"
     ]
    },
    {
     "ename": "KeyboardInterrupt",
     "evalue": "",
     "output_type": "error",
     "traceback": [
      "\u001b[0;31m---------------------------------------------------------------------------\u001b[0m",
      "\u001b[0;31mKeyboardInterrupt\u001b[0m                         Traceback (most recent call last)",
      "Cell \u001b[0;32mIn[6], line 31\u001b[0m\n\u001b[1;32m     29\u001b[0m episode_rewards\u001b[38;5;241m.\u001b[39mappend(total_reward)\n\u001b[1;32m     30\u001b[0m cum_mean_episode_rewards\u001b[38;5;241m.\u001b[39mappend(np\u001b[38;5;241m.\u001b[39mmean(episode_rewards[\u001b[38;5;241m-\u001b[39mprintevery:]))\n\u001b[0;32m---> 31\u001b[0m losses\u001b[38;5;241m.\u001b[39mappend(np\u001b[38;5;241m.\u001b[39mmean(\u001b[43mq_agent\u001b[49m\u001b[38;5;241;43m.\u001b[39;49m\u001b[43mtrain\u001b[49m\u001b[43m(\u001b[49m\u001b[38;5;241;43m1\u001b[39;49m\u001b[43m)\u001b[49m))\n\u001b[1;32m     33\u001b[0m \u001b[38;5;28;01mif\u001b[39;00m((i\u001b[38;5;241m+\u001b[39m\u001b[38;5;241m1\u001b[39m)\u001b[38;5;241m%\u001b[39mprintevery\u001b[38;5;241m==\u001b[39m\u001b[38;5;241m0\u001b[39m):\n\u001b[1;32m     34\u001b[0m     \u001b[38;5;28mprint\u001b[39m(\u001b[38;5;124mf\u001b[39m\u001b[38;5;124m\"\u001b[39m\u001b[38;5;132;01m{\u001b[39;00mi\u001b[38;5;241m+\u001b[39m\u001b[38;5;241m1\u001b[39m\u001b[38;5;132;01m}\u001b[39;00m\u001b[38;5;124m episodes completed: Mean cumulative reward: \u001b[39m\u001b[38;5;132;01m{\u001b[39;00mnp\u001b[38;5;241m.\u001b[39mmean(episode_rewards[\u001b[38;5;241m-\u001b[39mprintevery:])\u001b[38;5;132;01m}\u001b[39;00m\u001b[38;5;124m\"\u001b[39m)\n",
      "File \u001b[0;32m~/Nextcloud/Documents/PhD/Courses/RL/RL_project/feedforward.py:207\u001b[0m, in \u001b[0;36mDQNAgent.train\u001b[0;34m(self, iter_fit)\u001b[0m\n\u001b[1;32m    204\u001b[0m     losses\u001b[38;5;241m.\u001b[39mappend(fit_loss)\n\u001b[1;32m    206\u001b[0m     \u001b[38;5;28;01mif\u001b[39;00m \u001b[38;5;28mself\u001b[39m\u001b[38;5;241m.\u001b[39m_config[\u001b[38;5;124m\"\u001b[39m\u001b[38;5;124mPrioritizedMemory\u001b[39m\u001b[38;5;124m\"\u001b[39m]:\n\u001b[0;32m--> 207\u001b[0m         \u001b[38;5;28;43mself\u001b[39;49m\u001b[38;5;241;43m.\u001b[39;49m\u001b[43mbuffer\u001b[49m\u001b[38;5;241;43m.\u001b[39;49m\u001b[43mupdate\u001b[49m\u001b[43m(\u001b[49m\u001b[43minds\u001b[49m\u001b[43m,\u001b[49m\u001b[43m \u001b[49m\u001b[43mtd_error\u001b[49m\u001b[38;5;241;43m.\u001b[39;49m\u001b[43mdetach\u001b[49m\u001b[43m(\u001b[49m\u001b[43m)\u001b[49m\u001b[38;5;241;43m.\u001b[39;49m\u001b[43mnumpy\u001b[49m\u001b[43m(\u001b[49m\u001b[43m)\u001b[49m\u001b[43m)\u001b[49m\n\u001b[1;32m    208\u001b[0m \u001b[38;5;28;01mreturn\u001b[39;00m losses\n",
      "File \u001b[0;32m~/Nextcloud/Documents/PhD/Courses/RL/RL_project/memory.py:146\u001b[0m, in \u001b[0;36mPrioritizedMemory.update\u001b[0;34m(self, inds, priorities)\u001b[0m\n\u001b[1;32m    144\u001b[0m \u001b[38;5;28;01mfor\u001b[39;00m ind, priority \u001b[38;5;129;01min\u001b[39;00m \u001b[38;5;28mzip\u001b[39m(inds, priorities):\n\u001b[1;32m    145\u001b[0m     priority \u001b[38;5;241m=\u001b[39m (priority \u001b[38;5;241m+\u001b[39m \u001b[38;5;28mself\u001b[39m\u001b[38;5;241m.\u001b[39meps) \u001b[38;5;241m*\u001b[39m\u001b[38;5;241m*\u001b[39m \u001b[38;5;28mself\u001b[39m\u001b[38;5;241m.\u001b[39malpha\n\u001b[0;32m--> 146\u001b[0m     \u001b[38;5;28;43mself\u001b[39;49m\u001b[38;5;241;43m.\u001b[39;49m\u001b[43mtree\u001b[49m\u001b[38;5;241;43m.\u001b[39;49m\u001b[43mupdate\u001b[49m\u001b[43m(\u001b[49m\u001b[43mind\u001b[49m\u001b[43m,\u001b[49m\u001b[43m \u001b[49m\u001b[43mpriority\u001b[49m\u001b[43m)\u001b[49m\n\u001b[1;32m    147\u001b[0m     \u001b[38;5;28mself\u001b[39m\u001b[38;5;241m.\u001b[39mmax_priority \u001b[38;5;241m=\u001b[39m \u001b[38;5;28mmax\u001b[39m(\u001b[38;5;28mself\u001b[39m\u001b[38;5;241m.\u001b[39mmax_priority, priority)\n",
      "File \u001b[0;32m~/Nextcloud/Documents/PhD/Courses/RL/RL_project/memory.py:170\u001b[0m, in \u001b[0;36mSumTree.update\u001b[0;34m(self, data_idx, value)\u001b[0m\n\u001b[1;32m    167\u001b[0m \u001b[38;5;28mself\u001b[39m\u001b[38;5;241m.\u001b[39mnodes[idx] \u001b[38;5;241m=\u001b[39m value\n\u001b[1;32m    169\u001b[0m parent \u001b[38;5;241m=\u001b[39m (idx \u001b[38;5;241m-\u001b[39m \u001b[38;5;241m1\u001b[39m) \u001b[38;5;241m/\u001b[39m\u001b[38;5;241m/\u001b[39m \u001b[38;5;241m2\u001b[39m\n\u001b[0;32m--> 170\u001b[0m \u001b[38;5;28;01mwhile\u001b[39;00m parent \u001b[38;5;241m>\u001b[39m\u001b[38;5;241m=\u001b[39m \u001b[38;5;241m0\u001b[39m:\n\u001b[1;32m    171\u001b[0m     \u001b[38;5;28mself\u001b[39m\u001b[38;5;241m.\u001b[39mnodes[parent] \u001b[38;5;241m+\u001b[39m\u001b[38;5;241m=\u001b[39m change\n\u001b[1;32m    172\u001b[0m     parent \u001b[38;5;241m=\u001b[39m (parent \u001b[38;5;241m-\u001b[39m \u001b[38;5;241m1\u001b[39m) \u001b[38;5;241m/\u001b[39m\u001b[38;5;241m/\u001b[39m \u001b[38;5;241m2\u001b[39m\n",
      "\u001b[0;31mKeyboardInterrupt\u001b[0m: "
     ]
    }
   ],
   "source": [
    "q_agent = DQNAgent(o_space, ac_space, eps=0.2, update_Qt_after=20, PrioritizedMemory=True, n_multi_step=3, double=True)\n",
    "\n",
    "episode_rewards = []\n",
    "cum_mean_episode_rewards = []\n",
    "losses = []\n",
    "max_episodes = 10000\n",
    "max_steps = 500 \n",
    "printevery = 500\n",
    "num_stored = 0\n",
    "for i in range(max_episodes):\n",
    "    # print(f\"Starting episode {i+1}\")\n",
    "    ob, _info = env.reset()\n",
    "    total_reward = 0\n",
    "    \n",
    "    for t in range(max_steps):   \n",
    "        a = q_agent.act(ob)\n",
    "        (ob_new, reward, done, trunc, _info) = env.step(a)\n",
    "\n",
    "        total_reward += reward\n",
    "        q_agent.store_transition((ob, a, reward, ob_new, done, i, t))            \n",
    "        num_stored += 1\n",
    "        ob=ob_new        \n",
    "\n",
    "        if done: \n",
    "            break\n",
    "\n",
    "    # print(f\"Episode {i+1} ended after {t+1} steps. Episode reward = {total_reward}\")\n",
    "\n",
    "    episode_rewards.append(total_reward)\n",
    "    cum_mean_episode_rewards.append(np.mean(episode_rewards[-printevery:]))\n",
    "    losses.append(np.mean(q_agent.train(1)))\n",
    "    \n",
    "    if((i+1)%printevery==0):\n",
    "        print(f\"{i+1} episodes completed: Mean cumulative reward: {np.mean(episode_rewards[-printevery:])}\")"
   ]
  },
  {
   "cell_type": "code",
   "execution_count": null,
   "metadata": {},
   "outputs": [],
   "source": []
  },
  {
   "cell_type": "code",
   "execution_count": null,
   "metadata": {},
   "outputs": [],
   "source": []
  },
  {
   "cell_type": "code",
   "execution_count": null,
   "metadata": {
    "ExecuteTime": {
     "end_time": "2020-12-21T19:03:37.085509Z",
     "start_time": "2020-12-21T19:02:25.394222Z"
    }
   },
   "outputs": [],
   "source": [
    "q_agent = DQNAgent(o_space, ac_space, eps=0.2, update_Qt_after=20, PrioritizedMemory=False, n_multi_step=None)\n",
    "\n",
    "episode_rewards = []\n",
    "cum_mean_episode_rewards = []\n",
    "losses = []\n",
    "max_episodes = 10000\n",
    "max_steps = 500 \n",
    "printevery = 500\n",
    "num_stored = 0\n",
    "for i in range(max_episodes):\n",
    "    # print(f\"Starting episode {i+1}\")\n",
    "    ob, _info = env.reset()\n",
    "    total_reward = 0\n",
    "    \n",
    "    for t in range(max_steps):   \n",
    "        a = q_agent.act(ob)\n",
    "        (ob_new, reward, done, trunc, _info) = env.step(a)\n",
    "\n",
    "        total_reward += reward\n",
    "        q_agent.store_transition((ob, a, reward, ob_new, done))            \n",
    "        num_stored += 1\n",
    "        ob=ob_new        \n",
    "\n",
    "        if done: \n",
    "            break\n",
    "\n",
    "    # print(f\"Episode {i+1} ended after {t+1} steps. Episode reward = {total_reward}\")\n",
    "\n",
    "    episode_rewards.append(total_reward)\n",
    "    cum_mean_episode_rewards.append(np.mean(episode_rewards[-printevery:]))\n",
    "    losses.append(np.mean(q_agent.train(1)))\n",
    "    \n",
    "    if((i+1)%printevery==0):\n",
    "        print(f\"{i+1} episodes completed: Mean cumulative reward: {np.mean(episode_rewards[-printevery:])}\")"
   ]
  },
  {
   "cell_type": "code",
   "execution_count": null,
   "metadata": {},
   "outputs": [],
   "source": [
    "q_agent = DQNAgent(o_space, ac_space, eps=0.2, update_Qt_after=20, PrioritizedMemory=True, n_multi_step=None)\n",
    "\n",
    "episode_rewards2 = []\n",
    "cum_mean_episode_rewards2 = []\n",
    "losses2 = []\n",
    "max_episodes = 10000\n",
    "max_steps = 500 \n",
    "printevery = 500\n",
    "num_stored = 0\n",
    "for i in range(max_episodes):\n",
    "    # print(f\"Starting episode {i+1}\")\n",
    "    ob, _info = env.reset()\n",
    "    total_reward = 0\n",
    "    \n",
    "    for t in range(max_steps):   \n",
    "        a = q_agent.act(ob)\n",
    "        (ob_new, reward, done, trunc, _info) = env.step(a)\n",
    "\n",
    "        total_reward += reward\n",
    "        q_agent.store_transition((ob, a, reward, ob_new, done))            \n",
    "        num_stored += 1\n",
    "        ob=ob_new        \n",
    "\n",
    "        if done: \n",
    "            break\n",
    "\n",
    "    # print(f\"Episode {i+1} ended after {t+1} steps. Episode reward = {total_reward}\")\n",
    "\n",
    "    episode_rewards2.append(total_reward)\n",
    "    cum_mean_episode_rewards2.append(np.mean(episode_rewards2[-printevery:]))\n",
    "    losses2.append(np.mean(q_agent.train(1)))\n",
    "    \n",
    "    if((i+1)%printevery==0):\n",
    "        print(f\"{i+1} episodes completed: Mean cumulative reward: {np.mean(episode_rewards2[-printevery:])}\")"
   ]
  },
  {
   "cell_type": "code",
   "execution_count": null,
   "metadata": {},
   "outputs": [],
   "source": [
    "q_agent = DQNAgent(o_space, ac_space, eps=0.2, update_Qt_after=20, PrioritizedMemory=False, n_multi_step=3)\n",
    "\n",
    "episode_rewards = []\n",
    "cum_mean_episode_rewards = []\n",
    "losses = []\n",
    "max_episodes = 10000\n",
    "max_steps = 500 \n",
    "printevery = 500\n",
    "num_stored = 0\n",
    "for i in range(max_episodes):\n",
    "    # print(f\"Starting episode {i+1}\")\n",
    "    ob, _info = env.reset()\n",
    "    total_reward = 0\n",
    "    \n",
    "    for t in range(max_steps):   \n",
    "        a = q_agent.act(ob)\n",
    "        (ob_new, reward, done, trunc, _info) = env.step(a)\n",
    "\n",
    "        total_reward += reward\n",
    "        q_agent.store_transition((ob, a, reward, ob_new, done))            \n",
    "        num_stored += 1\n",
    "        ob=ob_new        \n",
    "\n",
    "        if done: \n",
    "            break\n",
    "\n",
    "    # print(f\"Episode {i+1} ended after {t+1} steps. Episode reward = {total_reward}\")\n",
    "\n",
    "    episode_rewards.append(total_reward)\n",
    "    cum_mean_episode_rewards.append(np.mean(episode_rewards[-printevery:]))\n",
    "    losses.append(np.mean(q_agent.train(1)))\n",
    "    \n",
    "    if((i+1)%printevery==0):\n",
    "        print(f\"{i+1} episodes completed: Mean cumulative reward: {np.mean(episode_rewards[-printevery:])}\")"
   ]
  },
  {
   "cell_type": "code",
   "execution_count": null,
   "metadata": {},
   "outputs": [],
   "source": [
    "q_agent = DQNAgent(o_space, ac_space, eps=0.2, update_Qt_after=20, PrioritizedMemory=False, n_multi_step=None)\n",
    "\n",
    "episode_rewards2 = []\n",
    "cum_mean_episode_rewards2 = []\n",
    "losses2 = []\n",
    "max_episodes = 10000\n",
    "max_steps = 500 \n",
    "printevery = 500\n",
    "num_stored = 0\n",
    "for i in range(max_episodes):\n",
    "    # print(f\"Starting episode {i+1}\")\n",
    "    ob, _info = env.reset()\n",
    "    total_reward = 0\n",
    "    \n",
    "    for t in range(max_steps):   \n",
    "        a = q_agent.act(ob)\n",
    "        (ob_new, reward, done, trunc, _info) = env.step(a)\n",
    "\n",
    "        total_reward += reward\n",
    "        q_agent.store_transition((ob, a, reward, ob_new, done))            \n",
    "        num_stored += 1\n",
    "        ob=ob_new        \n",
    "\n",
    "        if done: \n",
    "            break\n",
    "\n",
    "    # print(f\"Episode {i+1} ended after {t+1} steps. Episode reward = {total_reward}\")\n",
    "\n",
    "    episode_rewards2.append(total_reward)\n",
    "    cum_mean_episode_rewards2.append(np.mean(episode_rewards2[-printevery:]))\n",
    "    losses2.append(np.mean(q_agent.train(1)))\n",
    "    \n",
    "    if((i+1)%printevery==0):\n",
    "        print(f\"{i+1} episodes completed: Mean cumulative reward: {np.mean(episode_rewards2[-printevery:])}\")"
   ]
  },
  {
   "cell_type": "markdown",
   "metadata": {
    "ExecuteTime": {
     "end_time": "2020-12-21T19:29:28.951108Z",
     "start_time": "2020-12-21T19:29:28.946226Z"
    }
   },
   "source": [
    "Plot the training reward over time. Use the running_mean(array, window_size) to plot a smooth version "
   ]
  },
  {
   "cell_type": "code",
   "execution_count": null,
   "metadata": {},
   "outputs": [],
   "source": [
    "plt.plot(cum_mean_episode_rewards, label=\"RANDOM\")\n",
    "plt.plot(cum_mean_episode_rewards2, label=\"PER\")\n",
    "plt.xlabel(\"Episodes\")\n",
    "plt.ylabel(\"Mean return across episodes\")\n",
    "plt.legend()"
   ]
  },
  {
   "cell_type": "code",
   "execution_count": null,
   "metadata": {
    "ExecuteTime": {
     "end_time": "2020-12-21T19:29:48.979748Z",
     "start_time": "2020-12-21T19:29:48.974261Z"
    }
   },
   "outputs": [],
   "source": [
    "# plt.plot(episode_rewards, label=\"return\")\n",
    "plt.plot(running_mean(episode_rewards,100), label=\"RANDOM\")\n",
    "plt.plot(running_mean(episode_rewards2,100), label=\"PER\")\n",
    "plt.legend()\n",
    "plt.xlabel(\"Training Episodes\")\n",
    "plt.ylabel(\"Episode Return\")"
   ]
  },
  {
   "cell_type": "code",
   "execution_count": null,
   "metadata": {},
   "outputs": [],
   "source": [
    "plt.figure()\n",
    "plt.plot(losses, alpha=0.3)\n",
    "plt.plot(losses2, alpha=0.3)"
   ]
  },
  {
   "cell_type": "markdown",
   "metadata": {},
   "source": [
    "## Evaluate (without exploration)"
   ]
  },
  {
   "cell_type": "markdown",
   "metadata": {},
   "source": [
    "Please look at the behavior for a small number of episodes"
   ]
  },
  {
   "cell_type": "code",
   "execution_count": null,
   "metadata": {
    "ExecuteTime": {
     "end_time": "2020-12-21T19:04:24.675613Z",
     "start_time": "2020-12-21T19:04:23.832884Z"
    }
   },
   "outputs": [],
   "source": [
    "env_eval = gym.make(env_name, render_mode=\"human\")\n",
    "# if isinstance(env.action_space, spaces.Box):\n",
    "#     env_eval = DiscreteActionWrapper(env_eval,5)\n",
    "\n",
    "\n",
    "test_stats = []\n",
    "episodes=50\n",
    "env_ = env    # without rendering\n",
    "# env_ = env_eval # with rendering\n",
    "\n",
    "for i in range(episodes):\n",
    "    total_reward = 0\n",
    "    ob, _info = env_.reset()\n",
    "    for t in range(max_steps):\n",
    "        done = False        \n",
    "        a = q_agent.act(ob, eps=0.0)\n",
    "        (ob_new, reward, done, trunc, _info) = env_.step(a)\n",
    "        total_reward+= reward\n",
    "        ob=ob_new        \n",
    "        if done: break    \n",
    "    test_stats.append([i,total_reward,t+1])        "
   ]
  },
  {
   "cell_type": "code",
   "execution_count": null,
   "metadata": {},
   "outputs": [],
   "source": [
    "test_stats_np = np.array(test_stats)\n",
    "print(np.mean(test_stats_np[:,1]), \"+-\", np.std(test_stats_np[:,1]))"
   ]
  },
  {
   "cell_type": "code",
   "execution_count": null,
   "metadata": {},
   "outputs": [],
   "source": [
    "env_eval = gym.make(env_name, render_mode=\"human\")\n",
    "# if isinstance(env.action_space, spaces.Box):\n",
    "#     env_eval = DiscreteActionWrapper(env_eval,5)\n",
    "\n",
    "\n",
    "test_stats = []\n",
    "episodes=10\n",
    "# env_ = env    # without rendering\n",
    "env_ = env_eval # with rendering\n",
    "\n",
    "for i in range(episodes):\n",
    "    total_reward = 0\n",
    "    ob, _info = env_.reset()\n",
    "    for t in range(max_steps):\n",
    "        done = False        \n",
    "        a = q_agent.act(ob, eps=0.0)\n",
    "        (ob_new, reward, done, trunc, _info) = env_.step(a)\n",
    "        total_reward+= reward\n",
    "        ob=ob_new        \n",
    "        if done: break    \n",
    "    test_stats.append([i,total_reward,t+1])        "
   ]
  },
  {
   "cell_type": "markdown",
   "metadata": {},
   "source": [
    "Evaluate mean and standard deviation of performance \n",
    "\n",
    "(for the Pendulum: an average return around -30 or better should be achieved)\n",
    "\n",
    "(for the CartPendulum it is possible to get 200)"
   ]
  },
  {
   "cell_type": "code",
   "execution_count": null,
   "metadata": {
    "ExecuteTime": {
     "end_time": "2020-12-21T19:32:07.922653Z",
     "start_time": "2020-12-21T19:32:07.918689Z"
    }
   },
   "outputs": [],
   "source": []
  },
  {
   "cell_type": "markdown",
   "metadata": {},
   "source": [
    "# Visualize"
   ]
  },
  {
   "cell_type": "markdown",
   "metadata": {},
   "source": [
    "Visualization of the value function."
   ]
  },
  {
   "cell_type": "code",
   "execution_count": null,
   "metadata": {},
   "outputs": [],
   "source": [
    "Adapt the value_function plotting from last time to plot the maxQ value"
   ]
  },
  {
   "cell_type": "markdown",
   "metadata": {},
   "source": [
    "## Pendulum Env"
   ]
  },
  {
   "cell_type": "markdown",
   "metadata": {},
   "source": [
    "Observation space:\n",
    "\n",
    "0 angle\n",
    "\n",
    "1 angular velocity"
   ]
  },
  {
   "cell_type": "markdown",
   "metadata": {
    "ExecuteTime": {
     "end_time": "2020-12-21T19:33:42.687725Z",
     "start_time": "2020-12-21T19:33:42.681341Z"
    }
   },
   "source": [
    "Do that for the pendulum function. Does it look like you expect?"
   ]
  },
  {
   "cell_type": "markdown",
   "metadata": {},
   "source": [
    "Do that for the pendulum function. Does it look like you expect"
   ]
  },
  {
   "cell_type": "code",
   "execution_count": null,
   "metadata": {},
   "outputs": [],
   "source": []
  },
  {
   "cell_type": "markdown",
   "metadata": {},
   "source": [
    "## Cartpole Env"
   ]
  },
  {
   "cell_type": "markdown",
   "metadata": {},
   "source": [
    "Observation space:\n",
    " \n",
    "0       Cart Position             -4.8                    4.8\n",
    "\n",
    "1       Cart Velocity             -Inf                    Inf\n",
    "\n",
    "2       Pole Angle                -0.418 rad (-24 deg)    0.418 rad (24 deg)\n",
    "\n",
    "3       Pole Angular Velocity     -Inf                    Inf"
   ]
  },
  {
   "cell_type": "markdown",
   "metadata": {},
   "source": [
    "Try to adapt the plotting function that it also works in higher input spaces where all other inputs are 0"
   ]
  },
  {
   "cell_type": "code",
   "execution_count": null,
   "metadata": {
    "ExecuteTime": {
     "end_time": "2020-12-21T18:54:50.314898Z",
     "start_time": "2020-12-21T18:54:49.995191Z"
    }
   },
   "outputs": [],
   "source": [
    "figQ = plot_Q_function_generic(q_agent.Q, input_dims=o_space.shape[0], plot_dim1=0, plot_dim2=2, \n",
    "                       label_dim1=\"Cart Pos\", label_dim2=\"Pole Angle\")"
   ]
  },
  {
   "cell_type": "code",
   "execution_count": null,
   "metadata": {
    "ExecuteTime": {
     "end_time": "2020-12-21T18:55:35.601378Z",
     "start_time": "2020-12-21T18:55:35.249950Z"
    }
   },
   "outputs": [],
   "source": [
    "figQ = plot_Q_function_generic(q_agent.Q, input_dims=o_space.shape[0], plot_dim1=0, plot_dim2=1, \n",
    "                       label_dim1=\"Cart Pos\", label_dim2=\"Cart Vel\")"
   ]
  },
  {
   "cell_type": "code",
   "execution_count": null,
   "metadata": {
    "ExecuteTime": {
     "end_time": "2020-12-21T18:56:35.399287Z",
     "start_time": "2020-12-21T18:56:35.347982Z"
    }
   },
   "outputs": [],
   "source": [
    "figQ = plot_Q_function_generic(q_agent.Q, input_dims=o_space.shape[0], plot_dim1=2, plot_dim2=3, \n",
    "                       label_dim1=\"Pol Angle\", label_dim2=\"Pole Vel\")"
   ]
  },
  {
   "cell_type": "code",
   "execution_count": null,
   "metadata": {},
   "outputs": [],
   "source": [
    "# env_name = 'Acrobot-v1'\n",
    "# env_name = 'MountainCar-v0'\n",
    "# env_name = 'LunarLander-v2'"
   ]
  }
 ],
 "metadata": {
  "kernelspec": {
   "display_name": ".env_RL_course",
   "language": "python",
   "name": "python3"
  },
  "language_info": {
   "codemirror_mode": {
    "name": "ipython",
    "version": 3
   },
   "file_extension": ".py",
   "mimetype": "text/x-python",
   "name": "python",
   "nbconvert_exporter": "python",
   "pygments_lexer": "ipython3",
   "version": "3.12.4"
  },
  "toc": {
   "base_numbering": 1,
   "nav_menu": {},
   "number_sections": true,
   "sideBar": true,
   "skip_h1_title": false,
   "title_cell": "Table of Contents",
   "title_sidebar": "Contents",
   "toc_cell": false,
   "toc_position": {},
   "toc_section_display": true,
   "toc_window_display": false
  }
 },
 "nbformat": 4,
 "nbformat_minor": 1
}
