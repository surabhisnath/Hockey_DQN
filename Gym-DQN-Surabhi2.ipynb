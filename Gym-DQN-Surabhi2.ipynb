{
 "cells": [
  {
   "cell_type": "code",
   "execution_count": null,
   "metadata": {
    "ExecuteTime": {
     "end_time": "2020-12-21T18:05:51.257918Z",
     "start_time": "2020-12-21T18:05:51.251728Z"
    }
   },
   "outputs": [],
   "source": [
    "import gymnasium as gym\n",
    "from gymnasium import spaces\n",
    "import numpy as np\n",
    "import time\n",
    "import torch\n",
    "from feedforward import DQNAgent\n",
    "import pylab as plt\n",
    "# %matplotlib inline\n",
    "from mpl_toolkits.mplot3d import Axes3D\n",
    "from matplotlib import cm\n",
    "import hockey.hockey_env as h_env\n",
    "print(\"hi\")"
   ]
  },
  {
   "cell_type": "markdown",
   "metadata": {},
   "source": [
    "## Helper Functions"
   ]
  },
  {
   "cell_type": "code",
   "execution_count": 2,
   "metadata": {
    "ExecuteTime": {
     "end_time": "2020-12-21T18:06:39.417731Z",
     "start_time": "2020-12-21T18:06:39.410580Z"
    }
   },
   "outputs": [],
   "source": [
    "def running_mean(x, N):\n",
    "    cumsum = np.cumsum(np.insert(x, 0, 0)) \n",
    "    return (cumsum[N:] - cumsum[:-N]) / float(N)"
   ]
  },
  {
   "cell_type": "code",
   "execution_count": null,
   "metadata": {},
   "outputs": [],
   "source": [
    "class DiscreteActionWrapper(gym.ActionWrapper):\n",
    "    def __init__(self, env: gym.Env, bins = 5):\n",
    "        \"\"\"A wrapper for converting a 1D continuous actions into discrete ones.\n",
    "        Args:\n",
    "            env: The environment to apply the wrapper\n",
    "            bins: number of discrete actions\n",
    "        \"\"\"\n",
    "        assert isinstance(env.action_space, spaces.Box)\n",
    "        super().__init__(env)\n",
    "        self.bins = bins\n",
    "        self.orig_action_space = env.action_space\n",
    "        self.action_space = spaces.Discrete(self.bins)\n",
    "\n",
    "    # def action(self, action):\n",
    "    #     \"\"\" discrete actions from low to high in 'bins'\n",
    "    #     Args:\n",
    "    #         action: The discrete action\n",
    "    #     Returns:\n",
    "    #         continuous action\n",
    "    #     \"\"\"\n",
    "    #     return self.orig_action_space.low + action/(self.bins-1.0)*(self.orig_action_space.high-self.orig_action_space.low)  "
   ]
  },
  {
   "cell_type": "markdown",
   "metadata": {},
   "source": [
    "## Test in Env"
   ]
  },
  {
   "cell_type": "code",
   "execution_count": null,
   "metadata": {
    "ExecuteTime": {
     "end_time": "2020-12-21T19:02:23.234105Z",
     "start_time": "2020-12-21T19:02:23.223995Z"
    },
    "scrolled": true
   },
   "outputs": [],
   "source": [
    "env_name = 'Pendulum-v1'\n",
    "# # env_name = 'CartPole-v0'\n",
    "env = gym.make(env_name)\n",
    "\n",
    "# env = h_env.HockeyEnv()\n",
    "\n",
    "if isinstance(env.action_space, spaces.Box):\n",
    "    print(\"Discretizing actions\")\n",
    "    env = DiscreteActionWrapper(env,5)\n",
    "\n",
    "ac_space = env.action_space\n",
    "o_space = env.observation_space\n",
    "\n",
    "\n",
    "q_agent = DQNAgent(o_space, ac_space, eps=0.2, update_Qt_after=20)"
   ]
  },
  {
   "cell_type": "code",
   "execution_count": null,
   "metadata": {},
   "outputs": [],
   "source": [
    "print(ac_space)\n",
    "print(o_space)"
   ]
  },
  {
   "cell_type": "markdown",
   "metadata": {},
   "source": [
    "Train the agent!"
   ]
  },
  {
   "cell_type": "code",
   "execution_count": null,
   "metadata": {
    "ExecuteTime": {
     "end_time": "2020-12-21T19:03:37.085509Z",
     "start_time": "2020-12-21T19:02:25.394222Z"
    }
   },
   "outputs": [],
   "source": [
    "stats = []\n",
    "losses = []\n",
    "\n",
    "max_episodes=600\n",
    "max_steps=500 \n",
    "for i in range(max_episodes):\n",
    "    # print(\"Starting a new episode\")    \n",
    "    total_reward = 0\n",
    "    ob, _info = env.reset()\n",
    "    for t in range(max_steps):      # fill buffer\n",
    "        done = False        \n",
    "        a = q_agent.act(ob)\n",
    "        (ob_new, reward, done, trunc, _info) = env.step(a)\n",
    "        total_reward+= reward\n",
    "        q_agent.store_transition((ob, a, reward, ob_new, done))            \n",
    "        ob=ob_new        \n",
    "        if done: break    \n",
    "    losses.extend(q_agent.train(32))\n",
    "    stats.append([i,total_reward,t+1])    \n",
    "    \n",
    "    if ((i-1)%20==0):\n",
    "        print(\"{}: Done after {} steps. Reward: {}\".format(i, t+1, total_reward))"
   ]
  },
  {
   "cell_type": "markdown",
   "metadata": {
    "ExecuteTime": {
     "end_time": "2020-12-21T19:29:28.951108Z",
     "start_time": "2020-12-21T19:29:28.946226Z"
    }
   },
   "source": [
    "Plot the training reward over time. Use the running_mean(array, window_size) to plot a smooth version "
   ]
  },
  {
   "cell_type": "code",
   "execution_count": null,
   "metadata": {
    "ExecuteTime": {
     "end_time": "2020-12-21T19:29:48.979748Z",
     "start_time": "2020-12-21T19:29:48.974261Z"
    }
   },
   "outputs": [],
   "source": [
    "stats_np = np.asarray(stats)\n",
    "fig=plt.figure(figsize=(6,3.8))\n",
    "plt.plot(stats_np[:,1], label=\"return\")\n",
    "plt.plot(running_mean(stats_np[:,1],20), label=\"smoothed-return\")\n",
    "plt.legend()"
   ]
  },
  {
   "cell_type": "code",
   "execution_count": null,
   "metadata": {
    "ExecuteTime": {
     "end_time": "2020-12-21T19:30:10.718611Z",
     "start_time": "2020-12-21T19:30:10.713607Z"
    }
   },
   "outputs": [],
   "source": [
    "losses_np = np.asarray(losses)\n",
    "plt.figure()\n",
    "plt.plot(losses_np)"
   ]
  },
  {
   "cell_type": "markdown",
   "metadata": {},
   "source": [
    "## Evaluate (without exploration)"
   ]
  },
  {
   "cell_type": "markdown",
   "metadata": {},
   "source": [
    "Please look at the behavior for a small number of episodes"
   ]
  },
  {
   "cell_type": "code",
   "execution_count": 9,
   "metadata": {},
   "outputs": [],
   "source": [
    "env_eval = gym.make(env_name, render_mode=\"human\")\n",
    "if isinstance(env.action_space, spaces.Box):\n",
    "    env_eval = DiscreteActionWrapper(env_eval,5)"
   ]
  },
  {
   "cell_type": "code",
   "execution_count": null,
   "metadata": {
    "ExecuteTime": {
     "end_time": "2020-12-21T19:04:24.675613Z",
     "start_time": "2020-12-21T19:04:23.832884Z"
    }
   },
   "outputs": [],
   "source": [
    "test_stats = []\n",
    "episodes=50\n",
    "# env_ = env    # without rendering\n",
    "env_ = env_eval # with rendering\n",
    "\n",
    "for i in range(episodes):\n",
    "    total_reward = 0\n",
    "    ob, _info = env_.reset()\n",
    "    for t in range(max_steps):\n",
    "        done = False        \n",
    "        a = q_agent.act(ob, eps=0.0)\n",
    "        (ob_new, reward, done, trunc, _info) = env_.step(a)\n",
    "        total_reward+= reward\n",
    "        ob=ob_new        \n",
    "        if done: break    \n",
    "    test_stats.append([i,total_reward,t+1])        "
   ]
  },
  {
   "cell_type": "markdown",
   "metadata": {},
   "source": [
    "Evaluate mean and standard deviation of performance \n",
    "\n",
    "(for the Pendulum: an average return around -30 or better should be achieved)\n",
    "\n",
    "(for the CartPendulum it is possible to get 200)"
   ]
  },
  {
   "cell_type": "code",
   "execution_count": null,
   "metadata": {
    "ExecuteTime": {
     "end_time": "2020-12-21T19:32:07.922653Z",
     "start_time": "2020-12-21T19:32:07.918689Z"
    }
   },
   "outputs": [],
   "source": [
    "test_stats_np = np.array(test_stats)\n",
    "print(np.mean(test_stats_np[:,1]), \"+-\", np.std(test_stats_np[:,1]))"
   ]
  },
  {
   "cell_type": "markdown",
   "metadata": {},
   "source": [
    "# Visualize"
   ]
  },
  {
   "cell_type": "markdown",
   "metadata": {},
   "source": [
    "Visualization of the value function."
   ]
  },
  {
   "cell_type": "code",
   "execution_count": null,
   "metadata": {},
   "outputs": [],
   "source": [
    "Adapt the value_function plotting from last time to plot the maxQ value"
   ]
  },
  {
   "cell_type": "markdown",
   "metadata": {},
   "source": [
    "## Pendulum Env"
   ]
  },
  {
   "cell_type": "markdown",
   "metadata": {},
   "source": [
    "Observation space:\n",
    "\n",
    "0 angle\n",
    "\n",
    "1 angular velocity"
   ]
  },
  {
   "cell_type": "markdown",
   "metadata": {
    "ExecuteTime": {
     "end_time": "2020-12-21T19:33:42.687725Z",
     "start_time": "2020-12-21T19:33:42.681341Z"
    }
   },
   "source": [
    "Do that for the pendulum function. Does it look like you expect?"
   ]
  },
  {
   "cell_type": "markdown",
   "metadata": {},
   "source": [
    "Do that for the pendulum function. Does it look like you expect"
   ]
  },
  {
   "cell_type": "code",
   "execution_count": null,
   "metadata": {},
   "outputs": [],
   "source": []
  },
  {
   "cell_type": "markdown",
   "metadata": {},
   "source": [
    "## Cartpole Env"
   ]
  },
  {
   "cell_type": "markdown",
   "metadata": {},
   "source": [
    "Observation space:\n",
    " \n",
    "0       Cart Position             -4.8                    4.8\n",
    "\n",
    "1       Cart Velocity             -Inf                    Inf\n",
    "\n",
    "2       Pole Angle                -0.418 rad (-24 deg)    0.418 rad (24 deg)\n",
    "\n",
    "3       Pole Angular Velocity     -Inf                    Inf"
   ]
  },
  {
   "cell_type": "markdown",
   "metadata": {},
   "source": [
    "Try to adapt the plotting function that it also works in higher input spaces where all other inputs are 0"
   ]
  },
  {
   "cell_type": "code",
   "execution_count": null,
   "metadata": {
    "ExecuteTime": {
     "end_time": "2020-12-21T18:54:50.314898Z",
     "start_time": "2020-12-21T18:54:49.995191Z"
    }
   },
   "outputs": [],
   "source": [
    "figQ = plot_Q_function_generic(q_agent.Q, input_dims=o_space.shape[0], plot_dim1=0, plot_dim2=2, \n",
    "                       label_dim1=\"Cart Pos\", label_dim2=\"Pole Angle\")"
   ]
  },
  {
   "cell_type": "code",
   "execution_count": null,
   "metadata": {
    "ExecuteTime": {
     "end_time": "2020-12-21T18:55:35.601378Z",
     "start_time": "2020-12-21T18:55:35.249950Z"
    }
   },
   "outputs": [],
   "source": [
    "figQ = plot_Q_function_generic(q_agent.Q, input_dims=o_space.shape[0], plot_dim1=0, plot_dim2=1, \n",
    "                       label_dim1=\"Cart Pos\", label_dim2=\"Cart Vel\")"
   ]
  },
  {
   "cell_type": "code",
   "execution_count": null,
   "metadata": {
    "ExecuteTime": {
     "end_time": "2020-12-21T18:56:35.399287Z",
     "start_time": "2020-12-21T18:56:35.347982Z"
    }
   },
   "outputs": [],
   "source": [
    "figQ = plot_Q_function_generic(q_agent.Q, input_dims=o_space.shape[0], plot_dim1=2, plot_dim2=3, \n",
    "                       label_dim1=\"Pol Angle\", label_dim2=\"Pole Vel\")"
   ]
  },
  {
   "cell_type": "code",
   "execution_count": null,
   "metadata": {},
   "outputs": [],
   "source": [
    "# env_name = 'Acrobot-v1'\n",
    "# env_name = 'MountainCar-v0'\n",
    "# env_name = 'LunarLander-v2'"
   ]
  }
 ],
 "metadata": {
  "kernelspec": {
   "display_name": "RL_course",
   "language": "python",
   "name": "python3"
  },
  "language_info": {
   "codemirror_mode": {
    "name": "ipython",
    "version": 3
   },
   "file_extension": ".py",
   "mimetype": "text/x-python",
   "name": "python",
   "nbconvert_exporter": "python",
   "pygments_lexer": "ipython3",
   "version": "3.12.7"
  },
  "toc": {
   "base_numbering": 1,
   "nav_menu": {},
   "number_sections": true,
   "sideBar": true,
   "skip_h1_title": false,
   "title_cell": "Table of Contents",
   "title_sidebar": "Contents",
   "toc_cell": false,
   "toc_position": {},
   "toc_section_display": true,
   "toc_window_display": false
  }
 },
 "nbformat": 4,
 "nbformat_minor": 1
}
