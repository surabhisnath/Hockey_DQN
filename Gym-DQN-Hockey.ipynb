{
 "cells": [
  {
   "cell_type": "code",
   "execution_count": 2,
   "metadata": {
    "ExecuteTime": {
     "end_time": "2020-12-21T18:05:51.257918Z",
     "start_time": "2020-12-21T18:05:51.251728Z"
    }
   },
   "outputs": [
    {
     "name": "stdout",
     "output_type": "stream",
     "text": [
      "hi\n"
     ]
    }
   ],
   "source": [
    "import gymnasium as gym\n",
    "from gymnasium import spaces\n",
    "import numpy as np\n",
    "import time\n",
    "import torch\n",
    "from agent import DQNAgent\n",
    "import pylab as plt0\n",
    "# %matplotlib inline\n",
    "from mpl_toolkits.mplot3d import Axes3D\n",
    "from matplotlib import cm\n",
    "import hockey.hockey_env as h_env\n",
    "print(\"hi\")"
   ]
  },
  {
   "cell_type": "markdown",
   "metadata": {},
   "source": [
    "## Helper Functions"
   ]
  },
  {
   "cell_type": "code",
   "execution_count": 3,
   "metadata": {
    "ExecuteTime": {
     "end_time": "2020-12-21T18:06:39.417731Z",
     "start_time": "2020-12-21T18:06:39.410580Z"
    }
   },
   "outputs": [],
   "source": [
    "def running_mean(x, N):\n",
    "    cumsum = np.cumsum(np.insert(x, 0, 0)) \n",
    "    return (cumsum[N:] - cumsum[:-N]) / float(N)"
   ]
  },
  {
   "cell_type": "code",
   "execution_count": 4,
   "metadata": {},
   "outputs": [],
   "source": [
    "# class DiscreteActionWrapper(gym.ActionWrapper):\n",
    "#     def __init__(self, env: gym.Env, bins = 8):\n",
    "#         \"\"\"A wrapper for converting a 1D continuous actions into discrete ones.\n",
    "#         Args:\n",
    "#             env: The environment to apply the wrapper\n",
    "#             bins: number of discrete actions\n",
    "#         \"\"\"\n",
    "#         assert isinstance(env.action_space, spaces.Box)\n",
    "#         super().__init__(env)\n",
    "#         self.bins = bins\n",
    "#         self.orig_action_space = env.action_space\n",
    "#         self.action_space = spaces.Discrete(self.bins)\n",
    "\n",
    "\n",
    "#     def action(self, action):\n",
    "#         \"\"\" discrete actions from low to high in 'bins'\n",
    "#         Args:\n",
    "#             action: The discrete action\n",
    "#         Returns:\n",
    "#             continuous action\n",
    "#         \"\"\"\n",
    "#         # return self.orig_action_space.low + action/(self.bins-1.0)*(self.orig_action_space.high-self.orig_action_space.low)\n",
    "#         return h_env.HockeyEnv.discrete_to_continous_action(self, action)"
   ]
  },
  {
   "cell_type": "markdown",
   "metadata": {},
   "source": [
    "## Test in Env"
   ]
  },
  {
   "cell_type": "code",
   "execution_count": 5,
   "metadata": {
    "ExecuteTime": {
     "end_time": "2020-12-21T19:02:23.234105Z",
     "start_time": "2020-12-21T19:02:23.223995Z"
    },
    "scrolled": true
   },
   "outputs": [],
   "source": [
    "# env_name = 'Pendulum-v1'\n",
    "# # env_name = 'CartPole-v0'\n",
    "# env = gym.make(env_name)\n",
    "\n",
    "env = h_env.HockeyEnv()\n",
    "env.discretize_actions(8)\n",
    "\n",
    "# if isinstance(env.action_space, spaces.Box):\n",
    "#     print(\"Discretizing actions\")\n",
    "#     env = DiscreteActionWrapper(env)\n",
    "\n",
    "ac_space = env.action_space\n",
    "o_space = env.observation_space"
   ]
  },
  {
   "cell_type": "code",
   "execution_count": 6,
   "metadata": {},
   "outputs": [
    {
     "name": "stdout",
     "output_type": "stream",
     "text": [
      "Discrete(8)\n",
      "Box(-inf, inf, (18,), float32)\n"
     ]
    }
   ],
   "source": [
    "print(ac_space)\n",
    "print(o_space)"
   ]
  },
  {
   "cell_type": "code",
   "execution_count": null,
   "metadata": {},
   "outputs": [],
   "source": []
  },
  {
   "cell_type": "code",
   "execution_count": 10,
   "metadata": {},
   "outputs": [],
   "source": [
    "q_agent = DQNAgent(o_space, ac_space, {'env': 'hockey', 'numdiscreteactions': 8, 'double': False, 'per': False, 'dueling': False, 'rnd': False, 'multistep': None, 'gamma': 0.95, 'alpha': 0.002, 'epsilon': 0.3, 'epsilondecay': 1, 'minepsilon': 0.001, 'buffersize': 100000, 'batchsize': 128, 'hiddensize': 128, 'activation': 'ReLU', 'numseeds': 10, 'numepisodes': 20000, 'numsteps': 500, 'fititerations': 32, 'update_Qt_after': 20, 'opponent': 'random', 'curriculum': False, 'save': True, 'savepath': '../saved/agent.pk', 'test': True, 'plot': True, 'plotpath': '../plots/', 'verbose': False})"
   ]
  },
  {
   "cell_type": "markdown",
   "metadata": {},
   "source": [
    "Train the agent!"
   ]
  },
  {
   "cell_type": "code",
   "execution_count": 12,
   "metadata": {
    "ExecuteTime": {
     "end_time": "2020-12-21T19:03:37.085509Z",
     "start_time": "2020-12-21T19:02:25.394222Z"
    }
   },
   "outputs": [
    {
     "name": "stdout",
     "output_type": "stream",
     "text": [
      "1: Done after 251 steps. Reward: 0.0\n",
      "101: Done after 251 steps. Reward: 0.0\n",
      "201: Done after 251 steps. Reward: 0.0\n",
      "301: Done after 196 steps. Reward: 1096.7881363071258\n",
      "401: Done after 251 steps. Reward: 0.0\n",
      "501: Done after 89 steps. Reward: 1091.522923936868\n",
      "601: Done after 102 steps. Reward: 1030.7763320330369\n",
      "701: Done after 251 steps. Reward: -85.10210583533573\n",
      "801: Done after 251 steps. Reward: 0.0\n",
      "901: Done after 251 steps. Reward: 0.0\n",
      "1001: Done after 251 steps. Reward: 0.0\n",
      "1101: Done after 251 steps. Reward: 0.0\n",
      "1201: Done after 143 steps. Reward: 956.752115982391\n",
      "1301: Done after 251 steps. Reward: -25.08521387006572\n",
      "1401: Done after 251 steps. Reward: 0.0\n"
     ]
    }
   ],
   "source": [
    "stats = []\n",
    "losses = []\n",
    "\n",
    "max_episodes=1500\n",
    "max_steps=500 \n",
    "for i in range(max_episodes):\n",
    "    # print(\"Starting a new episode\")\n",
    "    total_reward = 0\n",
    "    ob, _info = env.reset()\n",
    "    for t in range(max_steps):      # fill buffer\n",
    "        done = False        \n",
    "        qa = q_agent.act(ob)\n",
    "        a1 = env.action(qa)\n",
    "        a2 = np.random.uniform(-1,1,4)\n",
    "        (ob_new, reward, done, trunc, info) = env.step(np.hstack([a1,a2]))\n",
    "        total_reward+= reward\n",
    "        q_agent.store_transition((ob, qa, reward, ob_new, done))            \n",
    "        ob=ob_new        \n",
    "        if done: \n",
    "            break    \n",
    "    losses.extend(q_agent.train())\n",
    "    stats.append([i,total_reward,t+1])    \n",
    "    \n",
    "    if ((i-1)%100==0):\n",
    "        print(\"{}: Done after {} steps. Reward: {}\".format(i, t+1, total_reward))"
   ]
  },
  {
   "cell_type": "markdown",
   "metadata": {
    "ExecuteTime": {
     "end_time": "2020-12-21T19:29:28.951108Z",
     "start_time": "2020-12-21T19:29:28.946226Z"
    }
   },
   "source": [
    "Plot the training reward over time. Use the running_mean(array, window_size) to plot a smooth version "
   ]
  },
  {
   "cell_type": "code",
   "execution_count": 13,
   "metadata": {
    "ExecuteTime": {
     "end_time": "2020-12-21T19:29:48.979748Z",
     "start_time": "2020-12-21T19:29:48.974261Z"
    }
   },
   "outputs": [
    {
     "ename": "NameError",
     "evalue": "name 'plt' is not defined",
     "output_type": "error",
     "traceback": [
      "\u001b[0;31m---------------------------------------------------------------------------\u001b[0m",
      "\u001b[0;31mNameError\u001b[0m                                 Traceback (most recent call last)",
      "Cell \u001b[0;32mIn[13], line 2\u001b[0m\n\u001b[1;32m      1\u001b[0m stats_np \u001b[38;5;241m=\u001b[39m np\u001b[38;5;241m.\u001b[39masarray(stats)\n\u001b[0;32m----> 2\u001b[0m fig\u001b[38;5;241m=\u001b[39m\u001b[43mplt\u001b[49m\u001b[38;5;241m.\u001b[39mfigure(figsize\u001b[38;5;241m=\u001b[39m(\u001b[38;5;241m6\u001b[39m,\u001b[38;5;241m3.8\u001b[39m))\n\u001b[1;32m      3\u001b[0m plt\u001b[38;5;241m.\u001b[39mplot(stats_np[:,\u001b[38;5;241m1\u001b[39m], label\u001b[38;5;241m=\u001b[39m\u001b[38;5;124m\"\u001b[39m\u001b[38;5;124mreturn\u001b[39m\u001b[38;5;124m\"\u001b[39m)\n\u001b[1;32m      4\u001b[0m plt\u001b[38;5;241m.\u001b[39mplot(running_mean(stats_np[:,\u001b[38;5;241m1\u001b[39m],\u001b[38;5;241m100\u001b[39m), label\u001b[38;5;241m=\u001b[39m\u001b[38;5;124m\"\u001b[39m\u001b[38;5;124msmoothed-return\u001b[39m\u001b[38;5;124m\"\u001b[39m)\n",
      "\u001b[0;31mNameError\u001b[0m: name 'plt' is not defined"
     ]
    }
   ],
   "source": [
    "stats_np = np.asarray(stats)\n",
    "fig=plt.figure(figsize=(6,3.8))\n",
    "plt.plot(stats_np[:,1], label=\"return\")\n",
    "plt.plot(running_mean(stats_np[:,1],100), label=\"smoothed-return\")\n",
    "plt.legend()"
   ]
  },
  {
   "cell_type": "code",
   "execution_count": 14,
   "metadata": {
    "ExecuteTime": {
     "end_time": "2020-12-21T19:30:10.718611Z",
     "start_time": "2020-12-21T19:30:10.713607Z"
    }
   },
   "outputs": [
    {
     "ename": "NameError",
     "evalue": "name 'plt' is not defined",
     "output_type": "error",
     "traceback": [
      "\u001b[0;31m---------------------------------------------------------------------------\u001b[0m",
      "\u001b[0;31mNameError\u001b[0m                                 Traceback (most recent call last)",
      "Cell \u001b[0;32mIn[14], line 2\u001b[0m\n\u001b[1;32m      1\u001b[0m losses_np \u001b[38;5;241m=\u001b[39m np\u001b[38;5;241m.\u001b[39masarray(losses)\n\u001b[0;32m----> 2\u001b[0m \u001b[43mplt\u001b[49m\u001b[38;5;241m.\u001b[39mfigure(figsize\u001b[38;5;241m=\u001b[39m(\u001b[38;5;241m45\u001b[39m,\u001b[38;5;241m3\u001b[39m))\n\u001b[1;32m      3\u001b[0m plt\u001b[38;5;241m.\u001b[39mplot(losses_np)\n",
      "\u001b[0;31mNameError\u001b[0m: name 'plt' is not defined"
     ]
    }
   ],
   "source": [
    "losses_np = np.asarray(losses)\n",
    "plt.figure(figsize=(45,3))\n",
    "plt.plot(losses_np)"
   ]
  },
  {
   "cell_type": "markdown",
   "metadata": {},
   "source": [
    "## Evaluate (without exploration)"
   ]
  },
  {
   "cell_type": "markdown",
   "metadata": {},
   "source": [
    "Please look at the behavior for a small number of episodes"
   ]
  },
  {
   "cell_type": "code",
   "execution_count": 20,
   "metadata": {},
   "outputs": [],
   "source": [
    "env = h_env.HockeyEnv()\n",
    "env.discretize_actions(8)\n",
    "player2 = h_env.BasicOpponent(weak=True)"
   ]
  },
  {
   "cell_type": "code",
   "execution_count": 21,
   "metadata": {
    "ExecuteTime": {
     "end_time": "2020-12-21T19:04:24.675613Z",
     "start_time": "2020-12-21T19:04:23.832884Z"
    }
   },
   "outputs": [],
   "source": [
    "test_stats = []\n",
    "wins = []\n",
    "episodes=10\n",
    "\n",
    "for i in range(episodes):\n",
    "    total_reward = 0\n",
    "    ob, _info = env.reset()\n",
    "    obs_agent2 = env.obs_agent_two()\n",
    "    for t in range(max_steps):\n",
    "        env.render()\n",
    "        done = False        \n",
    "        a1_discrete = q_agent.act(ob)\n",
    "        a1 = env.action(a1_discrete)\n",
    "        a2 = player2.act(obs_agent2) # np.random.uniform(-1,1,4) #\n",
    "        (ob_new, reward, done, trunc, _info) = env.step(np.hstack([a1,a2]))\n",
    "        total_reward+= reward\n",
    "        ob=ob_new\n",
    "        obs_agent2 = env.obs_agent_two()        \n",
    "        if done: break    \n",
    "    test_stats.append([i,total_reward,t+1]) \n",
    "    wins.append(_info['winner'])       "
   ]
  },
  {
   "cell_type": "markdown",
   "metadata": {},
   "source": [
    "Evaluate mean and standard deviation of performance \n",
    "\n",
    "(for the Pendulum: an average return around -30 or better should be achieved)\n",
    "\n",
    "(for the CartPendulum it is possible to get 200)"
   ]
  },
  {
   "cell_type": "code",
   "execution_count": null,
   "metadata": {
    "ExecuteTime": {
     "end_time": "2020-12-21T19:32:07.922653Z",
     "start_time": "2020-12-21T19:32:07.918689Z"
    }
   },
   "outputs": [],
   "source": [
    "test_stats_np = np.array(test_stats)\n",
    "print(np.mean(test_stats_np[:,1]), \"+-\", np.std(test_stats_np[:,1]))"
   ]
  },
  {
   "cell_type": "markdown",
   "metadata": {},
   "source": [
    "# Visualize"
   ]
  },
  {
   "cell_type": "markdown",
   "metadata": {},
   "source": [
    "Visualization of the value function."
   ]
  },
  {
   "cell_type": "code",
   "execution_count": null,
   "metadata": {},
   "outputs": [],
   "source": [
    "Adapt the value_function plotting from last time to plot the maxQ value"
   ]
  },
  {
   "cell_type": "markdown",
   "metadata": {},
   "source": [
    "## Pendulum Env"
   ]
  },
  {
   "cell_type": "markdown",
   "metadata": {},
   "source": [
    "Observation space:\n",
    "\n",
    "0 angle\n",
    "\n",
    "1 angular velocity"
   ]
  },
  {
   "cell_type": "markdown",
   "metadata": {
    "ExecuteTime": {
     "end_time": "2020-12-21T19:33:42.687725Z",
     "start_time": "2020-12-21T19:33:42.681341Z"
    }
   },
   "source": [
    "Do that for the pendulum function. Does it look like you expect?"
   ]
  },
  {
   "cell_type": "markdown",
   "metadata": {},
   "source": [
    "Do that for the pendulum function. Does it look like you expect"
   ]
  },
  {
   "cell_type": "code",
   "execution_count": null,
   "metadata": {},
   "outputs": [],
   "source": []
  },
  {
   "cell_type": "markdown",
   "metadata": {},
   "source": [
    "## Cartpole Env"
   ]
  },
  {
   "cell_type": "markdown",
   "metadata": {},
   "source": [
    "Observation space:\n",
    " \n",
    "0       Cart Position             -4.8                    4.8\n",
    "\n",
    "1       Cart Velocity             -Inf                    Inf\n",
    "\n",
    "2       Pole Angle                -0.418 rad (-24 deg)    0.418 rad (24 deg)\n",
    "\n",
    "3       Pole Angular Velocity     -Inf                    Inf"
   ]
  },
  {
   "cell_type": "markdown",
   "metadata": {},
   "source": [
    "Try to adapt the plotting function that it also works in higher input spaces where all other inputs are 0"
   ]
  },
  {
   "cell_type": "code",
   "execution_count": null,
   "metadata": {
    "ExecuteTime": {
     "end_time": "2020-12-21T18:54:50.314898Z",
     "start_time": "2020-12-21T18:54:49.995191Z"
    }
   },
   "outputs": [],
   "source": [
    "figQ = plot_Q_function_generic(q_agent.Q, input_dims=o_space.shape[0], plot_dim1=0, plot_dim2=2, \n",
    "                       label_dim1=\"Cart Pos\", label_dim2=\"Pole Angle\")"
   ]
  },
  {
   "cell_type": "code",
   "execution_count": null,
   "metadata": {
    "ExecuteTime": {
     "end_time": "2020-12-21T18:55:35.601378Z",
     "start_time": "2020-12-21T18:55:35.249950Z"
    }
   },
   "outputs": [],
   "source": [
    "figQ = plot_Q_function_generic(q_agent.Q, input_dims=o_space.shape[0], plot_dim1=0, plot_dim2=1, \n",
    "                       label_dim1=\"Cart Pos\", label_dim2=\"Cart Vel\")"
   ]
  },
  {
   "cell_type": "code",
   "execution_count": null,
   "metadata": {
    "ExecuteTime": {
     "end_time": "2020-12-21T18:56:35.399287Z",
     "start_time": "2020-12-21T18:56:35.347982Z"
    }
   },
   "outputs": [],
   "source": [
    "figQ = plot_Q_function_generic(q_agent.Q, input_dims=o_space.shape[0], plot_dim1=2, plot_dim2=3, \n",
    "                       label_dim1=\"Pol Angle\", label_dim2=\"Pole Vel\")"
   ]
  },
  {
   "cell_type": "code",
   "execution_count": null,
   "metadata": {},
   "outputs": [],
   "source": [
    "# env_name = 'Acrobot-v1'\n",
    "# env_name = 'MountainCar-v0'\n",
    "# env_name = 'LunarLander-v2'"
   ]
  }
 ],
 "metadata": {
  "kernelspec": {
   "display_name": ".env_RL_course",
   "language": "python",
   "name": "python3"
  },
  "language_info": {
   "codemirror_mode": {
    "name": "ipython",
    "version": 3
   },
   "file_extension": ".py",
   "mimetype": "text/x-python",
   "name": "python",
   "nbconvert_exporter": "python",
   "pygments_lexer": "ipython3",
   "version": "3.12.4"
  },
  "toc": {
   "base_numbering": 1,
   "nav_menu": {},
   "number_sections": true,
   "sideBar": true,
   "skip_h1_title": false,
   "title_cell": "Table of Contents",
   "title_sidebar": "Contents",
   "toc_cell": false,
   "toc_position": {},
   "toc_section_display": true,
   "toc_window_display": false
  }
 },
 "nbformat": 4,
 "nbformat_minor": 1
}
